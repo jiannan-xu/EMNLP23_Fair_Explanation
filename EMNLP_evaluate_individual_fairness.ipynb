{
 "cells": [
  {
   "cell_type": "code",
   "execution_count": 1,
   "id": "ce9c32ef-f735-4a4e-8fe6-10b002eca9d7",
   "metadata": {},
   "outputs": [],
   "source": [
    "from IPython.core.interactiveshell import InteractiveShell\n",
    "InteractiveShell.ast_node_interactivity = 'all'\n",
    "\n",
    "import numpy as np\n",
    "import csv\n",
    "import pandas as pd\n",
    "\n",
    "import itertools"
   ]
  },
  {
   "cell_type": "code",
   "execution_count": 2,
   "id": "bdaf9152",
   "metadata": {},
   "outputs": [],
   "source": [
    "df = pd.read_csv('data/EMNLP_merged_Qualtrics_numeric_and_Prolific_allRaces_cleaned_with_all_Metrics.csv')\n",
    "\n",
    "# Filter out yellow flags and red flags rows\n",
    "\n",
    "column_name = 'Quality_flag'\n",
    "excluded_values = ['red']  \n",
    "\n",
    "# Create a mask to identify rows with values to be excluded\n",
    "mask = df[column_name].isin(excluded_values)\n",
    "\n",
    "# Apply the mask to exclude the rows from the data frame\n",
    "df_filtered = df[~mask]\n",
    "\n",
    "# Save the filtered data frame to a new CSV file\n",
    "#df_filtered.to_csv('FairX_merged_Qualtrics_numeric_and_Prolific_allRaces_cleaned_with_5Metrics_green.csv', index=False)"
   ]
  },
  {
   "cell_type": "code",
   "execution_count": 3,
   "id": "8bcbfbe2-8716-431b-a5d3-b162d27c85d0",
   "metadata": {},
   "outputs": [
    {
     "name": "stdout",
     "output_type": "stream",
     "text": [
      "df_filtered.columns: Index(['Quality_flag', 'Bias-start_1', 'Bias-start_2', 'Bias-start_3',\n",
      "       'Bias-start-rationale', 'Disc-start_1', 'Disc-start_2', 'Disc-start_3',\n",
      "       'Disc-start_4', 'Disc-start_5', 'Disc-start_6', 'Disc-start-rationale',\n",
      "       'IndFair-1', 'IndFair-2', 'IndFair-3', 'IndFair-4', 'IndFair-5',\n",
      "       'IndFair-6', 'IndFair-7', 'IndFair-8', 'IndFair-9', 'Disc-end_1',\n",
      "       'Disc-end_2', 'Disc-end_3', 'Disc-end_4', 'Disc-end_5', 'Disc-end_6',\n",
      "       'Disc-end-rationale', 'Bias-end_1', 'Bias-end_2', 'Bias-end_3',\n",
      "       'Bias-end_4', 'Bias-end-rationale', 'Percv-work_1', 'Percv-work_2',\n",
      "       'Percv-work_3', 'Percv-work_4', 'Percv-work_5', 'Percv-work_6',\n",
      "       'Percv-work-rationale', 'PROLIFIC_PID', 'Asian_race',\n",
      "       'Explanation_style', 'Prolific_Participant_id',\n",
      "       'Prolific_Total_approvals', 'Prolific_Fluent_languages', 'Prolific_Age',\n",
      "       'Prolific_Sex', 'Prolific_Ethnicity_simplified',\n",
      "       'Prolific_Country_of_birth', 'Prolific_Country_of_residence',\n",
      "       'Prolific_Nationality', 'Prolific_Language', 'Prolific_Student_status',\n",
      "       'Prolific_Employment_status', 'Timer1_Page Submit', 'Predict1',\n",
      "       'Rationale1', 'Timer2_Page Submit', 'Predict2', 'Rationale2',\n",
      "       'Timer3_Page Submit', 'Predict3', 'Rationale3', 'Timer4_Page Submit',\n",
      "       'Predict4', 'Rationale4', 'Timer5_Page Submit', 'Predict5',\n",
      "       'Rationale5', 'Timer6_Page Submit', 'Predict6', 'Rationale6',\n",
      "       'Attention', 'Attention-ration', 'Timer7_Page Submit', 'Predict7',\n",
      "       'Rationale7', 'Timer8_Page Submit', 'Predict8', 'Rationale8',\n",
      "       'Timer9_Page Submit', 'Predict9', 'Rationale9', 'Timer10_Page Submit',\n",
      "       'Predict10', 'Rationale10', 'Timer11_Page Submit', 'Predict11',\n",
      "       'Rationale11', 'Timer12_Page Submit', 'Predict12', 'Rationale12',\n",
      "       'accuracy', 'stereotype_activation', 'mental_discomfort',\n",
      "       'perceived_workload', 'label_time'],\n",
      "      dtype='object')\n",
      "df_filtered_w_indfair_text.head():   Quality_flag  Bias-start_1  Bias-start_2  Bias-start_3  \\\n",
      "0        green             1             3             3   \n",
      "1        green             1             1             1   \n",
      "2        green             4             5             5   \n",
      "3        green             1             5             3   \n",
      "4        green             2             4             3   \n",
      "\n",
      "                                Bias-start-rationale  Disc-start_1  \\\n",
      "0                                                NaN             2   \n",
      "1                                                NaN             1   \n",
      "2  There are older and rural populations that sti...             1   \n",
      "3                                                NaN             2   \n",
      "4                                                NaN             1   \n",
      "\n",
      "   Disc-start_2  Disc-start_3  Disc-start_4  Disc-start_5  ...  \\\n",
      "0             2             2             1             1  ...   \n",
      "1             1             1             1             1  ...   \n",
      "2             1             1             1             1  ...   \n",
      "3             1             1             1             1  ...   \n",
      "4             1             1             1             1  ...   \n",
      "\n",
      "                Prolific-ID  \\\n",
      "0  53987712fdf99b68e3a45021   \n",
      "1  5658000ca9872d0011e1ba26   \n",
      "2  56bae08f30d6b30005f8537a   \n",
      "3  595bdc5b57e9520001f78eef   \n",
      "4  59c3289b8e6ea10001f7b926   \n",
      "\n",
      "                                      IndFair-1_text  \\\n",
      "0                                                 No   \n",
      "1                                                 No   \n",
      "2                                                 No   \n",
      "3                                                 No   \n",
      "4  Yes: online hate speech based on a non-race se...   \n",
      "\n",
      "                                      IndFair-2_text    IndFair-3_text  \\\n",
      "0  Yes: verbal hate speech against Asian but not ...  1 month - 1 year   \n",
      "1                                                 No             Never   \n",
      "2                                                 No   1 day - 1 month   \n",
      "3            Yes: verbal hate speech against Chinese   1 day - 1 month   \n",
      "4                                                 No  1 year - 5 years   \n",
      "\n",
      "                                      IndFair-4_text  \\\n",
      "0  Moved to the USA at an age lower than 5 years old   \n",
      "1                                    Born in the USA   \n",
      "2                                    Born in the USA   \n",
      "3                                    Born in the USA   \n",
      "4  Moved to the USA at an age between 5 and 18 ye...   \n",
      "\n",
      "                                      IndFair-5_text  IndFair-6_text  \\\n",
      "0  A Sinosphere country (Japan, North/South Korea...               1   \n",
      "1                                No Asian background               0   \n",
      "2                                No Asian background               1   \n",
      "3                        Taiwan, Hong Kong, or Macau               1   \n",
      "4  An East Asian or Southeast Asian country not m...               1   \n",
      "\n",
      "   IndFair-7_text                                     IndFair-8_text  \\\n",
      "0       Necessary  Banning the hate speech creator from the relev...   \n",
      "1       Necessary  Banning the hate speech creator from the relev...   \n",
      "2       Necessary  Civil damages (such as financial compensation ...   \n",
      "3  Very necessary  Banning the hate speech creator from the relev...   \n",
      "4       Necessary  Deleting the hateful content (such as specific...   \n",
      "\n",
      "   IndFair-9_text  \n",
      "0          Weekly  \n",
      "1  (Almost) never  \n",
      "2         Monthly  \n",
      "3  (Almost) never  \n",
      "4  (Almost) never  \n",
      "\n",
      "[5 rows x 108 columns]\n"
     ]
    }
   ],
   "source": [
    "print('df_filtered.columns:', df_filtered.columns)\n",
    "\n",
    "# Merge the main result csv with the csv with full-text options of individual similarity features\n",
    "df_indfair_text = pd.read_csv('data/EMNLP_both_races_text_IndFair.csv')\n",
    "\n",
    "# print('df_indfair_text:', df_indfair_text)\n",
    "\n",
    "df_filtered_w_indfair_text = pd.merge(df_filtered, df_indfair_text, left_on='PROLIFIC_PID', right_on='Prolific-ID', how='left', suffixes=(None, '_text'))\n",
    "\n",
    "\n",
    "\n",
    "#df_filtered_w_indfair_text.drop(columns=['IndFair-1', 'IndFair-2', 'IndFair-3', 'IndFair-4', 'IndFair-5', 'IndFair-6', 'IndFair-7', 'IndFair-8', 'IndFair-9'])\n",
    "\n",
    "print('df_filtered_w_indfair_text.head():', df_filtered_w_indfair_text.head())\n"
   ]
  },
  {
   "cell_type": "code",
   "execution_count": 4,
   "id": "1559d0ef-6bc6-41da-9614-a161bec4e5d4",
   "metadata": {},
   "outputs": [],
   "source": [
    "df_filtered_w_indfair_text.to_csv('df_filtered_w_indfair_text.csv')"
   ]
  },
  {
   "cell_type": "code",
   "execution_count": 5,
   "id": "040405df-7faa-418e-8023-0f7a772e86fe",
   "metadata": {},
   "outputs": [],
   "source": [
    "#Convert the text answers to numeric, normalized, (between 0 and 1), and equidistant values to calculate individual similarity\n",
    "IndFair_1_text_to_score_map = {'Yes: online hate speech against Chinese':0/4, \n",
    "                               'Yes: online hate speech against Asian but not Chinese':1/4,\n",
    "                               'Yes: online hate speech against a non-Asian race/ethnicity (such as against Black, Hispanic, etc.)':2/4,\n",
    "                               'Yes: online hate speech based on a non-race sensitive attribute (such as gender, sexual orientation, etc.)':3/4,\n",
    "                               'No':4/4,\n",
    "                               #'Prefer not to answer':float(\"nan\")\n",
    "                               'Prefer not to answer':np.nan\n",
    "                              }\n",
    "\n",
    "IndFair_2_text_to_score_map = {'Yes: verbal hate speech against Chinese':0/4, \n",
    "                               'Yes: online hate speech against Asian but not Chinese':1/4,\n",
    "                               'Yes: online hate speech against a non-Asian race/ethnicity (such as against Black, Hispanic, etc.)':2/4,\n",
    "                               'Yes: online hate speech based on a non-race sensitive attribute (such as gender, sexual orientation, etc.)':3/4,\n",
    "                               'No':4/4,\n",
    "                               #'Prefer not to answer':float(\"nan\")\n",
    "                               'Prefer not to answer':np.nan\n",
    "                              }\n",
    "\n",
    "IndFair_3_text_to_score_map = {'Never':0/4, \n",
    "                               '1 day - 1 month':1/4,\n",
    "                               '1 month - 1 year':2/4,\n",
    "                               '1 year - 5 years':3/4,\n",
    "                               'Over 5 years':4/4,\n",
    "                               #'Prefer not to answer':float(\"nan\")\n",
    "                               'Prefer not to answer':np.nan\n",
    "                              }\n",
    "\n",
    "IndFair_4_text_to_score_map = {'Born in the USA':0/4, \n",
    "                               'Moved to the USA at an age lower than 5 years old':1/4,\n",
    "                               'Moved to the USA at an age between 5 and 18 years old':2/4,\n",
    "                               'Moved to the USA at an age between 18 and 30 years old':3/4,\n",
    "                               'Moved to the USA at an age higher than 30 years old':4/4,\n",
    "                               #'Prefer not to answer':float(\"nan\")\n",
    "                               'Prefer not to answer':np.nan\n",
    "                              }\n",
    "\n",
    "IndFair_5_text_to_score_map = {'Mainland China':0/5, \n",
    "                               'Taiwan, Hong Kong, or Macau':1/5,\n",
    "                               'A Sinosphere country (Japan, North/South Korea, or Vietnam)':2/5,\n",
    "                               'An East Asian or Southeast Asian country not mentioned above (such as Mongolia, Singapore, etc.)':3/5,\n",
    "                               'An Asian country outside East/Southeast Asia':4/5,\n",
    "                               'No Asian background':5/5,\n",
    "                               #'Prefer not to answer':float(\"nan\")\n",
    "                               'Prefer not to answer':np.nan\n",
    "                              }\n",
    "\n",
    "IndFair_6_text_to_score_map = {'0':0/3, \n",
    "                               '1':1/3,\n",
    "                               '2':2/3,\n",
    "                               '3 or more':3/3,\n",
    "                               #'Prefer not to answer':float(\"nan\")\n",
    "                               'Prefer not to answer':np.nan\n",
    "                              }\n",
    "\n",
    "IndFair_7_text_to_score_map = {'Very unnecessary':0/4, \n",
    "                               'Unnecessary':1/4,\n",
    "                               'Neutral':2/4,\n",
    "                               'Necessary':3/4,\n",
    "                               'Very necessary':4/4\n",
    "                              }\n",
    "\n",
    "IndFair_8_text_to_score_map = {'No sanction':0/4, \n",
    "                               'Deleting the hateful content (such as specific hate tweets)':1/4,\n",
    "                               'Banning the hate speech creator from the relevant social media platform':2/4,\n",
    "                               'Civil damages (such as financial compensation for the victims’ mental sufferings)':3/4,\n",
    "                               'Criminal punishment (such as community service, probation, jail time)':4/4\n",
    "                              }\n",
    "\n",
    "IndFair_9_text_to_score_map = {'(Almost) always':0/5, \n",
    "                               'Daily':1/5,\n",
    "                               'Weekly':2/5,\n",
    "                               'Monthly':3/5,\n",
    "                               'Yearly':4/5,\n",
    "                               '(Almost) never':5/5\n",
    "                              }"
   ]
  },
  {
   "cell_type": "code",
   "execution_count": 6,
   "id": "f42a9776-0b83-42dd-b8ca-0ab37883cff9",
   "metadata": {},
   "outputs": [],
   "source": [
    "PROLIFIC_PID_to_accuracy_dict = dict(zip(df['PROLIFIC_PID'], df['accuracy']))\n",
    "PROLIFIC_PID_to_stereotype_activation_dict = dict(zip(df['PROLIFIC_PID'], df['stereotype_activation']))\n",
    "PROLIFIC_PID_to_mental_discomfort_dict = dict(zip(df['PROLIFIC_PID'], df['mental_discomfort']))\n",
    "PROLIFIC_PID_to_perceived_workload_dict = dict(zip(df['PROLIFIC_PID'], df['perceived_workload']))\n",
    "PROLIFIC_PID_to_label_time_dict = dict(zip(df['PROLIFIC_PID'], df['label_time']))"
   ]
  },
  {
   "cell_type": "code",
   "execution_count": 7,
   "id": "92f6b7c8-4d3a-4493-bcd4-bda5f9c828a2",
   "metadata": {},
   "outputs": [
    {
     "name": "stdout",
     "output_type": "stream",
     "text": [
      "df_IndFair.head():                PROLIFIC_PID Explanation_style  IndFair-1_score  \\\n",
      "0  53987712fdf99b68e3a45021                NE             1.00   \n",
      "1  5658000ca9872d0011e1ba26                NE             1.00   \n",
      "2  56bae08f30d6b30005f8537a                NE             1.00   \n",
      "3  595bdc5b57e9520001f78eef                NE             1.00   \n",
      "4  59c3289b8e6ea10001f7b926                NE             0.75   \n",
      "\n",
      "   IndFair-2_score  IndFair-3_score  IndFair-4_score  IndFair-5_score  \\\n",
      "0              NaN             0.50             0.25              0.4   \n",
      "1              1.0             0.00             0.00              1.0   \n",
      "2              1.0             0.25             0.00              1.0   \n",
      "3              0.0             0.25             0.00              0.2   \n",
      "4              1.0             0.75             0.50              0.6   \n",
      "\n",
      "   IndFair-6_score  IndFair-7_score  IndFair-8_score  IndFair-9_score  \n",
      "0         0.333333             0.75             0.50              0.4  \n",
      "1         0.000000             0.75             0.50              1.0  \n",
      "2         0.333333             0.75             0.75              0.6  \n",
      "3         0.333333             1.00             0.50              1.0  \n",
      "4         0.333333             0.75             0.25              1.0  \n"
     ]
    }
   ],
   "source": [
    "df_filtered_w_indfair_text['IndFair-1_score'] = df_filtered_w_indfair_text['IndFair-1_text'].map(IndFair_1_text_to_score_map)\n",
    "df_filtered_w_indfair_text['IndFair-2_score'] = df_filtered_w_indfair_text['IndFair-2_text'].map(IndFair_2_text_to_score_map)\n",
    "df_filtered_w_indfair_text['IndFair-3_score'] = df_filtered_w_indfair_text['IndFair-3_text'].map(IndFair_3_text_to_score_map)\n",
    "df_filtered_w_indfair_text['IndFair-4_score'] = df_filtered_w_indfair_text['IndFair-4_text'].map(IndFair_4_text_to_score_map)\n",
    "df_filtered_w_indfair_text['IndFair-5_score'] = df_filtered_w_indfair_text['IndFair-5_text'].map(IndFair_5_text_to_score_map)\n",
    "df_filtered_w_indfair_text['IndFair-6_score'] = df_filtered_w_indfair_text['IndFair-6_text'].map(IndFair_6_text_to_score_map)\n",
    "df_filtered_w_indfair_text['IndFair-7_score'] = df_filtered_w_indfair_text['IndFair-7_text'].map(IndFair_7_text_to_score_map)\n",
    "df_filtered_w_indfair_text['IndFair-8_score'] = df_filtered_w_indfair_text['IndFair-8_text'].map(IndFair_8_text_to_score_map)\n",
    "df_filtered_w_indfair_text['IndFair-9_score'] = df_filtered_w_indfair_text['IndFair-9_text'].map(IndFair_9_text_to_score_map)\n",
    "\n",
    "df_IndFair = df_filtered_w_indfair_text[['PROLIFIC_PID', 'Explanation_style', 'IndFair-1_score', 'IndFair-2_score', 'IndFair-3_score', 'IndFair-4_score',\n",
    "                                                   'IndFair-5_score', 'IndFair-6_score', 'IndFair-7_score', 'IndFair-8_score', 'IndFair-9_score']]\n",
    "                                                   #'accuracy', 'stereotype_activation', 'mental_discomfort', 'perceived_workload', 'label_time']]\n",
    "\n",
    "print('df_IndFair.head():', df_IndFair.head())"
   ]
  },
  {
   "cell_type": "code",
   "execution_count": 8,
   "id": "01816ff0-bb2e-4d04-b507-6ffe88f58b79",
   "metadata": {},
   "outputs": [
    {
     "name": "stdout",
     "output_type": "stream",
     "text": [
      "df_NE.head: <bound method NDFrame.head of                 PROLIFIC_PID Explanation_style  IndFair-1_score  \\\n",
      "0   53987712fdf99b68e3a45021                NE             1.00   \n",
      "1   5658000ca9872d0011e1ba26                NE             1.00   \n",
      "2   56bae08f30d6b30005f8537a                NE             1.00   \n",
      "3   595bdc5b57e9520001f78eef                NE             1.00   \n",
      "4   59c3289b8e6ea10001f7b926                NE             0.75   \n",
      "..                       ...               ...              ...   \n",
      "88  6018a5c0e1600b187ccb8693                NE             1.00   \n",
      "89  60fcd954f5ff1656599b53c9                NE             0.50   \n",
      "90  61004696895aeda4629ecd6e                NE             0.75   \n",
      "91  63d13bbf2993cf5e372b7994                NE             1.00   \n",
      "92  63d423b81f5e313b9958723c                NE             1.00   \n",
      "\n",
      "    IndFair-2_score  IndFair-3_score  IndFair-4_score  IndFair-5_score  \\\n",
      "0               NaN             0.50             0.25              0.4   \n",
      "1               1.0             0.00             0.00              1.0   \n",
      "2               1.0             0.25             0.00              1.0   \n",
      "3               0.0             0.25             0.00              0.2   \n",
      "4               1.0             0.75             0.50              0.6   \n",
      "..              ...              ...              ...              ...   \n",
      "88              1.0             0.00             0.00              0.8   \n",
      "89              NaN             0.00             0.00              1.0   \n",
      "90              NaN             0.00             0.00              1.0   \n",
      "91              1.0             0.50             0.00              0.0   \n",
      "92              1.0             0.00             0.00              0.4   \n",
      "\n",
      "    IndFair-6_score  IndFair-7_score  IndFair-8_score  IndFair-9_score  \n",
      "0          0.333333             0.75             0.50              0.4  \n",
      "1          0.000000             0.75             0.50              1.0  \n",
      "2          0.333333             0.75             0.75              0.6  \n",
      "3          0.333333             1.00             0.50              1.0  \n",
      "4          0.333333             0.75             0.25              1.0  \n",
      "..              ...              ...              ...              ...  \n",
      "88         0.000000             0.25             0.00              0.8  \n",
      "89         0.000000             0.00             0.75              1.0  \n",
      "90         0.000000             0.75             0.50              0.6  \n",
      "91         0.333333             0.50             0.25              1.0  \n",
      "92         0.333333             0.75             0.25              0.8  \n",
      "\n",
      "[93 rows x 11 columns]>\n"
     ]
    }
   ],
   "source": [
    "#Divide the df into 3 smaller dfs by explanation style\n",
    "grouped = df_IndFair.groupby('Explanation_style')\n",
    "# Iterate over each group and create smaller data frames\n",
    "smaller_dfs_dict = {}\n",
    "for Explanation_style, group in grouped:\n",
    "    #print('Explanation_style:', Explanation_style)\n",
    "    smaller_dfs_dict[Explanation_style] = group\n",
    "    \n",
    "#print('smaller_dfs_dict:', smaller_dfs_dict)\n",
    "\n",
    "df_NE = smaller_dfs_dict['NE']\n",
    "df_SM = smaller_dfs_dict['SM']\n",
    "df_CE = smaller_dfs_dict['CE']\n",
    "\n",
    "df_NE.to_csv('df_NE.csv', index=False)\n",
    "df_SM.to_csv('df_SM.csv', index=False)\n",
    "df_CE.to_csv('df_CE.csv', index=False)\n",
    "\n",
    "print('df_NE.head:', df_NE.head)\n"
   ]
  },
  {
   "cell_type": "code",
   "execution_count": 9,
   "id": "4d30de9f-bddb-4396-8630-e71253354dc9",
   "metadata": {},
   "outputs": [
    {
     "name": "stdout",
     "output_type": "stream",
     "text": [
      "largest_avg_distance: 0.7574074074074075\n",
      "largest_avg_distance: 0.8259259259259258\n",
      "largest_avg_distance: 0.762962962962963\n"
     ]
    }
   ],
   "source": [
    "import numpy as np\n",
    "import pandas as pd\n",
    "from itertools import combinations\n",
    "from scipy.spatial.distance import cdist\n",
    "\n",
    "def find_closest_pairs(df, k=2000):\n",
    "    # Convert the dataframe to a NumPy array for easy calculations\n",
    "    vectors = df.to_numpy()\n",
    "\n",
    "    # Extract the PROLIFIC_PID (index) dimension (0) and the rest of the dimensions (IndFair_dimensions)\n",
    "    PROLIFIC_PIDs = vectors[:, 0]\n",
    "    #print('PROLIFIC_PIDs:', PROLIFIC_PIDs)\n",
    "    IndFair_dimensions = vectors[:, 2:]\n",
    "    #print('IndFair_dimensions:', IndFair_dimensions)\n",
    " \n",
    "    pairwise_avg_distances = []\n",
    "    for i, j in combinations(range(len(IndFair_dimensions)), 2):\n",
    "        #print('IndFair_dimensions[i]:', IndFair_dimensions[i])\n",
    "        #print('IndFair_dimensions[j]:', IndFair_dimensions[j])\n",
    "        valid_indices = ~np.logical_or(np.isnan(list(IndFair_dimensions[i])), np.isnan(list(IndFair_dimensions[j])))\n",
    "\n",
    "        if np.any(valid_indices):\n",
    "            avg_distance = np.mean(np.abs(IndFair_dimensions[i, valid_indices] - IndFair_dimensions[j, valid_indices]))\n",
    "            pairwise_avg_distances.append((i, j, PROLIFIC_PIDs[i], PROLIFIC_PIDs[j], avg_distance))\n",
    "\n",
    "    \n",
    "    \n",
    "    # Sort pairs by avg_distance (index 4 in tuple above) in ascending order\n",
    "    pairwise_avg_distances.sort(key=lambda x: x[4])\n",
    "\n",
    "    # Get the top k pairs\n",
    "    top_k_pairs = pairwise_avg_distances[:k]\n",
    "    farthest_pairs = pairwise_avg_distances[-1]\n",
    "    largest_avg_distance = farthest_pairs[4]\n",
    "    \n",
    "    print('largest_avg_distance:', largest_avg_distance)\n",
    "    \n",
    "    k_closest_pairs = []\n",
    "\n",
    "    # Print the top k pairs of vectors\n",
    "    for i, (idx1, idx2, PROLIFIC_PID1, PROLIFIC_PID2, avg_distance) in enumerate(top_k_pairs, 1):\n",
    "        #print(f\"Pair {i}:\")\n",
    "        #print(f\"Vector 1 (N={PROLIFIC_PID1}): {IndFair_dimensions[idx1]}\")\n",
    "        #print(f\"Vector 2 (N={PROLIFIC_PID2}): {IndFair_dimensions[idx2]}\")\n",
    "        #print(f\"PROLIFIC_PID 1: {PROLIFIC_PID1}\")\n",
    "        #print(f\"PROLIFIC_PID 2: {PROLIFIC_PID2}\")\n",
    "        #print(f\"Average Distance: {avg_distance}\\n\")\n",
    "        \n",
    "        k_closest_pairs += [(PROLIFIC_PID1, PROLIFIC_PID2, avg_distance)]\n",
    "        \n",
    "    return k_closest_pairs, largest_avg_distance\n",
    "        \n",
    "        \n",
    "    \n",
    "k_closest_pairs_NE, largest_avg_distance_NE = find_closest_pairs(df=df_NE)\n",
    "#print('k_closest_pairs_NE:', k_closest_pairs_NE)\n",
    "\n",
    "k_closest_pairs_SM, largest_avg_distance_SM = find_closest_pairs(df=df_SM)\n",
    "#print('k_closest_pairs_SM:', k_closest_pairs_SM)\n",
    "\n",
    "k_closest_pairs_CE, largest_avg_distance_CE = find_closest_pairs(df=df_CE)\n",
    "#print('k_closest_pairs_CE:', k_closest_pairs_CE)"
   ]
  },
  {
   "cell_type": "code",
   "execution_count": 10,
   "id": "c0017e37-d00c-40eb-92a1-75ef02bce5d5",
   "metadata": {},
   "outputs": [],
   "source": [
    "from scipy.stats import sem #standard error of the mean\n",
    "\n",
    "#Calculate difference between any two outputs of each pair of two highly similar individuals, sum such differences across the top k pairs \n",
    "#and take this sum as a proxy for `individual unfairness' score w.r.t. that output feature\n",
    "def compute_diff_output_pairs(k_closest_pairs, PROLIFIC_PID_to_output_dict): \n",
    "    output_diff_list = []\n",
    "    weighted_output_diff_list = []\n",
    "    for close_pair in k_closest_pairs:\n",
    "        first_PROLIFIC_PID = close_pair[0]\n",
    "        second_PROLIFIC_PID = close_pair[1]\n",
    "        avg_distance = close_pair[2]\n",
    "        first_output = PROLIFIC_PID_to_output_dict[first_PROLIFIC_PID]\n",
    "        second_output = PROLIFIC_PID_to_output_dict[second_PROLIFIC_PID]\n",
    "        output_diff = abs(first_output - second_output)\n",
    "        #Output difference weighted by (1-avg_distance) to count the output diff of higher-similarity individuals more \n",
    "        weighted_output_diff = (1-avg_distance)*abs(first_output - second_output)\n",
    "        output_diff_list += [output_diff]\n",
    "        weighted_output_diff_list += [weighted_output_diff]\n",
    "        \n",
    "    output_diff_mean = np.mean(output_diff_list)\n",
    "    output_diff_sem = sem(output_diff_list)   #standard error of the mean\n",
    "    \n",
    "    weighted_output_diff_mean = np.mean(weighted_output_diff_list)\n",
    "    weighted_output_diff_sem = sem(weighted_output_diff_list)   #standard error of the mean\n",
    "    \n",
    "    #print('output_diff_list:', output_diff_list)\n",
    "    #print('output_diff_mean:', output_diff_mean)\n",
    "    #print('output_diff_sem:', output_diff_sem)\n",
    "    \n",
    "    print('weighted_output_diff_mean:', weighted_output_diff_mean)\n",
    "    #print('weighted_output_diff_sem:', weighted_output_diff_sem)\n",
    "    \n",
    "    return output_diff_list, weighted_output_diff_list"
   ]
  },
  {
   "cell_type": "code",
   "execution_count": 11,
   "id": "bdfdde86-33a4-4e6c-b9fe-872436604851",
   "metadata": {},
   "outputs": [],
   "source": [
    "import scipy.stats as stats\n"
   ]
  },
  {
   "cell_type": "code",
   "execution_count": 12,
   "id": "1191ea18-bbb5-4488-a572-11cf6b220644",
   "metadata": {},
   "outputs": [],
   "source": [
    "#!python -m pip install statsmodels"
   ]
  },
  {
   "cell_type": "code",
   "execution_count": 13,
   "id": "0ce644e7-e6a3-4014-a588-cb4f1ef0a02a",
   "metadata": {},
   "outputs": [],
   "source": [
    "#import statsmodels.stats.weightstats.ttest_ind"
   ]
  },
  {
   "cell_type": "code",
   "execution_count": 14,
   "id": "030c81ce-b5d9-4840-a252-62a9540a9923",
   "metadata": {},
   "outputs": [
    {
     "name": "stdout",
     "output_type": "stream",
     "text": [
      "weighted_output_diff_mean: 0.10017758487927221\n",
      "weighted_output_diff_mean: 0.09722716183601801\n",
      "weighted_output_diff_mean: 0.1020758625060389\n"
     ]
    },
    {
     "data": {
      "text/plain": [
       "Ttest_indResult(statistic=1.1640670930246826, pvalue=0.2444662840348074)"
      ]
     },
     "execution_count": 14,
     "metadata": {},
     "output_type": "execute_result"
    },
    {
     "data": {
      "text/plain": [
       "Ttest_indResult(statistic=-1.8642691913037372, pvalue=0.06235714515379034)"
      ]
     },
     "execution_count": 14,
     "metadata": {},
     "output_type": "execute_result"
    },
    {
     "data": {
      "text/plain": [
       "Ttest_indResult(statistic=0.7100150903226393, pvalue=0.4777361877563391)"
      ]
     },
     "execution_count": 14,
     "metadata": {},
     "output_type": "execute_result"
    },
    {
     "data": {
      "text/plain": [
       "'\\nweighted_output_diff_mean: 0.12242245363538196\\nweighted_output_diff_mean: 0.11732060181268056\\nweighted_output_diff_mean: 0.11802314805359725\\nTtest_indResult(statistic=0.38615920951735766, pvalue=0.6997933851720435)\\nTtest_indResult(statistic=-0.05704012066617719, pvalue=0.9545707560179117)\\nTtest_indResult(statistic=-0.34457989396966654, pvalue=0.730775941247083)\\n'"
      ]
     },
     "execution_count": 14,
     "metadata": {},
     "output_type": "execute_result"
    },
    {
     "data": {
      "text/plain": [
       "'\\nweighted_output_diff_mean: 0.11286053236062848\\nweighted_output_diff_mean: 0.11606514548602034\\nweighted_output_diff_mean: 0.11483767353387501\\nTtest_indResult(statistic=-0.3454084610268495, pvalue=0.7299697998638031)\\nTtest_indResult(statistic=0.12919316715699108, pvalue=0.8972700650636408)\\nTtest_indResult(statistic=0.20566177064399263, pvalue=0.8371602744404645)\\n'"
      ]
     },
     "execution_count": 14,
     "metadata": {},
     "output_type": "execute_result"
    },
    {
     "data": {
      "text/plain": [
       "'\\nweighted_output_diff_mean: 0.11229465661020718\\nweighted_output_diff_mean: 0.11314466901152034\\nweighted_output_diff_mean: 0.11791249166159873\\nTtest_indResult(statistic=-0.1344350194804932, pvalue=0.893092489489393)\\nTtest_indResult(statistic=-0.7329156114650753, pvalue=0.46382512985171986)\\nTtest_indResult(statistic=0.8353950533526215, pvalue=0.4037453571743087)\\n'"
      ]
     },
     "execution_count": 14,
     "metadata": {},
     "output_type": "execute_result"
    },
    {
     "data": {
      "text/plain": [
       "'\\nweighted_output_diff_mean: 0.10945435954891644\\nweighted_output_diff_mean: 0.10761800315786277\\nweighted_output_diff_mean: 0.11445407843968579\\nTtest_indResult(statistic=0.47663606782826035, pvalue=0.6336734166620746)\\nTtest_indResult(statistic=-1.7180944380521446, pvalue=0.08593432364245103)\\nTtest_indResult(statistic=1.218887327527163, pvalue=0.22303084772169346)\\n'"
      ]
     },
     "execution_count": 14,
     "metadata": {},
     "output_type": "execute_result"
    },
    {
     "data": {
      "text/plain": [
       "'\\nweighted_output_diff_mean: 0.10017758487927221\\nweighted_output_diff_mean: 0.09722716183601801\\nweighted_output_diff_mean: 0.1020758625060389\\nTtest_indResult(statistic=1.1640670930246828, pvalue=0.2444662840348074)\\nTtest_indResult(statistic=-1.8642691913037372, pvalue=0.06235714515379035)\\nTtest_indResult(statistic=0.7100150903226394, pvalue=0.4777361877563392)\\n'"
      ]
     },
     "execution_count": 14,
     "metadata": {},
     "output_type": "execute_result"
    },
    {
     "data": {
      "text/plain": [
       "'\\nweighted_output_diff_mean: 0.09011246142309953\\nweighted_output_diff_mean: 0.0873070511940956\\nweighted_output_diff_mean: 0.09233395264286517\\nTtest_indResult(statistic=1.7439567329841836, pvalue=0.08120505291784812)\\nTtest_indResult(statistic=-3.0267984500250247, pvalue=0.0024794540846570425)\\nTtest_indResult(statistic=1.3000639344050937, pvalue=0.19361652131074011)\\n'"
      ]
     },
     "execution_count": 14,
     "metadata": {},
     "output_type": "execute_result"
    }
   ],
   "source": [
    "accuracy_diff_list_NE, weighted_accuracy_diff_list_NE = compute_diff_output_pairs(k_closest_pairs=k_closest_pairs_NE, PROLIFIC_PID_to_output_dict=PROLIFIC_PID_to_accuracy_dict)\n",
    "accuracy_diff_list_SM, weighted_accuracy_diff_list_SM = compute_diff_output_pairs(k_closest_pairs=k_closest_pairs_SM, PROLIFIC_PID_to_output_dict=PROLIFIC_PID_to_accuracy_dict)\n",
    "accuracy_diff_list_CE, weighted_accuracy_diff_list_CE = compute_diff_output_pairs(k_closest_pairs=k_closest_pairs_CE, PROLIFIC_PID_to_output_dict=PROLIFIC_PID_to_accuracy_dict)\n",
    "\n",
    "#stats.ttest_ind(accuracy_diff_list_NE, accuracy_diff_list_SM)\n",
    "#stats.ttest_ind(accuracy_diff_list_SM, accuracy_diff_list_CE)\n",
    "#stats.ttest_ind(accuracy_diff_list_CE, accuracy_diff_list_NE)\n",
    "\n",
    "\n",
    "stats.ttest_ind(weighted_accuracy_diff_list_NE, weighted_accuracy_diff_list_SM)\n",
    "stats.ttest_ind(weighted_accuracy_diff_list_SM, weighted_accuracy_diff_list_CE)\n",
    "stats.ttest_ind(weighted_accuracy_diff_list_CE, weighted_accuracy_diff_list_NE)\n",
    "\n",
    "# Accuracy individual unfairness: \n",
    "# CE > SM (significant only when k = 4000)\n",
    "\n",
    "#For k = 100 pairs:\n",
    "'''\n",
    "weighted_output_diff_mean: 0.12242245363538196\n",
    "weighted_output_diff_mean: 0.11732060181268056\n",
    "weighted_output_diff_mean: 0.11802314805359725\n",
    "Ttest_indResult(statistic=0.38615920951735766, pvalue=0.6997933851720435)\n",
    "Ttest_indResult(statistic=-0.05704012066617719, pvalue=0.9545707560179117)\n",
    "Ttest_indResult(statistic=-0.34457989396966654, pvalue=0.730775941247083)\n",
    "'''\n",
    "\n",
    "#For k = 200 pairs:\n",
    "'''\n",
    "weighted_output_diff_mean: 0.11286053236062848\n",
    "weighted_output_diff_mean: 0.11606514548602034\n",
    "weighted_output_diff_mean: 0.11483767353387501\n",
    "Ttest_indResult(statistic=-0.3454084610268495, pvalue=0.7299697998638031)\n",
    "Ttest_indResult(statistic=0.12919316715699108, pvalue=0.8972700650636408)\n",
    "Ttest_indResult(statistic=0.20566177064399263, pvalue=0.8371602744404645)\n",
    "'''\n",
    "\n",
    "#For k = 400 pairs:\n",
    "'''\n",
    "weighted_output_diff_mean: 0.11229465661020718\n",
    "weighted_output_diff_mean: 0.11314466901152034\n",
    "weighted_output_diff_mean: 0.11791249166159873\n",
    "Ttest_indResult(statistic=-0.1344350194804932, pvalue=0.893092489489393)\n",
    "Ttest_indResult(statistic=-0.7329156114650753, pvalue=0.46382512985171986)\n",
    "Ttest_indResult(statistic=0.8353950533526215, pvalue=0.4037453571743087)\n",
    "'''\n",
    "\n",
    "#For k = 1000 pairs:\n",
    "'''\n",
    "weighted_output_diff_mean: 0.10945435954891644\n",
    "weighted_output_diff_mean: 0.10761800315786277\n",
    "weighted_output_diff_mean: 0.11445407843968579\n",
    "Ttest_indResult(statistic=0.47663606782826035, pvalue=0.6336734166620746)\n",
    "Ttest_indResult(statistic=-1.7180944380521446, pvalue=0.08593432364245103)\n",
    "Ttest_indResult(statistic=1.218887327527163, pvalue=0.22303084772169346)\n",
    "'''\n",
    "\n",
    "#For k = 2000 pairs:\n",
    "'''\n",
    "weighted_output_diff_mean: 0.10017758487927221\n",
    "weighted_output_diff_mean: 0.09722716183601801\n",
    "weighted_output_diff_mean: 0.1020758625060389\n",
    "Ttest_indResult(statistic=1.1640670930246828, pvalue=0.2444662840348074)\n",
    "Ttest_indResult(statistic=-1.8642691913037372, pvalue=0.06235714515379035)\n",
    "Ttest_indResult(statistic=0.7100150903226394, pvalue=0.4777361877563392)\n",
    "'''\n",
    "\n",
    "\n",
    "#For k = 4000 pairs:\n",
    "'''\n",
    "weighted_output_diff_mean: 0.09011246142309953\n",
    "weighted_output_diff_mean: 0.0873070511940956\n",
    "weighted_output_diff_mean: 0.09233395264286517\n",
    "Ttest_indResult(statistic=1.7439567329841836, pvalue=0.08120505291784812)\n",
    "Ttest_indResult(statistic=-3.0267984500250247, pvalue=0.0024794540846570425)\n",
    "Ttest_indResult(statistic=1.3000639344050937, pvalue=0.19361652131074011)\n",
    "'''\n",
    "\n",
    "\n"
   ]
  },
  {
   "cell_type": "code",
   "execution_count": 15,
   "id": "aa595004-ce3e-426d-9d80-ce51d5ff4d2d",
   "metadata": {},
   "outputs": [
    {
     "name": "stdout",
     "output_type": "stream",
     "text": [
      "weighted_output_diff_mean: 0.14826423605654213\n",
      "weighted_output_diff_mean: 0.17806860114868522\n",
      "weighted_output_diff_mean: 0.2170108355057328\n"
     ]
    },
    {
     "data": {
      "text/plain": [
       "Ttest_indResult(statistic=-3.911261851190705, pvalue=9.333949291234245e-05)"
      ]
     },
     "execution_count": 15,
     "metadata": {},
     "output_type": "execute_result"
    },
    {
     "data": {
      "text/plain": [
       "Ttest_indResult(statistic=-4.549287393573189, pvalue=5.54244105964181e-06)"
      ]
     },
     "execution_count": 15,
     "metadata": {},
     "output_type": "execute_result"
    },
    {
     "data": {
      "text/plain": [
       "Ttest_indResult(statistic=9.015967528727973, pvalue=2.963069430725915e-19)"
      ]
     },
     "execution_count": 15,
     "metadata": {},
     "output_type": "execute_result"
    },
    {
     "data": {
      "text/plain": [
       "'\\nweighted_output_diff_mean: 0.2577708333206667\\nweighted_output_diff_mean: 0.1597106481059375\\nweighted_output_diff_mean: 0.23621296291081945\\nTtest_indResult(statistic=2.0388121470990037, pvalue=0.042797921214456275)\\nTtest_indResult(statistic=-1.8968838836120723, pvalue=0.059298903984714574)\\nTtest_indResult(statistic=-0.5170173777963251, pvalue=0.6057210742977313)\\n'"
      ]
     },
     "execution_count": 15,
     "metadata": {},
     "output_type": "execute_result"
    },
    {
     "data": {
      "text/plain": [
       "'\\nweighted_output_diff_mean: 0.21559143515842014\\nweighted_output_diff_mean: 0.1934416335435774\\nweighted_output_diff_mean: 0.20930324068478473\\nTtest_indResult(statistic=0.6642634149818615, pvalue=0.5069063776903922)\\nTtest_indResult(statistic=-0.5123112733789307, pvalue=0.6087173512662998)\\nTtest_indResult(statistic=-0.22937008251693147, pvalue=0.8186991113961757)\\n'"
      ]
     },
     "execution_count": 15,
     "metadata": {},
     "output_type": "execute_result"
    },
    {
     "data": {
      "text/plain": [
       "'\\nweighted_output_diff_mean: 0.1945675153826337\\nweighted_output_diff_mean: 0.22787023253522024\\nweighted_output_diff_mean: 0.212732225480308\\nTtest_indResult(statistic=-1.516474208805488, pvalue=0.1297955007707865)\\nTtest_indResult(statistic=0.7087669270486124, pvalue=0.47867612152505234)\\nTtest_indResult(statistic=1.005736955644334, pvalue=0.3148469811718952)\\n'"
      ]
     },
     "execution_count": 15,
     "metadata": {},
     "output_type": "execute_result"
    },
    {
     "data": {
      "text/plain": [
       "'\\nweighted_output_diff_mean: 0.16325578698370347\\nweighted_output_diff_mean: 0.21198391750548073\\nweighted_output_diff_mean: 0.21577055771201747\\nTtest_indResult(statistic=-3.9907049664871637, pvalue=6.825476394319328e-05)\\nTtest_indResult(statistic=-0.29971795384094857, pvalue=0.7644234786867578)\\nTtest_indResult(statistic=4.782679344222651, pvalue=1.8562213112249608e-06)\\n'"
      ]
     },
     "execution_count": 15,
     "metadata": {},
     "output_type": "execute_result"
    },
    {
     "data": {
      "text/plain": [
       "'\\nweighted_output_diff_mean: 0.14826423605654213\\nweighted_output_diff_mean: 0.17806860114868522\\nweighted_output_diff_mean: 0.2170108355057328\\nTtest_indResult(statistic=-3.9112618511907056, pvalue=9.333949291234249e-05)\\nTtest_indResult(statistic=-4.549287393573189, pvalue=5.542441059641809e-06)\\nTtest_indResult(statistic=9.015967528727973, pvalue=2.963069430725915e-19)\\n'"
      ]
     },
     "execution_count": 15,
     "metadata": {},
     "output_type": "execute_result"
    },
    {
     "data": {
      "text/plain": [
       "'\\nweighted_output_diff_mean: 0.12298933251823131\\nweighted_output_diff_mean: 0.15668105431055399\\nweighted_output_diff_mean: 0.20928534224511094\\nTtest_indResult(statistic=-7.081050585897358, pvalue=1.5519174810278512e-12)\\nTtest_indResult(statistic=-9.268032837778028, pvalue=2.3967240836845375e-20)\\nTtest_indResult(statistic=16.830225569905448, pvalue=1.7283989176164353e-62)\\n'"
      ]
     },
     "execution_count": 15,
     "metadata": {},
     "output_type": "execute_result"
    }
   ],
   "source": [
    "stereotype_activation_diff_list_NE, weighted_stereotype_activation_diff_list_NE = compute_diff_output_pairs(k_closest_pairs=k_closest_pairs_NE, PROLIFIC_PID_to_output_dict=PROLIFIC_PID_to_stereotype_activation_dict)\n",
    "stereotype_activation_diff_list_SM, weighted_stereotype_activation_diff_list_SM = compute_diff_output_pairs(k_closest_pairs=k_closest_pairs_SM, PROLIFIC_PID_to_output_dict=PROLIFIC_PID_to_stereotype_activation_dict)\n",
    "stereotype_activation_diff_list_CE, weighted_stereotype_activation_diff_list_CE = compute_diff_output_pairs(k_closest_pairs=k_closest_pairs_CE, PROLIFIC_PID_to_output_dict=PROLIFIC_PID_to_stereotype_activation_dict)\n",
    "\n",
    "#stats.ttest_ind(stereotype_activation_diff_list_NE, stereotype_activation_diff_list_SM)\n",
    "#stats.ttest_ind(stereotype_activation_diff_list_SM, stereotype_activation_diff_list_CE)\n",
    "#stats.ttest_ind(stereotype_activation_diff_list_CE, stereotype_activation_diff_list_NE)\n",
    "\n",
    "stats.ttest_ind(weighted_stereotype_activation_diff_list_NE, weighted_stereotype_activation_diff_list_SM)\n",
    "stats.ttest_ind(weighted_stereotype_activation_diff_list_SM, weighted_stereotype_activation_diff_list_CE)\n",
    "stats.ttest_ind(weighted_stereotype_activation_diff_list_CE, weighted_stereotype_activation_diff_list_NE)\n",
    "\n",
    "# Stereotype activation individual unfairness: \n",
    "# SM > NE (significant when k = 1000, 2000, 4000)\n",
    "# CE > SM (significant when k = 2000, 4000)\n",
    "# CE > NE (significant when k = 1000, 2000, 4000)\n",
    "\n",
    "#For k = 100 pairs:\n",
    "'''\n",
    "weighted_output_diff_mean: 0.2577708333206667\n",
    "weighted_output_diff_mean: 0.1597106481059375\n",
    "weighted_output_diff_mean: 0.23621296291081945\n",
    "Ttest_indResult(statistic=2.0388121470990037, pvalue=0.042797921214456275)\n",
    "Ttest_indResult(statistic=-1.8968838836120723, pvalue=0.059298903984714574)\n",
    "Ttest_indResult(statistic=-0.5170173777963251, pvalue=0.6057210742977313)\n",
    "'''\n",
    "\n",
    "#For k = 200 pairs:\n",
    "'''\n",
    "weighted_output_diff_mean: 0.21559143515842014\n",
    "weighted_output_diff_mean: 0.1934416335435774\n",
    "weighted_output_diff_mean: 0.20930324068478473\n",
    "Ttest_indResult(statistic=0.6642634149818615, pvalue=0.5069063776903922)\n",
    "Ttest_indResult(statistic=-0.5123112733789307, pvalue=0.6087173512662998)\n",
    "Ttest_indResult(statistic=-0.22937008251693147, pvalue=0.8186991113961757)\n",
    "'''\n",
    "\n",
    "#For k = 400 pairs:\n",
    "'''\n",
    "weighted_output_diff_mean: 0.1945675153826337\n",
    "weighted_output_diff_mean: 0.22787023253522024\n",
    "weighted_output_diff_mean: 0.212732225480308\n",
    "Ttest_indResult(statistic=-1.516474208805488, pvalue=0.1297955007707865)\n",
    "Ttest_indResult(statistic=0.7087669270486124, pvalue=0.47867612152505234)\n",
    "Ttest_indResult(statistic=1.005736955644334, pvalue=0.3148469811718952)\n",
    "'''\n",
    "\n",
    "#For k = 1000 pairs:\n",
    "'''\n",
    "weighted_output_diff_mean: 0.16325578698370347\n",
    "weighted_output_diff_mean: 0.21198391750548073\n",
    "weighted_output_diff_mean: 0.21577055771201747\n",
    "Ttest_indResult(statistic=-3.9907049664871637, pvalue=6.825476394319328e-05)\n",
    "Ttest_indResult(statistic=-0.29971795384094857, pvalue=0.7644234786867578)\n",
    "Ttest_indResult(statistic=4.782679344222651, pvalue=1.8562213112249608e-06)\n",
    "'''\n",
    "\n",
    "#For k = 2000 pairs:\n",
    "'''\n",
    "weighted_output_diff_mean: 0.14826423605654213\n",
    "weighted_output_diff_mean: 0.17806860114868522\n",
    "weighted_output_diff_mean: 0.2170108355057328\n",
    "Ttest_indResult(statistic=-3.9112618511907056, pvalue=9.333949291234249e-05)\n",
    "Ttest_indResult(statistic=-4.549287393573189, pvalue=5.542441059641809e-06)\n",
    "Ttest_indResult(statistic=9.015967528727973, pvalue=2.963069430725915e-19)\n",
    "'''\n",
    "\n",
    "#For k = 4000 pairs:\n",
    "'''\n",
    "weighted_output_diff_mean: 0.12298933251823131\n",
    "weighted_output_diff_mean: 0.15668105431055399\n",
    "weighted_output_diff_mean: 0.20928534224511094\n",
    "Ttest_indResult(statistic=-7.081050585897358, pvalue=1.5519174810278512e-12)\n",
    "Ttest_indResult(statistic=-9.268032837778028, pvalue=2.3967240836845375e-20)\n",
    "Ttest_indResult(statistic=16.830225569905448, pvalue=1.7283989176164353e-62)\n",
    "'''"
   ]
  },
  {
   "cell_type": "code",
   "execution_count": 16,
   "id": "c22ddb99-9c6e-4382-8184-7b3a02f4c720",
   "metadata": {},
   "outputs": [
    {
     "name": "stdout",
     "output_type": "stream",
     "text": [
      "weighted_output_diff_mean: 5.055785763888889\n",
      "weighted_output_diff_mean: 3.9955488095238096\n",
      "weighted_output_diff_mean: 4.493781233465608\n"
     ]
    },
    {
     "data": {
      "text/plain": [
       "Ttest_indResult(statistic=7.440673267107299, pvalue=1.219535221817068e-13)"
      ]
     },
     "execution_count": 16,
     "metadata": {},
     "output_type": "execute_result"
    },
    {
     "data": {
      "text/plain": [
       "Ttest_indResult(statistic=-3.6449253683130873, pvalue=0.00027086980012533857)"
      ]
     },
     "execution_count": 16,
     "metadata": {},
     "output_type": "execute_result"
    },
    {
     "data": {
      "text/plain": [
       "Ttest_indResult(statistic=-3.748623848502499, pvalue=0.00018032045532610596)"
      ]
     },
     "execution_count": 16,
     "metadata": {},
     "output_type": "execute_result"
    },
    {
     "data": {
      "text/plain": [
       "'\\nweighted_output_diff_mean: 4.655125000000001\\nweighted_output_diff_mean: 5.525895833333334\\nweighted_output_diff_mean: 5.351652777777776\\nTtest_indResult(statistic=-1.0831459564462071, pvalue=0.2800608965985112)\\nTtest_indResult(statistic=0.22531267332063712, pvalue=0.82196842003369)\\nTtest_indResult(statistic=0.8735857194592426, pvalue=0.3834021779748411)\\n'"
      ]
     },
     "execution_count": 16,
     "metadata": {},
     "output_type": "execute_result"
    },
    {
     "data": {
      "text/plain": [
       "'\\nweighted_output_diff_mean: 4.780996527777778\\nweighted_output_diff_mean: 4.650804067460317\\nweighted_output_diff_mean: 5.21670138888889\\nTtest_indResult(statistic=0.24782068381686428, pvalue=0.8044009535017123)\\nTtest_indResult(statistic=-1.1295753836268752, pvalue=0.2593355119328024)\\nTtest_indResult(statistic=0.8078145910473841, pvalue=0.4196798637234407)\\n'"
      ]
     },
     "execution_count": 16,
     "metadata": {},
     "output_type": "execute_result"
    },
    {
     "data": {
      "text/plain": [
       "'\\nweighted_output_diff_mean: 5.496617476851852\\nweighted_output_diff_mean: 4.0083146494709005\\nweighted_output_diff_mean: 5.282732638888889\\nTtest_indResult(statistic=4.14327961822941, pvalue=3.78931374645726e-05)\\nTtest_indResult(statistic=-3.688660115360122, pvalue=0.0002407242162685208)\\nTtest_indResult(statistic=-0.5490648443179097, pvalue=0.5831145475500782)\\n'"
      ]
     },
     "execution_count": 16,
     "metadata": {},
     "output_type": "execute_result"
    },
    {
     "data": {
      "text/plain": [
       "'\\nweighted_output_diff_mean: 5.4116379629629625\\nweighted_output_diff_mean: 4.006368253968254\\nweighted_output_diff_mean: 4.783809788359788\\nTtest_indResult(statistic=6.534980936963549, pvalue=8.050850495882216e-11)\\nTtest_indResult(statistic=-3.7427270106820587, pvalue=0.00018717547611519266)\\nTtest_indResult(statistic=-2.72141005002426, pvalue=0.006556812390161719)\\n'"
      ]
     },
     "execution_count": 16,
     "metadata": {},
     "output_type": "execute_result"
    },
    {
     "data": {
      "text/plain": [
       "'\\nweighted_output_diff_mean: 5.055785763888889\\nweighted_output_diff_mean: 3.9955488095238096\\nweighted_output_diff_mean: 4.493781233465608\\nTtest_indResult(statistic=7.4406732671073, pvalue=1.2195352218170593e-13)\\nTtest_indResult(statistic=-3.6449253683130878, pvalue=0.0002708698001253381)\\nTtest_indResult(statistic=-3.7486238485024996, pvalue=0.00018032045532610541)\\n'"
      ]
     },
     "execution_count": 16,
     "metadata": {},
     "output_type": "execute_result"
    },
    {
     "data": {
      "text/plain": [
       "'\\nweighted_output_diff_mean: 4.483446527777778\\nweighted_output_diff_mean: 3.667976603835979\\nweighted_output_diff_mean: 4.1396169229497355\\nTtest_indResult(statistic=8.881236568147534, pvalue=8.060559492206256e-19)\\nTtest_indResult(statistic=-5.357321742284999, pvalue=8.681561378635521e-08)\\nTtest_indResult(statistic=-3.58076758951581, pvalue=0.0003446188229036143)\\n'"
      ]
     },
     "execution_count": 16,
     "metadata": {},
     "output_type": "execute_result"
    }
   ],
   "source": [
    "mental_discomfort_diff_list_NE, weighted_mental_discomfort_diff_list_NE = compute_diff_output_pairs(k_closest_pairs=k_closest_pairs_NE, PROLIFIC_PID_to_output_dict=PROLIFIC_PID_to_mental_discomfort_dict)\n",
    "mental_discomfort_diff_list_SM, weighted_mental_discomfort_diff_list_SM = compute_diff_output_pairs(k_closest_pairs=k_closest_pairs_SM, PROLIFIC_PID_to_output_dict=PROLIFIC_PID_to_mental_discomfort_dict)\n",
    "mental_discomfort_diff_list_CE, weighted_mental_discomfort_diff_list_CE = compute_diff_output_pairs(k_closest_pairs=k_closest_pairs_CE, PROLIFIC_PID_to_output_dict=PROLIFIC_PID_to_mental_discomfort_dict)\n",
    "\n",
    "#stats.ttest_ind(mental_discomfort_diff_list_NE, mental_discomfort_diff_list_SM)\n",
    "#stats.ttest_ind(mental_discomfort_diff_list_SM, mental_discomfort_diff_list_CE)\n",
    "#stats.ttest_ind(mental_discomfort_diff_list_CE, mental_discomfort_diff_list_NE)\n",
    "\n",
    "stats.ttest_ind(weighted_mental_discomfort_diff_list_NE, weighted_mental_discomfort_diff_list_SM)\n",
    "stats.ttest_ind(weighted_mental_discomfort_diff_list_SM, weighted_mental_discomfort_diff_list_CE)\n",
    "stats.ttest_ind(weighted_mental_discomfort_diff_list_CE, weighted_mental_discomfort_diff_list_NE)\n",
    "\n",
    "\n",
    "# Mental discomfort individual unfairness: \n",
    "# SM < NE (significant when k = 400, 1000, 2000, 4000)\n",
    "# CE > SM (significant when k = 400, 1000, 2000, 4000)\n",
    "# CE < NE (significant when k = 1000, 2000, 4000)\n",
    "\n",
    "#For k = 100 pairs:\n",
    "'''\n",
    "weighted_output_diff_mean: 4.655125000000001\n",
    "weighted_output_diff_mean: 5.525895833333334\n",
    "weighted_output_diff_mean: 5.351652777777776\n",
    "Ttest_indResult(statistic=-1.0831459564462071, pvalue=0.2800608965985112)\n",
    "Ttest_indResult(statistic=0.22531267332063712, pvalue=0.82196842003369)\n",
    "Ttest_indResult(statistic=0.8735857194592426, pvalue=0.3834021779748411)\n",
    "'''\n",
    "\n",
    "#For k = 200 pairs:\n",
    "'''\n",
    "weighted_output_diff_mean: 4.780996527777778\n",
    "weighted_output_diff_mean: 4.650804067460317\n",
    "weighted_output_diff_mean: 5.21670138888889\n",
    "Ttest_indResult(statistic=0.24782068381686428, pvalue=0.8044009535017123)\n",
    "Ttest_indResult(statistic=-1.1295753836268752, pvalue=0.2593355119328024)\n",
    "Ttest_indResult(statistic=0.8078145910473841, pvalue=0.4196798637234407)\n",
    "'''\n",
    "\n",
    "#For k = 400 pairs:\n",
    "'''\n",
    "weighted_output_diff_mean: 5.496617476851852\n",
    "weighted_output_diff_mean: 4.0083146494709005\n",
    "weighted_output_diff_mean: 5.282732638888889\n",
    "Ttest_indResult(statistic=4.14327961822941, pvalue=3.78931374645726e-05)\n",
    "Ttest_indResult(statistic=-3.688660115360122, pvalue=0.0002407242162685208)\n",
    "Ttest_indResult(statistic=-0.5490648443179097, pvalue=0.5831145475500782)\n",
    "'''\n",
    "\n",
    "#For k = 1000 pairs:\n",
    "'''\n",
    "weighted_output_diff_mean: 5.4116379629629625\n",
    "weighted_output_diff_mean: 4.006368253968254\n",
    "weighted_output_diff_mean: 4.783809788359788\n",
    "Ttest_indResult(statistic=6.534980936963549, pvalue=8.050850495882216e-11)\n",
    "Ttest_indResult(statistic=-3.7427270106820587, pvalue=0.00018717547611519266)\n",
    "Ttest_indResult(statistic=-2.72141005002426, pvalue=0.006556812390161719)\n",
    "'''\n",
    "\n",
    "#For k = 2000 pairs:\n",
    "'''\n",
    "weighted_output_diff_mean: 5.055785763888889\n",
    "weighted_output_diff_mean: 3.9955488095238096\n",
    "weighted_output_diff_mean: 4.493781233465608\n",
    "Ttest_indResult(statistic=7.4406732671073, pvalue=1.2195352218170593e-13)\n",
    "Ttest_indResult(statistic=-3.6449253683130878, pvalue=0.0002708698001253381)\n",
    "Ttest_indResult(statistic=-3.7486238485024996, pvalue=0.00018032045532610541)\n",
    "'''\n",
    "\n",
    "\n",
    "#For k = 4000 pairs:\n",
    "'''\n",
    "weighted_output_diff_mean: 4.483446527777778\n",
    "weighted_output_diff_mean: 3.667976603835979\n",
    "weighted_output_diff_mean: 4.1396169229497355\n",
    "Ttest_indResult(statistic=8.881236568147534, pvalue=8.060559492206256e-19)\n",
    "Ttest_indResult(statistic=-5.357321742284999, pvalue=8.681561378635521e-08)\n",
    "Ttest_indResult(statistic=-3.58076758951581, pvalue=0.0003446188229036143)\n",
    "'''"
   ]
  },
  {
   "cell_type": "code",
   "execution_count": 17,
   "id": "87344d91-56a0-47c7-bae7-4a09c731b858",
   "metadata": {},
   "outputs": [
    {
     "name": "stdout",
     "output_type": "stream",
     "text": [
      "weighted_output_diff_mean: 0.6797075231387575\n",
      "weighted_output_diff_mean: 0.8072925953484142\n",
      "weighted_output_diff_mean: 0.8310520695506516\n"
     ]
    },
    {
     "data": {
      "text/plain": [
       "Ttest_indResult(statistic=-6.990057580791016, pvalue=3.2055311234786664e-12)"
      ]
     },
     "execution_count": 17,
     "metadata": {},
     "output_type": "execute_result"
    },
    {
     "data": {
      "text/plain": [
       "Ttest_indResult(statistic=-1.2085145191885167, pvalue=0.2269208869965165)"
      ]
     },
     "execution_count": 17,
     "metadata": {},
     "output_type": "execute_result"
    },
    {
     "data": {
      "text/plain": [
       "Ttest_indResult(statistic=8.25283268285702, pvalue=2.0780353643993687e-16)"
      ]
     },
     "execution_count": 17,
     "metadata": {},
     "output_type": "execute_result"
    },
    {
     "data": {
      "text/plain": [
       "'\\nweighted_output_diff_mean: 0.5706111110497917\\nweighted_output_diff_mean: 0.8227094907606737\\nweighted_output_diff_mean: 0.9733518519055834\\nTtest_indResult(statistic=-3.186158698149972, pvalue=0.0016753326444008197)\\nTtest_indResult(statistic=-1.4845607585644502, pvalue=0.13925046035089672)\\nTtest_indResult(statistic=4.50187402005396, pvalue=1.148434950958941e-05)\\n'"
      ]
     },
     "execution_count": 17,
     "metadata": {},
     "output_type": "execute_result"
    },
    {
     "data": {
      "text/plain": [
       "'\\nweighted_output_diff_mean: 0.5492245369812813\\nweighted_output_diff_mean: 0.855410962303494\\nweighted_output_diff_mean: 0.9662170139455938\\nTtest_indResult(statistic=-5.3878319736402736, pvalue=1.223258942032522e-07)\\nTtest_indResult(statistic=-1.5222231442615386, pvalue=0.12874727282709594)\\nTtest_indResult(statistic=6.568714448336779, pvalue=1.5903457108734867e-10)\\n'"
      ]
     },
     "execution_count": 17,
     "metadata": {},
     "output_type": "execute_result"
    },
    {
     "data": {
      "text/plain": [
       "'\\nweighted_output_diff_mean: 0.5682591627654734\\nweighted_output_diff_mean: 0.8411076802132739\\nweighted_output_diff_mean: 0.9377390460091319\\nTtest_indResult(statistic=-6.899446956084667, pvalue=1.0635232189609764e-11)\\nTtest_indResult(statistic=-2.0325040114887387, pvalue=0.04243330658559672)\\nTtest_indResult(statistic=8.804525088583166, pvalue=8.069899258103868e-18)\\n'"
      ]
     },
     "execution_count": 17,
     "metadata": {},
     "output_type": "execute_result"
    },
    {
     "data": {
      "text/plain": [
       "'\\nweighted_output_diff_mean: 0.6433807098456905\\nweighted_output_diff_mean: 0.8453794642745843\\nweighted_output_diff_mean: 0.8888008928649994\\nTtest_indResult(statistic=-7.710016543906661, pvalue=1.9692458335445406e-14)\\nTtest_indResult(statistic=-1.5003242351795596, pvalue=0.13368843107422554)\\nTtest_indResult(statistic=9.1921542332229, pvalue=9.371967377752567e-20)\\n'"
      ]
     },
     "execution_count": 17,
     "metadata": {},
     "output_type": "execute_result"
    },
    {
     "data": {
      "text/plain": [
       "'\\nweighted_output_diff_mean: 0.6797075231387575\\nweighted_output_diff_mean: 0.8072925953484142\\nweighted_output_diff_mean: 0.8310520695506516\\nTtest_indResult(statistic=-6.990057580791016, pvalue=3.2055311234786664e-12)\\nTtest_indResult(statistic=-1.2085145191885167, pvalue=0.2269208869965165)\\nTtest_indResult(statistic=8.25283268285702, pvalue=2.0780353643993687e-16)\\n'"
      ]
     },
     "execution_count": 17,
     "metadata": {},
     "output_type": "execute_result"
    },
    {
     "data": {
      "text/plain": [
       "'\\nweighted_output_diff_mean: 0.6349704764751658\\nweighted_output_diff_mean: 0.7323678764374242\\nweighted_output_diff_mean: 0.7443531690837392\\nTtest_indResult(statistic=-8.039483192760208, pvalue=1.0314196747960769e-15)\\nTtest_indResult(statistic=-0.9462082682795959, pvalue=0.34407095477764116)\\nTtest_indResult(statistic=9.132978517206414, pvalue=8.313281879536956e-20)\\n'"
      ]
     },
     "execution_count": 17,
     "metadata": {},
     "output_type": "execute_result"
    }
   ],
   "source": [
    "perceived_workload_diff_list_NE, weighted_perceived_workload_diff_list_NE = compute_diff_output_pairs(k_closest_pairs=k_closest_pairs_NE, PROLIFIC_PID_to_output_dict=PROLIFIC_PID_to_perceived_workload_dict)\n",
    "perceived_workload_diff_list_SM, weighted_perceived_workload_diff_list_SM = compute_diff_output_pairs(k_closest_pairs=k_closest_pairs_SM, PROLIFIC_PID_to_output_dict=PROLIFIC_PID_to_perceived_workload_dict)\n",
    "perceived_workload_diff_list_CE, weighted_perceived_workload_diff_list_CE = compute_diff_output_pairs(k_closest_pairs=k_closest_pairs_CE, PROLIFIC_PID_to_output_dict=PROLIFIC_PID_to_perceived_workload_dict)\n",
    "\n",
    "#stats.ttest_ind(perceived_workload_diff_list_NE, perceived_workload_diff_list_SM)\n",
    "#stats.ttest_ind(perceived_workload_diff_list_SM, perceived_workload_diff_list_CE)\n",
    "#stats.ttest_ind(perceived_workload_diff_list_CE, perceived_workload_diff_list_NE)\n",
    "\n",
    "stats.ttest_ind(weighted_perceived_workload_diff_list_NE, weighted_perceived_workload_diff_list_SM)\n",
    "stats.ttest_ind(weighted_perceived_workload_diff_list_SM, weighted_perceived_workload_diff_list_CE)\n",
    "stats.ttest_ind(weighted_perceived_workload_diff_list_CE, weighted_perceived_workload_diff_list_NE)\n",
    "\n",
    "# Perceived workload individual unfairness: \n",
    "# SM > NE (significant when k = 100, 200, 400, 1000, 2000, 4000)\n",
    "# CE > NE (significant when k = 100, 200, 400, 1000, 2000, 4000)\n",
    "\n",
    "#For k = 100 pairs:\n",
    "'''\n",
    "weighted_output_diff_mean: 0.5706111110497917\n",
    "weighted_output_diff_mean: 0.8227094907606737\n",
    "weighted_output_diff_mean: 0.9733518519055834\n",
    "Ttest_indResult(statistic=-3.186158698149972, pvalue=0.0016753326444008197)\n",
    "Ttest_indResult(statistic=-1.4845607585644502, pvalue=0.13925046035089672)\n",
    "Ttest_indResult(statistic=4.50187402005396, pvalue=1.148434950958941e-05)\n",
    "'''\n",
    "\n",
    "#For k = 200 pairs:\n",
    "'''\n",
    "weighted_output_diff_mean: 0.5492245369812813\n",
    "weighted_output_diff_mean: 0.855410962303494\n",
    "weighted_output_diff_mean: 0.9662170139455938\n",
    "Ttest_indResult(statistic=-5.3878319736402736, pvalue=1.223258942032522e-07)\n",
    "Ttest_indResult(statistic=-1.5222231442615386, pvalue=0.12874727282709594)\n",
    "Ttest_indResult(statistic=6.568714448336779, pvalue=1.5903457108734867e-10)\n",
    "'''\n",
    "\n",
    "#For k = 400 pairs:\n",
    "'''\n",
    "weighted_output_diff_mean: 0.5682591627654734\n",
    "weighted_output_diff_mean: 0.8411076802132739\n",
    "weighted_output_diff_mean: 0.9377390460091319\n",
    "Ttest_indResult(statistic=-6.899446956084667, pvalue=1.0635232189609764e-11)\n",
    "Ttest_indResult(statistic=-2.0325040114887387, pvalue=0.04243330658559672)\n",
    "Ttest_indResult(statistic=8.804525088583166, pvalue=8.069899258103868e-18)\n",
    "'''\n",
    "\n",
    "#For k = 1000 pairs:\n",
    "'''\n",
    "weighted_output_diff_mean: 0.6433807098456905\n",
    "weighted_output_diff_mean: 0.8453794642745843\n",
    "weighted_output_diff_mean: 0.8888008928649994\n",
    "Ttest_indResult(statistic=-7.710016543906661, pvalue=1.9692458335445406e-14)\n",
    "Ttest_indResult(statistic=-1.5003242351795596, pvalue=0.13368843107422554)\n",
    "Ttest_indResult(statistic=9.1921542332229, pvalue=9.371967377752567e-20)\n",
    "'''\n",
    "\n",
    "#For k = 2000 pairs:\n",
    "'''\n",
    "weighted_output_diff_mean: 0.6797075231387575\n",
    "weighted_output_diff_mean: 0.8072925953484142\n",
    "weighted_output_diff_mean: 0.8310520695506516\n",
    "Ttest_indResult(statistic=-6.990057580791016, pvalue=3.2055311234786664e-12)\n",
    "Ttest_indResult(statistic=-1.2085145191885167, pvalue=0.2269208869965165)\n",
    "Ttest_indResult(statistic=8.25283268285702, pvalue=2.0780353643993687e-16)\n",
    "'''\n",
    "\n",
    "#For k = 4000 pairs:\n",
    "'''\n",
    "weighted_output_diff_mean: 0.6349704764751658\n",
    "weighted_output_diff_mean: 0.7323678764374242\n",
    "weighted_output_diff_mean: 0.7443531690837392\n",
    "Ttest_indResult(statistic=-8.039483192760208, pvalue=1.0314196747960769e-15)\n",
    "Ttest_indResult(statistic=-0.9462082682795959, pvalue=0.34407095477764116)\n",
    "Ttest_indResult(statistic=9.132978517206414, pvalue=8.313281879536956e-20)\n",
    "'''"
   ]
  },
  {
   "cell_type": "code",
   "execution_count": 18,
   "id": "ee035b84-3894-488a-881a-ab7f23849129",
   "metadata": {},
   "outputs": [
    {
     "name": "stdout",
     "output_type": "stream",
     "text": [
      "weighted_output_diff_mean: 95.09161596122684\n",
      "weighted_output_diff_mean: 147.49455279604828\n",
      "weighted_output_diff_mean: 157.51341821531085\n"
     ]
    },
    {
     "data": {
      "text/plain": [
       "Ttest_indResult(statistic=-13.31980069926695, pvalue=1.22782983440831e-39)"
      ]
     },
     "execution_count": 18,
     "metadata": {},
     "output_type": "execute_result"
    },
    {
     "data": {
      "text/plain": [
       "Ttest_indResult(statistic=-2.0634409569813097, pvalue=0.03913515923839124)"
      ]
     },
     "execution_count": 18,
     "metadata": {},
     "output_type": "execute_result"
    },
    {
     "data": {
      "text/plain": [
       "Ttest_indResult(statistic=15.76914066550379, pvalue=2.1433603927598545e-54)"
      ]
     },
     "execution_count": 18,
     "metadata": {},
     "output_type": "execute_result"
    },
    {
     "data": {
      "text/plain": [
       "'\\nweighted_output_diff_mean: 116.00078965277777\\nweighted_output_diff_mean: 155.62271079166666\\nweighted_output_diff_mean: 184.6133419513889\\nTtest_indResult(statistic=-2.114062514953106, pvalue=0.03576151010740404)\\nTtest_indResult(statistic=-1.178385431614034, pvalue=0.24005722931268078)\\nTtest_indResult(statistic=3.3026036648825357, pvalue=0.0011365743474422783)\\n'"
      ]
     },
     "execution_count": 18,
     "metadata": {},
     "output_type": "execute_result"
    },
    {
     "data": {
      "text/plain": [
       "'\\nweighted_output_diff_mean: 118.74838106944443\\nweighted_output_diff_mean: 167.54684451785712\\nweighted_output_diff_mean: 161.87683057986112\\nTtest_indResult(statistic=-3.652919768723226, pvalue=0.0002939469243371378)\\nTtest_indResult(statistic=0.3515521357569209, pvalue=0.7253602065172884)\\nTtest_indResult(statistic=3.192549326104111, pvalue=0.0015222885210858727)\\n'"
      ]
     },
     "execution_count": 18,
     "metadata": {},
     "output_type": "execute_result"
    },
    {
     "data": {
      "text/plain": [
       "'\\nweighted_output_diff_mean: 117.09176768518519\\nweighted_output_diff_mean: 169.4160534849537\\nweighted_output_diff_mean: 180.69123690798614\\nTtest_indResult(statistic=-5.793644879357288, pvalue=9.908931356344894e-09)\\nTtest_indResult(statistic=-0.978057775172034, pvalue=0.32834215582006643)\\nTtest_indResult(statistic=6.344391004135578, pvalue=3.7390991456520775e-10)\\n'"
      ]
     },
     "execution_count": 18,
     "metadata": {},
     "output_type": "execute_result"
    },
    {
     "data": {
      "text/plain": [
       "'\\nweighted_output_diff_mean: 104.41188085231481\\nweighted_output_diff_mean: 162.28681441458332\\nweighted_output_diff_mean: 170.82560791547618\\nTtest_indResult(statistic=-10.329991402294493, pvalue=2.0950223010953718e-24)\\nTtest_indResult(statistic=-1.2182549390783648, pvalue=0.22327094252640428)\\nTtest_indResult(statistic=11.269204186977992, pvalue=1.331567922893053e-28)\\n'"
      ]
     },
     "execution_count": 18,
     "metadata": {},
     "output_type": "execute_result"
    },
    {
     "data": {
      "text/plain": [
       "'\\nweighted_output_diff_mean: 95.09161596122684\\nweighted_output_diff_mean: 147.49455279604828\\nweighted_output_diff_mean: 157.51341821531085\\nTtest_indResult(statistic=-13.319800699266953, pvalue=1.22782983440831e-39)\\nTtest_indResult(statistic=-2.0634409569813097, pvalue=0.03913515923839124)\\nTtest_indResult(statistic=15.76914066550379, pvalue=2.1433603927598545e-54)\\n'"
      ]
     },
     "execution_count": 18,
     "metadata": {},
     "output_type": "execute_result"
    },
    {
     "data": {
      "text/plain": [
       "'\\nweighted_output_diff_mean: 84.17795434201388\\nweighted_output_diff_mean: 137.80743589578373\\nweighted_output_diff_mean: 133.61233400520007\\nTtest_indResult(statistic=-19.48215068474814, pvalue=1.2530603511439413e-82)\\nTtest_indResult(statistic=1.2843884509979202, pvalue=0.19904327265038285)\\nTtest_indResult(statistic=19.900622214708473, pvalue=4.742413246940743e-86)\\n'"
      ]
     },
     "execution_count": 18,
     "metadata": {},
     "output_type": "execute_result"
    }
   ],
   "source": [
    "label_time_diff_list_NE, weighted_label_time_diff_list_NE = compute_diff_output_pairs(k_closest_pairs=k_closest_pairs_NE, PROLIFIC_PID_to_output_dict=PROLIFIC_PID_to_label_time_dict)\n",
    "label_time_diff_list_SM, weighted_label_time_diff_list_SM = compute_diff_output_pairs(k_closest_pairs=k_closest_pairs_SM, PROLIFIC_PID_to_output_dict=PROLIFIC_PID_to_label_time_dict)\n",
    "label_time_diff_list_CE, weighted_label_time_diff_list_CE = compute_diff_output_pairs(k_closest_pairs=k_closest_pairs_CE, PROLIFIC_PID_to_output_dict=PROLIFIC_PID_to_label_time_dict)\n",
    "\n",
    "#stats.ttest_ind(label_time_diff_list_NE, label_time_diff_list_SM)\n",
    "#stats.ttest_ind(label_time_diff_list_SM, label_time_diff_list_CE)\n",
    "#stats.ttest_ind(label_time_diff_list_CE, label_time_diff_list_NE)\n",
    "\n",
    "stats.ttest_ind(weighted_label_time_diff_list_NE, weighted_label_time_diff_list_SM)\n",
    "stats.ttest_ind(weighted_label_time_diff_list_SM, weighted_label_time_diff_list_CE)\n",
    "stats.ttest_ind(weighted_label_time_diff_list_CE, weighted_label_time_diff_list_NE)\n",
    "\n",
    "\n",
    "# Label time individual unfairness: \n",
    "# SM > NE (significant when k = 100, 200, 400, 1000, 2000, 4000)\n",
    "# CE > NE (significant when k = 100, 200, 400, 1000, 2000, 4000)\n",
    "\n",
    "#For k = 100 pairs:\n",
    "'''\n",
    "weighted_output_diff_mean: 116.00078965277777\n",
    "weighted_output_diff_mean: 155.62271079166666\n",
    "weighted_output_diff_mean: 184.6133419513889\n",
    "Ttest_indResult(statistic=-2.114062514953106, pvalue=0.03576151010740404)\n",
    "Ttest_indResult(statistic=-1.178385431614034, pvalue=0.24005722931268078)\n",
    "Ttest_indResult(statistic=3.3026036648825357, pvalue=0.0011365743474422783)\n",
    "'''\n",
    "\n",
    "#For k = 200 pairs:\n",
    "'''\n",
    "weighted_output_diff_mean: 118.74838106944443\n",
    "weighted_output_diff_mean: 167.54684451785712\n",
    "weighted_output_diff_mean: 161.87683057986112\n",
    "Ttest_indResult(statistic=-3.652919768723226, pvalue=0.0002939469243371378)\n",
    "Ttest_indResult(statistic=0.3515521357569209, pvalue=0.7253602065172884)\n",
    "Ttest_indResult(statistic=3.192549326104111, pvalue=0.0015222885210858727)\n",
    "'''\n",
    "\n",
    "#For k = 400 pairs:\n",
    "'''\n",
    "weighted_output_diff_mean: 117.09176768518519\n",
    "weighted_output_diff_mean: 169.4160534849537\n",
    "weighted_output_diff_mean: 180.69123690798614\n",
    "Ttest_indResult(statistic=-5.793644879357288, pvalue=9.908931356344894e-09)\n",
    "Ttest_indResult(statistic=-0.978057775172034, pvalue=0.32834215582006643)\n",
    "Ttest_indResult(statistic=6.344391004135578, pvalue=3.7390991456520775e-10)\n",
    "'''\n",
    "\n",
    "#For k = 1000 pairs:\n",
    "'''\n",
    "weighted_output_diff_mean: 104.41188085231481\n",
    "weighted_output_diff_mean: 162.28681441458332\n",
    "weighted_output_diff_mean: 170.82560791547618\n",
    "Ttest_indResult(statistic=-10.329991402294493, pvalue=2.0950223010953718e-24)\n",
    "Ttest_indResult(statistic=-1.2182549390783648, pvalue=0.22327094252640428)\n",
    "Ttest_indResult(statistic=11.269204186977992, pvalue=1.331567922893053e-28)\n",
    "'''\n",
    "\n",
    "#For k = 2000 pairs:\n",
    "'''\n",
    "weighted_output_diff_mean: 95.09161596122684\n",
    "weighted_output_diff_mean: 147.49455279604828\n",
    "weighted_output_diff_mean: 157.51341821531085\n",
    "Ttest_indResult(statistic=-13.319800699266953, pvalue=1.22782983440831e-39)\n",
    "Ttest_indResult(statistic=-2.0634409569813097, pvalue=0.03913515923839124)\n",
    "Ttest_indResult(statistic=15.76914066550379, pvalue=2.1433603927598545e-54)\n",
    "'''\n",
    "\n",
    "#For k = 4000 pairs:\n",
    "'''\n",
    "weighted_output_diff_mean: 84.17795434201388\n",
    "weighted_output_diff_mean: 137.80743589578373\n",
    "weighted_output_diff_mean: 133.61233400520007\n",
    "Ttest_indResult(statistic=-19.48215068474814, pvalue=1.2530603511439413e-82)\n",
    "Ttest_indResult(statistic=1.2843884509979202, pvalue=0.19904327265038285)\n",
    "Ttest_indResult(statistic=19.900622214708473, pvalue=4.742413246940743e-86)\n",
    "'''"
   ]
  }
 ],
 "metadata": {
  "kernelspec": {
   "display_name": "xnlp",
   "language": "python",
   "name": "python3"
  },
  "language_info": {
   "codemirror_mode": {
    "name": "ipython",
    "version": 3
   },
   "file_extension": ".py",
   "mimetype": "text/x-python",
   "name": "python",
   "nbconvert_exporter": "python",
   "pygments_lexer": "ipython3",
   "version": "3.11.3"
  }
 },
 "nbformat": 4,
 "nbformat_minor": 5
}
