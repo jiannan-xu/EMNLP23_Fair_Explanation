{
 "cells": [
  {
   "attachments": {},
   "cell_type": "markdown",
   "metadata": {},
   "source": [
    "# Import pacakges"
   ]
  },
  {
   "cell_type": "code",
   "execution_count": 1,
   "metadata": {},
   "outputs": [],
   "source": [
    "import numpy as np\n",
    "import pandas as pd\n",
    "import matplotlib.pyplot as plt\n",
    "import seaborn as sns\n",
    "import scipy.stats as stats\n",
    "import statsmodels.formula.api as smf"
   ]
  },
  {
   "attachments": {},
   "cell_type": "markdown",
   "metadata": {},
   "source": [
    "# Import data sets"
   ]
  },
  {
   "cell_type": "code",
   "execution_count": 2,
   "metadata": {},
   "outputs": [],
   "source": [
    "XNLP_full_data_quant_processed = pd.read_csv('data/EMNLP_merged_Qualtrics_numeric_and_Prolific_allRaces_cleaned_with_all_Metrics.csv')"
   ]
  },
  {
   "cell_type": "code",
   "execution_count": 3,
   "metadata": {},
   "outputs": [
    {
     "data": {
      "text/plain": [
       "(287, 98)"
      ]
     },
     "execution_count": 3,
     "metadata": {},
     "output_type": "execute_result"
    }
   ],
   "source": [
    "XNLP_full_data_quant_processed.shape"
   ]
  },
  {
   "cell_type": "code",
   "execution_count": 4,
   "metadata": {},
   "outputs": [
    {
     "data": {
      "text/plain": [
       "Index(['Quality_flag', 'Bias-start_1', 'Bias-start_2', 'Bias-start_3',\n",
       "       'Bias-start-rationale', 'Disc-start_1', 'Disc-start_2', 'Disc-start_3',\n",
       "       'Disc-start_4', 'Disc-start_5', 'Disc-start_6', 'Disc-start-rationale',\n",
       "       'IndFair-1', 'IndFair-2', 'IndFair-3', 'IndFair-4', 'IndFair-5',\n",
       "       'IndFair-6', 'IndFair-7', 'IndFair-8', 'IndFair-9', 'Disc-end_1',\n",
       "       'Disc-end_2', 'Disc-end_3', 'Disc-end_4', 'Disc-end_5', 'Disc-end_6',\n",
       "       'Disc-end-rationale', 'Bias-end_1', 'Bias-end_2', 'Bias-end_3',\n",
       "       'Bias-end_4', 'Bias-end-rationale', 'Percv-work_1', 'Percv-work_2',\n",
       "       'Percv-work_3', 'Percv-work_4', 'Percv-work_5', 'Percv-work_6',\n",
       "       'Percv-work-rationale', 'PROLIFIC_PID', 'Asian_race',\n",
       "       'Explanation_style', 'Prolific_Participant_id',\n",
       "       'Prolific_Total_approvals', 'Prolific_Fluent_languages', 'Prolific_Age',\n",
       "       'Prolific_Sex', 'Prolific_Ethnicity_simplified',\n",
       "       'Prolific_Country_of_birth', 'Prolific_Country_of_residence',\n",
       "       'Prolific_Nationality', 'Prolific_Language', 'Prolific_Student_status',\n",
       "       'Prolific_Employment_status', 'Timer1_Page Submit', 'Predict1',\n",
       "       'Rationale1', 'Timer2_Page Submit', 'Predict2', 'Rationale2',\n",
       "       'Timer3_Page Submit', 'Predict3', 'Rationale3', 'Timer4_Page Submit',\n",
       "       'Predict4', 'Rationale4', 'Timer5_Page Submit', 'Predict5',\n",
       "       'Rationale5', 'Timer6_Page Submit', 'Predict6', 'Rationale6',\n",
       "       'Attention', 'Attention-ration', 'Timer7_Page Submit', 'Predict7',\n",
       "       'Rationale7', 'Timer8_Page Submit', 'Predict8', 'Rationale8',\n",
       "       'Timer9_Page Submit', 'Predict9', 'Rationale9', 'Timer10_Page Submit',\n",
       "       'Predict10', 'Rationale10', 'Timer11_Page Submit', 'Predict11',\n",
       "       'Rationale11', 'Timer12_Page Submit', 'Predict12', 'Rationale12',\n",
       "       'accuracy', 'stereotype_activation', 'mental_discomfort',\n",
       "       'perceived_workload', 'label_time'],\n",
       "      dtype='object')"
      ]
     },
     "execution_count": 4,
     "metadata": {},
     "output_type": "execute_result"
    }
   ],
   "source": [
    "XNLP_full_data_quant_processed.columns"
   ]
  },
  {
   "attachments": {},
   "cell_type": "markdown",
   "metadata": {},
   "source": [
    "# Statistical Analysis"
   ]
  },
  {
   "cell_type": "code",
   "execution_count": 5,
   "metadata": {},
   "outputs": [],
   "source": [
    "# 'Quality_flag', 'Asian_race', 'Explanation_style'\n",
    "\n",
    "XNLP_full_data_quant_processed_green = XNLP_full_data_quant_processed[(XNLP_full_data_quant_processed['Quality_flag']=='green')| (XNLP_full_data_quant_processed['Quality_flag']=='yellow')]"
   ]
  },
  {
   "cell_type": "code",
   "execution_count": 6,
   "metadata": {},
   "outputs": [],
   "source": [
    "XNLP_full_data_quant_processed_group = XNLP_full_data_quant_processed_green.groupby(['Explanation_style', 'Asian_race'],as_index=True).agg({'accuracy': ['mean', 'std', 'count'],\n",
    "                                                                    'stereotype_activation': ['mean', 'std', 'count'],\n",
    "                                                                    'mental_discomfort': ['mean', 'std', 'count'],\n",
    "                                                                    'perceived_workload': ['mean', 'std', 'count'],\n",
    "                                                                    'label_time': ['mean', 'std', 'count']}).reset_index(drop=False)"
   ]
  },
  {
   "attachments": {},
   "cell_type": "markdown",
   "metadata": {},
   "source": [
    "Just penchmark the results of the plots and the statistical analysis."
   ]
  },
  {
   "cell_type": "code",
   "execution_count": 7,
   "metadata": {},
   "outputs": [],
   "source": [
    "# XNLP_full_data_quant_processed_group.to_csv('XNLP_full_data_quant_processed_group_full_study.csv', index=False)"
   ]
  },
  {
   "cell_type": "code",
   "execution_count": 8,
   "metadata": {},
   "outputs": [],
   "source": [
    "import random\n",
    "random.seed(1234)\n",
    "def t_test_reporting_two_sample(q1,q2):\n",
    "    n1, n2 = len(q1), len(q2)\n",
    "    t_test = stats.ttest_ind(q1, q2)\n",
    "    df = n1 + n2 - 2\n",
    "    print('t-statistic:',format(t_test.statistic, '.4f'))\n",
    "    print('p-value:',format(t_test.pvalue, '.4f'))\n",
    "    print('df:',format(df, '.4f'))\n",
    "    print('mean group1',format(np.mean(q1),'.4f'))\n",
    "    print('mean group1',format(np.mean(q2),'.4f'))\n",
    "    print('std group1',format(np.std(q1),'.4f'))\n",
    "    print('std group2',format(np.std(q2),'.4f'))\n",
    "\n",
    "def cohen_effect_size(q1,q2):\n",
    "    # q1 and q2 are two arrays\n",
    "    # get the size of two arrays\n",
    "    n1, n2 = len(q1), len(q2)\n",
    "    # calculate the mean difference\n",
    "    mean_diff = np.mean(q1)-np.mean(q2)\n",
    "    # calculate the individual standard deviation\n",
    "    std1, std2 = np.std(q1), np.std(q2)\n",
    "    # check equal variance assumption \n",
    "    print('Check if s1/s2 falls into 0.5 to 2.0:',std1/std2)\n",
    "    # calculate the pooled standard deviation\n",
    "    pooled_std = np.sqrt(((n1-1)*std1**2+(n2-1)*std2**2)/(n1+n2-2))\n",
    "    # calculate the effect size\n",
    "    effect_size = mean_diff/pooled_std\n",
    "\n",
    "    # Calculate bootstrapping confidence interval\n",
    "\n",
    "    # Number of bootstrap samples\n",
    "    num_bootstraps = 10000\n",
    "\n",
    "    # Initialize an array to store resampled mean differences\n",
    "    resample_effect_size = np.zeros(num_bootstraps)\n",
    "    \n",
    "    np.random.seed(2020)\n",
    "    # Perform bootstrapping\n",
    "    for i in range(num_bootstraps):\n",
    "        resample_q1 = np.random.choice(q1, size=len(q1), replace=True)\n",
    "        resample_q2 = np.random.choice(q2, size=len(q2), replace=True)\n",
    "        resample_mean_diff = np.mean(resample_q1)-np.mean(resample_q2)\n",
    "        resample_std1, resample_std2 = np.std(resample_q1), np.std(resample_q2)\n",
    "        resample_pooled_std = np.sqrt(((n1-1)*resample_std1**2+(n2-1)*resample_std2**2)/(n1+n2-2))\n",
    "        resample_effect_size[i] = resample_mean_diff/resample_pooled_std\n",
    "\n",
    "    effect_size_CI = np.percentile(resample_effect_size, [2.5, 97.5])\n",
    "    # Traditional confidence interval\n",
    "    # effect_size_CI = [np.round(effect_size-1.96*(pooled_std/np.sqrt(n1+n2)),4),np.round(effect_size+1.96*(pooled_std/np.sqrt(n1+n2)),4)]\n",
    "    return effect_size,effect_size_CI"
   ]
  },
  {
   "attachments": {},
   "cell_type": "markdown",
   "metadata": {},
   "source": [
    "## Accuracy t-test"
   ]
  },
  {
   "cell_type": "code",
   "execution_count": 9,
   "metadata": {},
   "outputs": [],
   "source": [
    "accuracy_NE = XNLP_full_data_quant_processed_green[XNLP_full_data_quant_processed_green.Explanation_style=='NE']['accuracy']\n",
    "accuracy_CE = XNLP_full_data_quant_processed_green[XNLP_full_data_quant_processed_green.Explanation_style=='CE']['accuracy']\n",
    "accuracy_SM = XNLP_full_data_quant_processed_green[XNLP_full_data_quant_processed_green.Explanation_style=='SM']['accuracy']"
   ]
  },
  {
   "cell_type": "code",
   "execution_count": 10,
   "metadata": {},
   "outputs": [
    {
     "name": "stdout",
     "output_type": "stream",
     "text": [
      "t-statistic: 1.5714\n",
      "p-value: 0.1178\n",
      "df: 184.0000\n",
      "mean group1 0.4651\n",
      "mean group1 0.4391\n",
      "std group1 0.1088\n",
      "std group2 0.1154\n"
     ]
    }
   ],
   "source": [
    "t_test_reporting_two_sample(accuracy_NE, accuracy_CE)"
   ]
  },
  {
   "cell_type": "code",
   "execution_count": 11,
   "metadata": {},
   "outputs": [
    {
     "name": "stdout",
     "output_type": "stream",
     "text": [
      "t-statistic: -0.7029\n",
      "p-value: 0.4830\n",
      "df: 188.0000\n",
      "mean group1 0.4651\n",
      "mean group1 0.4759\n",
      "std group1 0.1088\n",
      "std group2 0.1036\n"
     ]
    }
   ],
   "source": [
    "t_test_reporting_two_sample(accuracy_NE, accuracy_SM)"
   ]
  },
  {
   "cell_type": "code",
   "execution_count": 12,
   "metadata": {},
   "outputs": [
    {
     "name": "stdout",
     "output_type": "stream",
     "text": [
      "t-statistic: 2.3078\n",
      "p-value: 0.0221\n",
      "df: 188.0000\n",
      "mean group1 0.4759\n",
      "mean group1 0.4391\n",
      "std group1 0.1036\n",
      "std group2 0.1154\n"
     ]
    }
   ],
   "source": [
    "t_test_reporting_two_sample(accuracy_SM,accuracy_CE)"
   ]
  },
  {
   "cell_type": "code",
   "execution_count": 13,
   "metadata": {},
   "outputs": [
    {
     "name": "stdout",
     "output_type": "stream",
     "text": [
      "Check if s1/s2 falls into 0.5 to 2.0: 0.8979063055574603\n"
     ]
    },
    {
     "name": "stdout",
     "output_type": "stream",
     "text": [
      "Cohens d: 0.3367 95% CI:  [0.0474, 0.6265]\n"
     ]
    }
   ],
   "source": [
    "random.seed(1234)\n",
    "d_accuracy_SM_CE, d_CI_accuracy_SM_CE = cohen_effect_size(accuracy_SM, accuracy_CE)\n",
    "print('Cohens d: %.4f' % d_accuracy_SM_CE, '95% CI: ', [round(num, 4) for num in d_CI_accuracy_SM_CE])\n",
    "# A Cohen’s d of -0.33 means that the two group means differ by -0.33 standard deviations, a small to medium effect size.\n",
    "# In short, the sign of the Cohen’s d effect tells you the direction of the effect. If M1 is the experimental group, and M2 is the control group, then a negative effect size indicates the effect decreases your mean, and a positive effect size indicates that the effect increases your mean."
   ]
  },
  {
   "cell_type": "code",
   "execution_count": 14,
   "metadata": {},
   "outputs": [
    {
     "name": "stdout",
     "output_type": "stream",
     "text": [
      "SM vs. CE: Custom statistical test, P_val:2.210e-02\n"
     ]
    },
    {
     "data": {
      "image/png": "[encoded data removed]",
      "text/plain": [
       "<Figure size 640x480 with 1 Axes>"
      ]
     },
     "metadata": {},
     "output_type": "display_data"
    }
   ],
   "source": [
    "from statannotations.Annotator import Annotator\n",
    "\n",
    "custom_params = {\"axes.spines.right\": False, \"axes.spines.top\": False}\n",
    "sns.set_theme(style=\"ticks\", rc=custom_params)\n",
    "\n",
    "plotting_parameters = {\n",
    "    'data':XNLP_full_data_quant_processed_green,\n",
    "    'x':'Explanation_style',\n",
    "    'y':'accuracy'\n",
    "}\n",
    "\n",
    "ax = sns.boxplot(**plotting_parameters)\n",
    "\n",
    "\n",
    "pairs = [\n",
    "         ('CE', 'SM')]\n",
    "\n",
    "pvalues = [\n",
    "   stats.ttest_ind(accuracy_CE, accuracy_SM).pvalue\n",
    "]\n",
    "\n",
    "# Transform each p-value to \"p=\" in scientific notation\n",
    "formatted_pvalues = [f'p={pvalue:.2e}' for pvalue in pvalues]\n",
    "\n",
    "annotator = Annotator(ax, pairs, **plotting_parameters)\n",
    "annotator.configure(text_format=\"simple\")\n",
    "annotator.set_pvalues_and_annotate(pvalues)\n",
    "\n",
    "labels = ['No Explanation', 'Saliency','Counterfactual']\n",
    "ax.set_xticklabels(labels)\n",
    "plt.xlabel('Explanation Style')\n",
    "plt.ylabel('Accuracy')\n",
    "# plt.title('Accuracy under three experiment conditions') # You can change the title here\n",
    "plt.savefig('plot/accuracy_experiments_full_study.eps', format='eps', dpi=1000)\n",
    "plt.show()\n",
    "\n"
   ]
  },
  {
   "attachments": {},
   "cell_type": "markdown",
   "metadata": {},
   "source": [
    "## Stereotype Activation t-test"
   ]
  },
  {
   "cell_type": "code",
   "execution_count": 15,
   "metadata": {},
   "outputs": [],
   "source": [
    "stereotype_activation_NE = XNLP_full_data_quant_processed_green[XNLP_full_data_quant_processed_green.Explanation_style=='NE']['stereotype_activation']\n",
    "stereotype_activation_CE = XNLP_full_data_quant_processed_green[XNLP_full_data_quant_processed_green.Explanation_style=='CE']['stereotype_activation']\n",
    "stereotype_activation_SM = XNLP_full_data_quant_processed_green[XNLP_full_data_quant_processed_green.Explanation_style=='SM']['stereotype_activation']"
   ]
  },
  {
   "cell_type": "code",
   "execution_count": 16,
   "metadata": {},
   "outputs": [
    {
     "name": "stdout",
     "output_type": "stream",
     "text": [
      "t-statistic: 2.2861\n",
      "p-value: 0.0234\n",
      "df: 184.0000\n",
      "mean group1 0.1900\n",
      "mean group1 0.0968\n",
      "std group1 0.3365\n",
      "std group2 0.1990\n"
     ]
    }
   ],
   "source": [
    "t_test_reporting_two_sample(stereotype_activation_CE, stereotype_activation_NE)"
   ]
  },
  {
   "cell_type": "code",
   "execution_count": 17,
   "metadata": {},
   "outputs": [
    {
     "name": "stdout",
     "output_type": "stream",
     "text": [
      "Check if s1/s2 falls into 0.5 to 2.0: 1.690746924742153\n"
     ]
    },
    {
     "name": "stdout",
     "output_type": "stream",
     "text": [
      "Cohens d: 0.3371 95% CI:  [0.0648, 0.5884]\n"
     ]
    }
   ],
   "source": [
    "# flip the comparison order\n",
    "random.seed(1234)\n",
    "d_stereotype_activation_CE_NE,d_CI_stereotype_activation_CE_NE = cohen_effect_size(stereotype_activation_CE, stereotype_activation_NE)\n",
    "print('Cohens d: %.4f' % d_stereotype_activation_CE_NE,'95% CI: ',[round(num, 4) for num in d_CI_stereotype_activation_CE_NE])\n"
   ]
  },
  {
   "cell_type": "code",
   "execution_count": 18,
   "metadata": {},
   "outputs": [
    {
     "name": "stdout",
     "output_type": "stream",
     "text": [
      "t-statistic: 0.8973\n",
      "p-value: 0.3707\n",
      "df: 188.0000\n",
      "mean group1 0.1271\n",
      "mean group1 0.0968\n",
      "std group1 0.2597\n",
      "std group2 0.1990\n"
     ]
    }
   ],
   "source": [
    "t_test_reporting_two_sample(stereotype_activation_SM, stereotype_activation_NE)"
   ]
  },
  {
   "cell_type": "code",
   "execution_count": 19,
   "metadata": {},
   "outputs": [
    {
     "name": "stdout",
     "output_type": "stream",
     "text": [
      "t-statistic: 1.4362\n",
      "p-value: 0.1526\n",
      "df: 188.0000\n",
      "mean group1 0.1900\n",
      "mean group1 0.1271\n",
      "std group1 0.3365\n",
      "std group2 0.2597\n"
     ]
    }
   ],
   "source": [
    "t_test_reporting_two_sample(stereotype_activation_CE, stereotype_activation_SM)"
   ]
  },
  {
   "cell_type": "code",
   "execution_count": 20,
   "metadata": {},
   "outputs": [
    {
     "name": "stdout",
     "output_type": "stream",
     "text": [
      "NE vs. CE: Custom statistical test, P_val:2.339e-02\n"
     ]
    },
    {
     "data": {
      "image/png": "[encoded data removed]",
      "text/plain": [
       "<Figure size 640x480 with 1 Axes>"
      ]
     },
     "metadata": {},
     "output_type": "display_data"
    }
   ],
   "source": [
    "from statannotations.Annotator import Annotator\n",
    "\n",
    "custom_params = {\"axes.spines.right\": False, \"axes.spines.top\": False}\n",
    "sns.set_theme(style=\"ticks\", rc=custom_params)\n",
    "\n",
    "plotting_parameters = {\n",
    "    'data':XNLP_full_data_quant_processed_green,\n",
    "    'x':'Explanation_style',\n",
    "    'y':'stereotype_activation',\n",
    "}\n",
    "\n",
    "ax = sns.boxplot(**plotting_parameters)\n",
    "\n",
    "\n",
    "pairs = [('NE', 'CE')]\n",
    "\n",
    "pvalues = [\n",
    "    stats.ttest_ind(stereotype_activation_NE, stereotype_activation_CE).pvalue\n",
    " ]\n",
    "\n",
    "# Transform each p-value to \"p=\" in scientific notation\n",
    "formatted_pvalues = [f'p={pvalue:.2e}' for pvalue in pvalues]\n",
    "\n",
    "annotator = Annotator(ax, pairs, **plotting_parameters)\n",
    "annotator.configure(text_format=\"simple\")\n",
    "annotator.set_pvalues_and_annotate(pvalues)\n",
    "\n",
    "labels = ['No Explanation', 'Saliency','Counterfactual']\n",
    "ax.set_xticklabels(labels)\n",
    "plt.xlabel('Explanation Style')\n",
    "plt.ylabel('Stereotype Activation')\n",
    "# plt.title('Penetrated bias under three experiment conditions') # You can change the title here\n",
    "plt.savefig('plot/stereotype_activation_experiments_full_study.eps', format='eps', dpi=1000)\n",
    "plt.show()\n",
    "\n"
   ]
  },
  {
   "attachments": {},
   "cell_type": "markdown",
   "metadata": {},
   "source": [
    "## Mental discomfort t-test"
   ]
  },
  {
   "cell_type": "code",
   "execution_count": 21,
   "metadata": {},
   "outputs": [],
   "source": [
    "mental_dis_NE = XNLP_full_data_quant_processed_green[XNLP_full_data_quant_processed_green.Explanation_style=='NE']['mental_discomfort']\n",
    "mental_dis_CE = XNLP_full_data_quant_processed_green[XNLP_full_data_quant_processed_green.Explanation_style=='CE']['mental_discomfort']\n",
    "mental_dis_SM = XNLP_full_data_quant_processed_green[XNLP_full_data_quant_processed_green.Explanation_style=='SM']['mental_discomfort']"
   ]
  },
  {
   "cell_type": "code",
   "execution_count": 22,
   "metadata": {},
   "outputs": [
    {
     "name": "stdout",
     "output_type": "stream",
     "text": [
      "t-statistic: 0.5923\n",
      "p-value: 0.5544\n",
      "df: 184.0000\n",
      "mean group1 3.4194\n",
      "mean group1 2.9140\n",
      "std group1 5.9121\n",
      "std group2 5.6600\n"
     ]
    }
   ],
   "source": [
    "t_test_reporting_two_sample(mental_dis_NE, mental_dis_CE)"
   ]
  },
  {
   "attachments": {},
   "cell_type": "markdown",
   "metadata": {},
   "source": [
    "Significant difference between the two groups in terms of mental discomfort."
   ]
  },
  {
   "cell_type": "code",
   "execution_count": 23,
   "metadata": {},
   "outputs": [
    {
     "name": "stdout",
     "output_type": "stream",
     "text": [
      "t-statistic: -2.1535\n",
      "p-value: 0.0326\n",
      "df: 188.0000\n",
      "mean group1 1.7010\n",
      "mean group1 3.4194\n",
      "std group1 5.0076\n",
      "std group2 5.9121\n"
     ]
    }
   ],
   "source": [
    "t_test_reporting_two_sample(mental_dis_SM, mental_dis_NE)"
   ]
  },
  {
   "cell_type": "code",
   "execution_count": 24,
   "metadata": {},
   "outputs": [
    {
     "name": "stdout",
     "output_type": "stream",
     "text": [
      "Check if s1/s2 falls into 0.5 to 2.0: 1.1806412049603792\n",
      "Cohens d: 0.3142 95% CI:  [0.0422, 0.5963]\n"
     ]
    }
   ],
   "source": [
    "d_mental_dis_NE_SM, d_CI_mental_dis_NE_SM = cohen_effect_size(mental_dis_NE, mental_dis_SM)\n",
    "print('Cohens d: %.4f' % d_mental_dis_NE_SM, '95% CI: ', [round(num, 4) for num in d_CI_mental_dis_NE_SM])\n"
   ]
  },
  {
   "cell_type": "code",
   "execution_count": 25,
   "metadata": {},
   "outputs": [
    {
     "name": "stdout",
     "output_type": "stream",
     "text": [
      "t-statistic: 1.5578\n",
      "p-value: 0.1210\n",
      "df: 188.0000\n",
      "mean group1 2.9140\n",
      "mean group1 1.7010\n",
      "std group1 5.6600\n",
      "std group2 5.0076\n"
     ]
    }
   ],
   "source": [
    "t_test_reporting_two_sample(mental_dis_CE, mental_dis_SM)"
   ]
  },
  {
   "cell_type": "code",
   "execution_count": 26,
   "metadata": {},
   "outputs": [
    {
     "name": "stdout",
     "output_type": "stream",
     "text": [
      "NE vs. SM: Custom statistical test, P_val:3.255e-02\n"
     ]
    },
    {
     "data": {
      "image/png": "[encoded data removed]",
      "text/plain": [
       "<Figure size 640x480 with 1 Axes>"
      ]
     },
     "metadata": {},
     "output_type": "display_data"
    }
   ],
   "source": [
    "from statannotations.Annotator import Annotator\n",
    "\n",
    "custom_params = {\"axes.spines.right\": False, \"axes.spines.top\": False}\n",
    "sns.set_theme(style=\"ticks\", rc=custom_params)\n",
    "\n",
    "plotting_parameters = {\n",
    "    'data':XNLP_full_data_quant_processed_green,\n",
    "    'x':'Explanation_style',\n",
    "    'y':'mental_discomfort'\n",
    "}\n",
    "\n",
    "ax = sns.boxplot(**plotting_parameters)\n",
    "\n",
    "\n",
    "pairs = [\n",
    "         ('NE', 'SM')]\n",
    "\n",
    "pvalues = [\n",
    "    stats.ttest_ind(mental_dis_NE, mental_dis_SM).pvalue\n",
    "]\n",
    "\n",
    "# Transform each p-value to \"p=\" in scientific notation\n",
    "formatted_pvalues = [f'p={pvalue:.2e}' for pvalue in pvalues]\n",
    "\n",
    "annotator = Annotator(ax, pairs, **plotting_parameters)\n",
    "annotator.configure(text_format=\"simple\")\n",
    "annotator.set_pvalues_and_annotate(pvalues)\n",
    "\n",
    "labels = ['No Explanation', 'Saliency','Counterfactual']\n",
    "ax.set_xticklabels(labels)\n",
    "plt.xlabel('Explanation Style')\n",
    "plt.ylabel('Mental discomfort')\n",
    "# plt.title('Mental discomfort measures under three experiment conditions') # You can change the title here\n",
    "plt.savefig('plot/mental_discomfort_experiments_full_study.eps', format='eps', dpi=1000)\n",
    "plt.show()\n",
    "\n"
   ]
  },
  {
   "attachments": {},
   "cell_type": "markdown",
   "metadata": {},
   "source": [
    "## Workload t-test"
   ]
  },
  {
   "cell_type": "code",
   "execution_count": 27,
   "metadata": {},
   "outputs": [],
   "source": [
    "workload_NE = XNLP_full_data_quant_processed_green[XNLP_full_data_quant_processed_green.Explanation_style=='NE']['perceived_workload']\n",
    "workload_CE = XNLP_full_data_quant_processed_green[XNLP_full_data_quant_processed_green.Explanation_style=='CE']['perceived_workload']\n",
    "workload_SM = XNLP_full_data_quant_processed_green[XNLP_full_data_quant_processed_green.Explanation_style=='SM']['perceived_workload']"
   ]
  },
  {
   "cell_type": "code",
   "execution_count": 28,
   "metadata": {},
   "outputs": [
    {
     "name": "stdout",
     "output_type": "stream",
     "text": [
      "t-statistic: 1.5738\n",
      "p-value: 0.1173\n",
      "df: 184.0000\n",
      "mean group1 3.4606\n",
      "mean group1 3.2652\n",
      "std group1 0.8962\n",
      "std group2 0.7837\n"
     ]
    }
   ],
   "source": [
    "t_test_reporting_two_sample(workload_CE, workload_NE)"
   ]
  },
  {
   "cell_type": "code",
   "execution_count": 29,
   "metadata": {},
   "outputs": [
    {
     "name": "stdout",
     "output_type": "stream",
     "text": [
      "t-statistic: 0.7411\n",
      "p-value: 0.4596\n",
      "df: 188.0000\n",
      "mean group1 3.3540\n",
      "mean group1 3.2652\n",
      "std group1 0.8543\n",
      "std group2 0.7837\n"
     ]
    }
   ],
   "source": [
    "t_test_reporting_two_sample(workload_SM, workload_NE)"
   ]
  },
  {
   "cell_type": "code",
   "execution_count": 30,
   "metadata": {},
   "outputs": [
    {
     "name": "stdout",
     "output_type": "stream",
     "text": [
      "t-statistic: 0.8352\n",
      "p-value: 0.4047\n",
      "df: 188.0000\n",
      "mean group1 3.4606\n",
      "mean group1 3.3540\n",
      "std group1 0.8962\n",
      "std group2 0.8543\n"
     ]
    }
   ],
   "source": [
    "t_test_reporting_two_sample(workload_CE, workload_SM)"
   ]
  },
  {
   "cell_type": "code",
   "execution_count": 31,
   "metadata": {},
   "outputs": [
    {
     "data": {
      "image/png": "[encoded data removed]",
      "text/plain": [
       "<Figure size 640x480 with 1 Axes>"
      ]
     },
     "metadata": {},
     "output_type": "display_data"
    }
   ],
   "source": [
    "from statannotations.Annotator import Annotator\n",
    "\n",
    "custom_params = {\"axes.spines.right\": False, \"axes.spines.top\": False}\n",
    "sns.set_theme(style=\"ticks\", rc=custom_params)\n",
    "\n",
    "plotting_parameters = {\n",
    "    'data':XNLP_full_data_quant_processed_green,\n",
    "    'x':'Explanation_style',\n",
    "    'y':'perceived_workload'\n",
    "}\n",
    "\n",
    "ax = sns.boxplot(**plotting_parameters)\n",
    "\n",
    "labels = ['No Explanation', 'Saliency', 'Counterfactual']\n",
    "ax.set_xticklabels(labels)\n",
    "plt.xlabel('Explanation Style')\n",
    "plt.ylabel('Perceived Workload')\n",
    "# plt.title('Perceived Workload under three experiment conditions') # You can change the title here\n",
    "plt.savefig('plot/workload_experiments_full_study.eps', format='eps', dpi=1000)\n",
    "plt.show()"
   ]
  },
  {
   "attachments": {},
   "cell_type": "markdown",
   "metadata": {},
   "source": [
    "## Lable time t-test"
   ]
  },
  {
   "cell_type": "code",
   "execution_count": 32,
   "metadata": {},
   "outputs": [],
   "source": [
    "labeltime_NE = XNLP_full_data_quant_processed_green[XNLP_full_data_quant_processed_green.Explanation_style=='NE']['label_time']\n",
    "labeltime_CE = XNLP_full_data_quant_processed_green[XNLP_full_data_quant_processed_green.Explanation_style=='CE']['label_time']\n",
    "labeltime_SM = XNLP_full_data_quant_processed_green[XNLP_full_data_quant_processed_green.Explanation_style=='SM']['label_time']"
   ]
  },
  {
   "attachments": {},
   "cell_type": "markdown",
   "metadata": {},
   "source": [
    "Significant results"
   ]
  },
  {
   "cell_type": "code",
   "execution_count": 33,
   "metadata": {},
   "outputs": [
    {
     "name": "stdout",
     "output_type": "stream",
     "text": [
      "t-statistic: 4.5598\n",
      "p-value: 0.0000\n",
      "df: 184.0000\n",
      "mean group1 303.6879\n",
      "mean group1 204.9347\n",
      "std group1 178.3046\n",
      "std group2 106.5804\n"
     ]
    }
   ],
   "source": [
    "t_test_reporting_two_sample(labeltime_CE, labeltime_NE)"
   ]
  },
  {
   "cell_type": "code",
   "execution_count": 34,
   "metadata": {},
   "outputs": [
    {
     "name": "stdout",
     "output_type": "stream",
     "text": [
      "Check if s1/s2 falls into 0.5 to 2.0: 1.6729585483119929\n"
     ]
    },
    {
     "name": "stdout",
     "output_type": "stream",
     "text": [
      "Cohens d: 0.67230 95% CI:  [0.4212, 0.9244]\n"
     ]
    }
   ],
   "source": [
    "d_labeltime_CE_NE, d_CI_labeltime_CE_NE = cohen_effect_size(labeltime_CE, labeltime_NE)\n",
    "print('Cohens d: %.5f' % d_labeltime_CE_NE, '95% CI: ',[round(num, 4) for num in d_CI_labeltime_CE_NE])"
   ]
  },
  {
   "attachments": {},
   "cell_type": "markdown",
   "metadata": {},
   "source": [
    "Significant results"
   ]
  },
  {
   "cell_type": "code",
   "execution_count": 35,
   "metadata": {},
   "outputs": [
    {
     "name": "stdout",
     "output_type": "stream",
     "text": [
      "t-statistic: 2.7135\n",
      "p-value: 0.0073\n",
      "df: 188.0000\n",
      "mean group1 272.2589\n",
      "mean group1 204.9347\n",
      "std group1 213.9079\n",
      "std group2 106.5804\n"
     ]
    }
   ],
   "source": [
    "t_test_reporting_two_sample(labeltime_SM, labeltime_NE)"
   ]
  },
  {
   "cell_type": "code",
   "execution_count": 36,
   "metadata": {},
   "outputs": [
    {
     "name": "stdout",
     "output_type": "stream",
     "text": [
      "Check if s1/s2 falls into 0.5 to 2.0: 2.0070094041059847\n",
      "Cohens d: 0.39586 95% CI:  [0.1594, 0.6237]\n"
     ]
    }
   ],
   "source": [
    "d_labeltime_SM_NE, d_CI_labeltime_SM_NE = cohen_effect_size(labeltime_SM, labeltime_NE)\n",
    "print('Cohens d: %.5f' % d_labeltime_SM_NE, '95% CI: ', [round(num, 4) for num in d_CI_labeltime_SM_NE])"
   ]
  },
  {
   "cell_type": "code",
   "execution_count": 37,
   "metadata": {},
   "outputs": [
    {
     "name": "stdout",
     "output_type": "stream",
     "text": [
      "t-statistic: 1.0919\n",
      "p-value: 0.2763\n",
      "df: 188.0000\n",
      "mean group1 303.6879\n",
      "mean group1 272.2589\n",
      "std group1 178.3046\n",
      "std group2 213.9079\n"
     ]
    }
   ],
   "source": [
    "t_test_reporting_two_sample(labeltime_CE, labeltime_SM)"
   ]
  },
  {
   "cell_type": "code",
   "execution_count": 38,
   "metadata": {},
   "outputs": [
    {
     "name": "stdout",
     "output_type": "stream",
     "text": [
      "NE vs. SM: Custom statistical test, P_val:7.277e-03\n",
      "NE vs. CE: Custom statistical test, P_val:9.322e-06\n"
     ]
    },
    {
     "data": {
      "image/png": "[encoded data removed]",
      "text/plain": [
       "<Figure size 640x480 with 1 Axes>"
      ]
     },
     "metadata": {},
     "output_type": "display_data"
    }
   ],
   "source": [
    "from statannotations.Annotator import Annotator\n",
    "\n",
    "custom_params = {\"axes.spines.right\": False, \"axes.spines.top\": False}\n",
    "sns.set_theme(style=\"ticks\", rc=custom_params)\n",
    "\n",
    "plotting_parameters = {\n",
    "    'data':XNLP_full_data_quant_processed_green,\n",
    "    'x':'Explanation_style',\n",
    "    'y':'label_time'\n",
    "}\n",
    "\n",
    "ax = sns.boxplot(**plotting_parameters)\n",
    "\n",
    "\n",
    "pairs = [('NE', 'CE'),\n",
    "         ('NE', 'SM')]\n",
    "\n",
    "pvalues = [\n",
    "    stats.ttest_ind(labeltime_NE, labeltime_CE).pvalue,\n",
    "    stats.ttest_ind(labeltime_NE, labeltime_SM).pvalue,\n",
    "]\n",
    "\n",
    "# Transform each p-value to \"p=\" in scientific notation\n",
    "formatted_pvalues = [f'p={pvalue:.2e}' for pvalue in pvalues]\n",
    "\n",
    "annotator = Annotator(ax, pairs, **plotting_parameters)\n",
    "annotator.configure(text_format=\"simple\")\n",
    "annotator.set_pvalues_and_annotate(pvalues)\n",
    "\n",
    "labels = ['No Explanation', 'Saliency','Counterfactual']\n",
    "ax.set_xticklabels(labels)\n",
    "plt.xlabel('Explanation Style')\n",
    "plt.ylabel('Label time [seconds]')\n",
    "# plt.title('Completion time under three experiment conditions') # You can change the title here\n",
    "plt.savefig('plot/duration_experiments_full_study.eps', format='eps', dpi=1000)\n",
    "plt.show()"
   ]
  },
  {
   "attachments": {},
   "cell_type": "markdown",
   "metadata": {},
   "source": [
    "# Experiments + Ethnicity"
   ]
  },
  {
   "cell_type": "code",
   "execution_count": 39,
   "metadata": {},
   "outputs": [],
   "source": [
    "def t_test(df, metric, asian_flag1,asian_flag2, condition1, condition2):\n",
    "    condition1_metric = df[(df.Explanation_style==condition1) & (df.Asian_race==asian_flag1)][metric].dropna()\n",
    "    condition2_metric = df[(df.Explanation_style==condition2) & (df.Asian_race==asian_flag2)][metric].dropna()\n",
    "    print(metric,asian_flag1,asian_flag2, condition1, condition2)\n",
    "    t_stats = stats.ttest_ind(condition1_metric, condition2_metric)\n",
    "    print('t stats: %.4f p-value %.4f' %(t_stats.statistic,t_stats.pvalue))\n",
    "    df = len(condition1_metric) + len(condition2_metric) - 2\n",
    "    print('df:',format(df, '.4f'))\n",
    "    print('mean group1',format(np.mean(condition1_metric),'.4f'))\n",
    "    print('mean group1',format(np.mean(condition2_metric),'.4f'))\n",
    "    print('std group1',format(np.std(condition1_metric),'.4f'))\n",
    "    print('std group2',format(np.std(condition2_metric),'.4f'))\n",
    "    \n",
    "    effect_size, effect_size_CI = cohen_effect_size(condition1_metric, condition2_metric)\n",
    "    print('Cohens d: %.4f' %effect_size, '95% CI:', [round(num, 4) for num in effect_size_CI])\n",
    "    return t_stats.statistic, t_stats.pvalue, effect_size, effect_size_CI"
   ]
  },
  {
   "attachments": {},
   "cell_type": "markdown",
   "metadata": {},
   "source": [
    "## t-test for Accuracy"
   ]
  },
  {
   "cell_type": "code",
   "execution_count": 40,
   "metadata": {},
   "outputs": [
    {
     "name": "stdout",
     "output_type": "stream",
     "text": [
      "accuracy 0 1 NE NE\n",
      "t stats: -0.1369 p-value 0.8914\n",
      "df: 91.0000\n",
      "mean group1 0.4635\n",
      "mean group1 0.4667\n",
      "std group1 0.1088\n",
      "std group2 0.1089\n",
      "Check if s1/s2 falls into 0.5 to 2.0: 0.9993436563192186\n",
      "Cohens d: -0.0287 95% CI: [-0.443, 0.3853]\n"
     ]
    },
    {
     "data": {
      "text/plain": [
       "(-0.13688902960513094,\n",
       " 0.8914209147913329,\n",
       " -0.028714689382926654,\n",
       " array([-0.44300574,  0.38530302]))"
      ]
     },
     "execution_count": 40,
     "metadata": {},
     "output_type": "execute_result"
    }
   ],
   "source": [
    "# non asian NE vs asian NE\n",
    "t_test(df = XNLP_full_data_quant_processed_green, metric='accuracy', asian_flag1=0,asian_flag2=1, condition1='NE', condition2='NE')"
   ]
  },
  {
   "cell_type": "code",
   "execution_count": 41,
   "metadata": {},
   "outputs": [
    {
     "name": "stdout",
     "output_type": "stream",
     "text": [
      "accuracy 0 1 CE CE\n",
      "t stats: -0.6885 p-value 0.4929\n",
      "df: 91.0000\n",
      "mean group1 0.4309\n",
      "mean group1 0.4475\n",
      "std group1 0.1064\n",
      "std group2 0.1233\n",
      "Check if s1/s2 falls into 0.5 to 2.0: 0.862979895197421\n",
      "Cohens d: -0.1444 95% CI: [-0.5561, 0.265]\n"
     ]
    },
    {
     "data": {
      "text/plain": [
       "(-0.68850339513549,\n",
       " 0.4928873632016979,\n",
       " -0.14436037904466348,\n",
       " array([-0.55607287,  0.26502058]))"
      ]
     },
     "execution_count": 41,
     "metadata": {},
     "output_type": "execute_result"
    }
   ],
   "source": [
    "# non asian CE vs asian CE\n",
    "t_test(df = XNLP_full_data_quant_processed_green, metric='accuracy', asian_flag1=0,asian_flag2=1, condition1='CE', condition2='CE')"
   ]
  },
  {
   "cell_type": "code",
   "execution_count": 42,
   "metadata": {},
   "outputs": [
    {
     "name": "stdout",
     "output_type": "stream",
     "text": [
      "accuracy 0 1 SM SM\n",
      "t stats: -0.6716 p-value 0.5035\n",
      "df: 95.0000\n",
      "mean group1 0.4687\n",
      "mean group1 0.4830\n",
      "std group1 0.1043\n",
      "std group2 0.1024\n",
      "Check if s1/s2 falls into 0.5 to 2.0: 1.019141810393745\n",
      "Cohens d: -0.1378 95% CI: [-0.5482, 0.2746]\n"
     ]
    },
    {
     "data": {
      "text/plain": [
       "(-0.6715611337580979,\n",
       " 0.5034929090389686,\n",
       " -0.13780904408323555,\n",
       " array([-0.5481813 ,  0.27455417]))"
      ]
     },
     "execution_count": 42,
     "metadata": {},
     "output_type": "execute_result"
    }
   ],
   "source": [
    "# non asian SM vs asian SM\n",
    "t_test(df = XNLP_full_data_quant_processed_green, metric='accuracy', asian_flag1=0,asian_flag2=1, condition1='SM', condition2='SM')"
   ]
  },
  {
   "cell_type": "code",
   "execution_count": 43,
   "metadata": {},
   "outputs": [
    {
     "name": "stderr",
     "output_type": "stream",
     "text": [
      "The PostScript backend does not support transparency; partially transparent artists will be rendered opaque.\n"
     ]
    },
    {
     "data": {
      "image/png": "[encoded data removed]",
      "text/plain": [
       "<Figure size 640x480 with 1 Axes>"
      ]
     },
     "metadata": {},
     "output_type": "display_data"
    }
   ],
   "source": [
    "custom_params = {\"axes.spines.right\": False, \"axes.spines.top\": False}\n",
    "sns.set_theme(style=\"ticks\", rc=custom_params)\n",
    "ax = sns.boxplot(\n",
    "    data=XNLP_full_data_quant_processed_green.replace({\"Asian_race\" : {1 : \"Asian\", 0 : \"Non-Asian\"}}), x=\"Explanation_style\", y=\"accuracy\", hue=\"Asian_race\", hue_order=[\"Non-Asian\", \"Asian\"])\n",
    "labels = ['No Explanation', 'Saliency','Counterfactual']\n",
    "box = ax.get_position()\n",
    "ax.set_position([box.x0, box.y0, box.width * 0.8, box.height])\n",
    "ax.legend(loc='center left', bbox_to_anchor=(1, 0.5))\n",
    "ax.legend_.set_title('Race')\n",
    "ax.set_xticklabels(labels)\n",
    "plt.xlabel('Explanation Style')\n",
    "plt.ylabel('Accuracy')\n",
    "# plt.title('Accuracy under three experiment conditions') # You can change the title here\n",
    "plt.savefig('plot/accuracy_experiments_asian_full_study.eps', format='eps', dpi=1000)\n",
    "plt.show()\n"
   ]
  },
  {
   "attachments": {},
   "cell_type": "markdown",
   "metadata": {},
   "source": [
    "## t-test for Stereotype Activation"
   ]
  },
  {
   "cell_type": "code",
   "execution_count": 44,
   "metadata": {},
   "outputs": [
    {
     "name": "stdout",
     "output_type": "stream",
     "text": [
      "stereotype_activation 0 1 SM SM\n",
      "t stats: 1.7535 p-value 0.0827\n",
      "df: 95.0000\n",
      "mean group1 0.1736\n",
      "mean group1 0.0816\n",
      "std group1 0.2965\n",
      "std group2 0.2079\n",
      "Check if s1/s2 falls into 0.5 to 2.0: 1.4261813037351738\n",
      "Cohens d: 0.3598 95% CI: [-0.0419, 0.7586]\n"
     ]
    }
   ],
   "source": [
    "# RELU penetrated bias: non-asian SM vs asian SM\n",
    "_,p_value_sa_01_SM,_,_ = t_test(df = XNLP_full_data_quant_processed_green, metric='stereotype_activation', asian_flag1=0,asian_flag2=1, condition1='SM', condition2='SM')"
   ]
  },
  {
   "cell_type": "code",
   "execution_count": 45,
   "metadata": {},
   "outputs": [
    {
     "name": "stderr",
     "output_type": "stream",
     "text": [
      "The PostScript backend does not support transparency; partially transparent artists will be rendered opaque.\n"
     ]
    },
    {
     "name": "stdout",
     "output_type": "stream",
     "text": [
      "SM_Non-Asian vs. SM_Asian: Custom statistical test, P_val:8.274e-02\n"
     ]
    },
    {
     "data": {
      "image/png": "[encoded data removed]",
      "text/plain": [
       "<Figure size 640x480 with 1 Axes>"
      ]
     },
     "metadata": {},
     "output_type": "display_data"
    }
   ],
   "source": [
    "\n",
    "from statannotations.Annotator import Annotator\n",
    "\n",
    "custom_params = {\"axes.spines.right\": False, \"axes.spines.top\": False}\n",
    "sns.set_theme(style=\"ticks\", rc=custom_params)\n",
    "\n",
    "plotting_parameters = {\n",
    "    'data':XNLP_full_data_quant_processed_green.replace({\"Asian_race\" : {1 : \"Asian\", 0 : \"Non-Asian\"}}),\n",
    "    'x':'Explanation_style',\n",
    "    'y':'stereotype_activation', \n",
    "    'hue':'Asian_race',\n",
    "    'hue_order': [\"Non-Asian\", \"Asian\"],\n",
    "}\n",
    "\n",
    "ax = sns.boxplot(**plotting_parameters)\n",
    "\n",
    "\n",
    "pairs = [[('SM', 'Non-Asian'),('SM', 'Asian')]]\n",
    "\n",
    "pvalues = [p_value_sa_01_SM]\n",
    "\n",
    "# Transform each p-value to \"p=\" in scientific notation\n",
    "formatted_pvalues = [f'p={pvalue:.2e}' for pvalue in pvalues]\n",
    "\n",
    "annotator = Annotator(ax, pairs, **plotting_parameters)\n",
    "annotator.configure(text_format=\"simple\")\n",
    "annotator.set_pvalues_and_annotate(pvalues)\n",
    "\n",
    "labels = ['No Explanation', 'Saliency','Counterfactual']\n",
    "ax.set_xticklabels(labels)\n",
    "box = ax.get_position()\n",
    "ax.set_position([box.x0, box.y0, box.width * 0.8, box.height])\n",
    "ax.legend(loc='center left', bbox_to_anchor=(1, 0.5))\n",
    "ax.legend_.set_title('Race')\n",
    "plt.xlabel('Explanation Style')\n",
    "plt.ylabel('Stereotype Activation')\n",
    "# plt.title('Penetrated bias under three experiment conditions') # You can change the title here\n",
    "plt.savefig('plot/stereotype_activation_experiments_asian_full_study.eps', format='eps', dpi=1000)\n",
    "plt.show()"
   ]
  },
  {
   "attachments": {},
   "cell_type": "markdown",
   "metadata": {},
   "source": [
    "## t-test for mental discomfort"
   ]
  },
  {
   "attachments": {},
   "cell_type": "markdown",
   "metadata": {},
   "source": [
    "### t-test for mental discomfort (non-Asian v.ss Asian under same condition)"
   ]
  },
  {
   "cell_type": "code",
   "execution_count": 46,
   "metadata": {},
   "outputs": [
    {
     "name": "stdout",
     "output_type": "stream",
     "text": [
      "mental_discomfort 0 1 NE NE\n",
      "t stats: -0.1781 p-value 0.8590\n",
      "df: 91.0000\n",
      "mean group1 3.3125\n",
      "mean group1 3.5333\n",
      "std group1 6.0213\n",
      "std group2 5.7912\n",
      "Check if s1/s2 falls into 0.5 to 2.0: 1.0397426517355435\n",
      "Cohens d: -0.0374 95% CI: [-0.4495, 0.3828]\n"
     ]
    },
    {
     "data": {
      "text/plain": [
       "(-0.17809905676374382,\n",
       " 0.8590410554895014,\n",
       " -0.03735863561851055,\n",
       " array([-0.44951036,  0.38283053]))"
      ]
     },
     "execution_count": 46,
     "metadata": {},
     "output_type": "execute_result"
    }
   ],
   "source": [
    "# non asian NE vs non asian NE\n",
    "t_test(df = XNLP_full_data_quant_processed_green, metric='mental_discomfort', asian_flag1=0,asian_flag2=1, condition1='NE', condition2='NE')\n"
   ]
  },
  {
   "cell_type": "code",
   "execution_count": 47,
   "metadata": {},
   "outputs": [
    {
     "name": "stdout",
     "output_type": "stream",
     "text": [
      "mental_discomfort 1 0 CE CE\n",
      "t stats: 2.0370 p-value 0.0446\n",
      "df: 91.0000\n",
      "mean group1 4.1087\n",
      "mean group1 1.7447\n",
      "std group1 5.2138\n",
      "std group2 5.8327\n",
      "Check if s1/s2 falls into 0.5 to 2.0: 0.8938996096065013\n",
      "Cohens d: 0.4271 95% CI: [0.0465, 0.8022]\n"
     ]
    }
   ],
   "source": [
    "# non asian CF vs asian CF\n",
    "_,md_01_CE_p_value,_,_ = t_test(df = XNLP_full_data_quant_processed_green, metric='mental_discomfort', asian_flag1=1,asian_flag2=0, condition1='CE', condition2='CE')"
   ]
  },
  {
   "cell_type": "code",
   "execution_count": 48,
   "metadata": {},
   "outputs": [
    {
     "name": "stdout",
     "output_type": "stream",
     "text": [
      "mental_discomfort 0 1 SM SM\n",
      "t stats: -0.1465 p-value 0.8838\n",
      "df: 95.0000\n",
      "mean group1 1.6250\n",
      "mean group1 1.7755\n",
      "std group1 4.7065\n",
      "std group2 5.2848\n",
      "Check if s1/s2 falls into 0.5 to 2.0: 0.8905695847922018\n",
      "Cohens d: -0.0301 95% CI: [-0.4556, 0.3566]\n"
     ]
    },
    {
     "data": {
      "text/plain": [
       "(-0.1464867497592246,\n",
       " 0.883847553774223,\n",
       " -0.030059668358020993,\n",
       " array([-0.45564212,  0.35657389]))"
      ]
     },
     "execution_count": 48,
     "metadata": {},
     "output_type": "execute_result"
    }
   ],
   "source": [
    "# non asian SM vs asian SM\n",
    "t_test(df = XNLP_full_data_quant_processed_green, metric='mental_discomfort', asian_flag1=0,asian_flag2=1, condition1='SM', condition2='SM')\n"
   ]
  },
  {
   "attachments": {},
   "cell_type": "markdown",
   "metadata": {},
   "source": [
    "### t-test for mental discomfort (Asian under different conditions)"
   ]
  },
  {
   "cell_type": "code",
   "execution_count": 49,
   "metadata": {},
   "outputs": [
    {
     "name": "stdout",
     "output_type": "stream",
     "text": [
      "mental_discomfort 1 1 NE CE\n",
      "t stats: -0.4928 p-value 0.6234\n",
      "df: 89.0000\n",
      "mean group1 3.5333\n",
      "mean group1 4.1087\n",
      "std group1 5.7912\n",
      "std group2 5.2138\n",
      "Check if s1/s2 falls into 0.5 to 2.0: 1.1107383305935292\n",
      "Cohens d: -0.1045 95% CI: [-0.5533, 0.3081]\n"
     ]
    },
    {
     "data": {
      "text/plain": [
       "(-0.4928030422782947,\n",
       " 0.6233654041266847,\n",
       " -0.10448169612792972,\n",
       " array([-0.55331008,  0.30806008]))"
      ]
     },
     "execution_count": 49,
     "metadata": {},
     "output_type": "execute_result"
    }
   ],
   "source": [
    "# asian NE vs asian CF\n",
    "t_test(df = XNLP_full_data_quant_processed_green, metric='mental_discomfort', asian_flag1=1,asian_flag2=1, condition1='NE', condition2='CE')"
   ]
  },
  {
   "cell_type": "code",
   "execution_count": 50,
   "metadata": {},
   "outputs": [
    {
     "name": "stdout",
     "output_type": "stream",
     "text": [
      "mental_discomfort 1 1 NE SM\n",
      "t stats: 1.5222 p-value 0.1314\n",
      "df: 92.0000\n",
      "mean group1 3.5333\n",
      "mean group1 1.7755\n",
      "std group1 5.7912\n",
      "std group2 5.2848\n",
      "Check if s1/s2 falls into 0.5 to 2.0: 1.0958167213558718\n",
      "Cohens d: 0.3177 95% CI: [-0.0864, 0.7095]\n"
     ]
    },
    {
     "data": {
      "text/plain": [
       "(1.5222444173536829,\n",
       " 0.1313777432657464,\n",
       " 0.3177111337169478,\n",
       " array([-0.08637323,  0.70952701]))"
      ]
     },
     "execution_count": 50,
     "metadata": {},
     "output_type": "execute_result"
    }
   ],
   "source": [
    "# asian NE vs asian SM\n",
    "t_test(df = XNLP_full_data_quant_processed_green, metric='mental_discomfort', asian_flag1=1,asian_flag2=1, condition1='NE', condition2='SM')"
   ]
  },
  {
   "attachments": {},
   "cell_type": "markdown",
   "metadata": {},
   "source": [
    "Significant result"
   ]
  },
  {
   "cell_type": "code",
   "execution_count": 51,
   "metadata": {},
   "outputs": [
    {
     "name": "stdout",
     "output_type": "stream",
     "text": [
      "mental_discomfort 1 1 CE SM\n",
      "t stats: 2.1416 p-value 0.0348\n",
      "df: 93.0000\n",
      "mean group1 4.1087\n",
      "mean group1 1.7755\n",
      "std group1 5.2138\n",
      "std group2 5.2848\n",
      "Check if s1/s2 falls into 0.5 to 2.0: 0.9865660445609327\n",
      "Cohens d: 0.4444 95% CI: [0.0573, 0.8395]\n"
     ]
    }
   ],
   "source": [
    "# asian CF vs asian SM\n",
    "_,md_asian_CE_SM_p_value,_,_= t_test(df = XNLP_full_data_quant_processed_green, metric='mental_discomfort', asian_flag1=1,asian_flag2=1, condition1='CE', condition2='SM')"
   ]
  },
  {
   "attachments": {},
   "cell_type": "markdown",
   "metadata": {
    "tags": []
   },
   "source": [
    "### t-test for mental discomfort (non-Asian under different conditions)"
   ]
  },
  {
   "cell_type": "code",
   "execution_count": 52,
   "metadata": {},
   "outputs": [
    {
     "name": "stdout",
     "output_type": "stream",
     "text": [
      "mental_discomfort 0 0 NE CE\n",
      "t stats: 1.2750 p-value 0.2055\n",
      "df: 93.0000\n",
      "mean group1 3.3125\n",
      "mean group1 1.7447\n",
      "std group1 6.0213\n",
      "std group2 5.8327\n",
      "Check if s1/s2 falls into 0.5 to 2.0: 1.0323485843484956\n",
      "Cohens d: 0.2644 95% CI: [-0.1433, 0.6396]\n"
     ]
    },
    {
     "data": {
      "text/plain": [
       "(1.2750311731729962,\n",
       " 0.2054743691268536,\n",
       " 0.2644428459417832,\n",
       " array([-0.14325267,  0.63961327]))"
      ]
     },
     "execution_count": 52,
     "metadata": {},
     "output_type": "execute_result"
    }
   ],
   "source": [
    "# non-asian NE vs non-asian CF\n",
    "t_test(df = XNLP_full_data_quant_processed_green, metric='mental_discomfort', asian_flag1=0,asian_flag2=0, condition1='NE', condition2='CE')"
   ]
  },
  {
   "cell_type": "code",
   "execution_count": 53,
   "metadata": {},
   "outputs": [
    {
     "name": "stdout",
     "output_type": "stream",
     "text": [
      "mental_discomfort 0 0 NE SM\n",
      "t stats: 1.5138 p-value 0.1334\n",
      "df: 94.0000\n",
      "mean group1 3.3125\n",
      "mean group1 1.6250\n",
      "std group1 6.0213\n",
      "std group2 4.7065\n",
      "Check if s1/s2 falls into 0.5 to 2.0: 1.279369297060099\n",
      "Cohens d: 0.3123 95% CI: [-0.0953, 0.7079]\n"
     ]
    },
    {
     "data": {
      "text/plain": [
       "(1.5137641229748433,\n",
       " 0.13344087492275367,\n",
       " 0.31226569565211243,\n",
       " array([-0.09534142,  0.70792651]))"
      ]
     },
     "execution_count": 53,
     "metadata": {},
     "output_type": "execute_result"
    }
   ],
   "source": [
    "# non-asian NE vs non-asian SM\n",
    "t_test(df = XNLP_full_data_quant_processed_green, metric='mental_discomfort', asian_flag1=0,asian_flag2=0, condition1='NE', condition2='SM')"
   ]
  },
  {
   "cell_type": "code",
   "execution_count": 54,
   "metadata": {},
   "outputs": [
    {
     "name": "stdout",
     "output_type": "stream",
     "text": [
      "mental_discomfort 0 0 CE SM\n",
      "t stats: 0.1090 p-value 0.9134\n",
      "df: 93.0000\n",
      "mean group1 1.7447\n",
      "mean group1 1.6250\n",
      "std group1 5.8327\n",
      "std group2 4.7065\n",
      "Check if s1/s2 falls into 0.5 to 2.0: 1.2392803326867499\n",
      "Cohens d: 0.0226 95% CI: [-0.3653, 0.4888]\n"
     ]
    },
    {
     "data": {
      "text/plain": [
       "(0.10900707256962397,\n",
       " 0.9134317384703404,\n",
       " 0.022608808225389236,\n",
       " array([-0.36528265,  0.4887836 ]))"
      ]
     },
     "execution_count": 54,
     "metadata": {},
     "output_type": "execute_result"
    }
   ],
   "source": [
    "# non-asian CF vs non-asian SM\n",
    "t_test(df = XNLP_full_data_quant_processed_green, metric='mental_discomfort', asian_flag1=0,asian_flag2=0, condition1='CE', condition2='SM')"
   ]
  },
  {
   "cell_type": "code",
   "execution_count": 55,
   "metadata": {},
   "outputs": [
    {
     "name": "stderr",
     "output_type": "stream",
     "text": [
      "The PostScript backend does not support transparency; partially transparent artists will be rendered opaque.\n"
     ]
    },
    {
     "name": "stdout",
     "output_type": "stream",
     "text": [
      "CE_Non-Asian vs. CE_Asian: Custom statistical test, P_val:4.456e-02\n",
      "SM_Asian vs. CE_Asian: Custom statistical test, P_val:3.484e-02\n"
     ]
    },
    {
     "data": {
      "image/png": "[encoded data removed]",
      "text/plain": [
       "<Figure size 640x480 with 1 Axes>"
      ]
     },
     "metadata": {},
     "output_type": "display_data"
    }
   ],
   "source": [
    "from statannotations.Annotator import Annotator\n",
    "\n",
    "custom_params = {\"axes.spines.right\": False, \"axes.spines.top\": False}\n",
    "sns.set_theme(style=\"ticks\", rc=custom_params)\n",
    "\n",
    "plotting_parameters = {\n",
    "    'data':XNLP_full_data_quant_processed_green.replace({\"Asian_race\" : {1 : \"Asian\", 0 : \"Non-Asian\"}}),\n",
    "    'x':'Explanation_style',\n",
    "    'y':'mental_discomfort', \n",
    "    'hue':'Asian_race',\n",
    "    'hue_order': [\"Non-Asian\", \"Asian\"],\n",
    "}\n",
    "\n",
    "ax = sns.boxplot(**plotting_parameters)\n",
    "\n",
    "\n",
    "pairs = [[('CE', 'Non-Asian'),('CE', 'Asian')],\n",
    "         [('CE', 'Asian'),('SM', 'Asian')]]\n",
    "\n",
    "pvalues = [md_01_CE_p_value, md_asian_CE_SM_p_value]\n",
    "\n",
    "# Transform each p-value to \"p=\" in scientific notation\n",
    "formatted_pvalues = [f'p={pvalue:.2e}' for pvalue in pvalues]\n",
    "\n",
    "annotator = Annotator(ax, pairs, **plotting_parameters)\n",
    "annotator.configure(text_format=\"simple\")\n",
    "annotator.set_pvalues_and_annotate(pvalues)\n",
    "\n",
    "labels = ['No Explanation', 'Saliency','Counterfactual']\n",
    "ax.set_xticklabels(labels)\n",
    "box = ax.get_position()\n",
    "ax.set_position([box.x0, box.y0, box.width * 0.8, box.height])\n",
    "ax.legend(loc='center left', bbox_to_anchor=(1, 0.5))\n",
    "ax.legend_.set_title('Race')\n",
    "plt.xlabel('Explanation Style')\n",
    "plt.ylabel('Mental discomfort')\n",
    "# plt.title('Mental discomfort measures under three experiment conditions') # You can change the title here\n",
    "plt.savefig('plot/mental_discomfort_experiments_asian_full_study.eps', format='eps', dpi=1000)\n",
    "plt.show()"
   ]
  },
  {
   "attachments": {},
   "cell_type": "markdown",
   "metadata": {},
   "source": [
    "## t-test for duration"
   ]
  },
  {
   "attachments": {},
   "cell_type": "markdown",
   "metadata": {},
   "source": [
    "### t-test for duration (non-Asian vs Asian under same condition)"
   ]
  },
  {
   "cell_type": "code",
   "execution_count": 56,
   "metadata": {},
   "outputs": [
    {
     "name": "stdout",
     "output_type": "stream",
     "text": [
      "label_time 0 1 NE NE\n",
      "t stats: 1.1803 p-value 0.2410\n",
      "df: 91.0000\n",
      "mean group1 217.6059\n",
      "mean group1 191.4187\n",
      "std group1 117.0353\n",
      "std group2 92.2588\n",
      "Check if s1/s2 falls into 0.5 to 2.0: 1.2685537924928127\n",
      "Cohens d: 0.2476 95% CI: [-0.151, 0.6478]\n"
     ]
    },
    {
     "data": {
      "text/plain": [
       "(1.180253490273188,\n",
       " 0.24097539685978814,\n",
       " 0.24755687737797447,\n",
       " array([-0.15101806,  0.64781164]))"
      ]
     },
     "execution_count": 56,
     "metadata": {},
     "output_type": "execute_result"
    }
   ],
   "source": [
    "# non asian NE vs asian NE\n",
    "t_test(df = XNLP_full_data_quant_processed_green, metric='label_time', asian_flag1=0,asian_flag2=1, condition1='NE', condition2='NE')\n"
   ]
  },
  {
   "cell_type": "code",
   "execution_count": 57,
   "metadata": {},
   "outputs": [
    {
     "name": "stdout",
     "output_type": "stream",
     "text": [
      "label_time 0 1 CE CE\n",
      "t stats: 2.5587 p-value 0.0122\n",
      "df: 91.0000\n",
      "mean group1 349.3864\n",
      "mean group1 256.9960\n",
      "std group1 196.7625\n",
      "std group2 142.8468\n",
      "Check if s1/s2 falls into 0.5 to 2.0: 1.377436912737826\n",
      "Cohens d: 0.5365 95% CI: [0.1451, 0.9367]\n"
     ]
    }
   ],
   "source": [
    "# non asian CF vs asian CF\n",
    "_,label_01_CE_p_value,_,_ = t_test(df = XNLP_full_data_quant_processed_green, metric='label_time', asian_flag1=0,asian_flag2=1, condition1='CE', condition2='CE')\n"
   ]
  },
  {
   "cell_type": "code",
   "execution_count": 58,
   "metadata": {},
   "outputs": [
    {
     "name": "stdout",
     "output_type": "stream",
     "text": [
      "label_time 0 1 SM SM\n",
      "t stats: 0.8285 p-value 0.4094\n",
      "df: 95.0000\n",
      "mean group1 290.5648\n",
      "mean group1 254.3265\n",
      "std group1 165.6505\n",
      "std group2 251.0964\n",
      "Check if s1/s2 falls into 0.5 to 2.0: 0.6597085536571647\n",
      "Cohens d: 0.1700 95% CI: [-0.2032, 0.7567]\n"
     ]
    },
    {
     "data": {
      "text/plain": [
       "(0.8285396680742162,\n",
       " 0.40944171467391943,\n",
       " 0.1700145571151379,\n",
       " array([-0.2031837 ,  0.75667231]))"
      ]
     },
     "execution_count": 58,
     "metadata": {},
     "output_type": "execute_result"
    }
   ],
   "source": [
    "# non asian SM vs asian SM\n",
    "t_test(df = XNLP_full_data_quant_processed_green, metric='label_time', asian_flag1=0,asian_flag2=1, condition1='SM', condition2='SM')\n"
   ]
  },
  {
   "attachments": {},
   "cell_type": "markdown",
   "metadata": {},
   "source": [
    "### t-test for duration (Asian under different conditions)"
   ]
  },
  {
   "cell_type": "code",
   "execution_count": 59,
   "metadata": {},
   "outputs": [
    {
     "name": "stdout",
     "output_type": "stream",
     "text": [
      "label_time 1 1 NE CE\n",
      "t stats: -2.5666 p-value 0.0119\n",
      "df: 89.0000\n",
      "mean group1 191.4187\n",
      "mean group1 256.9960\n",
      "std group1 92.2588\n",
      "std group2 142.8468\n",
      "Check if s1/s2 falls into 0.5 to 2.0: 0.6458587015170965\n",
      "Cohens d: -0.5441 95% CI: [-0.9309, -0.1753]\n"
     ]
    }
   ],
   "source": [
    "# asian NE vs asian CF\n",
    "_,label_11_NE_CE_p_value,_,_ = t_test(df = XNLP_full_data_quant_processed_green, metric='label_time', asian_flag1=1,asian_flag2=1, condition1='NE', condition2='CE')"
   ]
  },
  {
   "cell_type": "code",
   "execution_count": 60,
   "metadata": {},
   "outputs": [
    {
     "name": "stdout",
     "output_type": "stream",
     "text": [
      "label_time 1 1 NE SM\n",
      "t stats: -1.5683 p-value 0.1203\n",
      "df: 92.0000\n",
      "mean group1 191.4187\n",
      "mean group1 254.3265\n",
      "std group1 92.2588\n",
      "std group2 251.0964\n",
      "Check if s1/s2 falls into 0.5 to 2.0: 0.3674239450874339\n",
      "Cohens d: -0.3272 95% CI: [-0.5852, 0.0318]\n"
     ]
    },
    {
     "data": {
      "text/plain": [
       "(-1.5682712717290663,\n",
       " 0.12025105617575771,\n",
       " -0.3271919415132122,\n",
       " array([-0.58516075,  0.031777  ]))"
      ]
     },
     "execution_count": 60,
     "metadata": {},
     "output_type": "execute_result"
    }
   ],
   "source": [
    "# asian NE vs asian SM\n",
    "t_test(df = XNLP_full_data_quant_processed_green, metric='label_time', asian_flag1=1,asian_flag2=1, condition1='NE', condition2='SM')"
   ]
  },
  {
   "cell_type": "code",
   "execution_count": 61,
   "metadata": {},
   "outputs": [
    {
     "name": "stdout",
     "output_type": "stream",
     "text": [
      "label_time 1 1 CE SM\n",
      "t stats: 0.0625 p-value 0.9503\n",
      "df: 93.0000\n",
      "mean group1 256.9960\n",
      "mean group1 254.3265\n",
      "std group1 142.8468\n",
      "std group2 251.0964\n",
      "Check if s1/s2 falls into 0.5 to 2.0: 0.5688921496673648\n",
      "Cohens d: 0.0130 95% CI: [-0.3176, 0.5643]\n"
     ]
    },
    {
     "data": {
      "text/plain": [
       "(0.062478413861021036,\n",
       " 0.9503159359145126,\n",
       " 0.012961671950732888,\n",
       " array([-0.31764839,  0.56426894]))"
      ]
     },
     "execution_count": 61,
     "metadata": {},
     "output_type": "execute_result"
    }
   ],
   "source": [
    "# asian CF vs asian SM\n",
    "t_test(df = XNLP_full_data_quant_processed_green, metric='label_time', asian_flag1=1,asian_flag2=1, condition1='CE', condition2='SM')"
   ]
  },
  {
   "attachments": {},
   "cell_type": "markdown",
   "metadata": {},
   "source": [
    "### t-test for duration (non-Asian under different conditions)"
   ]
  },
  {
   "cell_type": "code",
   "execution_count": 62,
   "metadata": {},
   "outputs": [
    {
     "name": "stdout",
     "output_type": "stream",
     "text": [
      "label_time 0 0 NE CE\n",
      "t stats: -3.9349 p-value 0.0002\n",
      "df: 93.0000\n",
      "mean group1 217.6059\n",
      "mean group1 349.3864\n",
      "std group1 117.0353\n",
      "std group2 196.7625\n",
      "Check if s1/s2 falls into 0.5 to 2.0: 0.5948051033390148\n",
      "Cohens d: -0.8161 95% CI: [-1.1831, -0.4694]\n"
     ]
    }
   ],
   "source": [
    "# non-asian NE vs non-asian CF\n",
    "_,label_nonasian_NE_CE_p_value,_,_ = t_test(df = XNLP_full_data_quant_processed_green, metric='label_time', asian_flag1=0,asian_flag2=0, condition1='NE', condition2='CE')"
   ]
  },
  {
   "cell_type": "code",
   "execution_count": 63,
   "metadata": {},
   "outputs": [
    {
     "name": "stdout",
     "output_type": "stream",
     "text": [
      "label_time 0 0 NE SM\n",
      "t stats: -2.4661 p-value 0.0155\n",
      "df: 94.0000\n",
      "mean group1 217.6059\n",
      "mean group1 290.5648\n",
      "std group1 117.0353\n",
      "std group2 165.6505\n",
      "Check if s1/s2 falls into 0.5 to 2.0: 0.7065196235663106\n",
      "Cohens d: -0.5087 95% CI: [-0.8943, -0.1369]\n"
     ]
    }
   ],
   "source": [
    "# non-asian NE vs non-asian SM\n",
    "_,label_nonasian_NE_SM_p_value,_,_  = t_test(df = XNLP_full_data_quant_processed_green, metric='label_time', asian_flag1=0,asian_flag2=0, condition1='NE', condition2='SM')"
   ]
  },
  {
   "cell_type": "code",
   "execution_count": 64,
   "metadata": {},
   "outputs": [
    {
     "name": "stdout",
     "output_type": "stream",
     "text": [
      "label_time 0 0 CE SM\n",
      "t stats: 1.5608 p-value 0.1220\n",
      "df: 93.0000\n",
      "mean group1 349.3864\n",
      "mean group1 290.5648\n",
      "std group1 196.7625\n",
      "std group2 165.6505\n",
      "Check if s1/s2 falls into 0.5 to 2.0: 1.187817017036626\n",
      "Cohens d: 0.3237 95% CI: [-0.0807, 0.7181]\n"
     ]
    },
    {
     "data": {
      "text/plain": [
       "(1.5607943737749477,\n",
       " 0.12196890764666395,\n",
       " 0.32371786504032474,\n",
       " array([-0.08072343,  0.71814776]))"
      ]
     },
     "execution_count": 64,
     "metadata": {},
     "output_type": "execute_result"
    }
   ],
   "source": [
    "# non-asian CF vs non-asian SM\n",
    "t_test(df = XNLP_full_data_quant_processed_green, metric='label_time', asian_flag1=0,asian_flag2=0, condition1='CE', condition2='SM')"
   ]
  },
  {
   "cell_type": "code",
   "execution_count": 65,
   "metadata": {},
   "outputs": [
    {
     "name": "stderr",
     "output_type": "stream",
     "text": [
      "The PostScript backend does not support transparency; partially transparent artists will be rendered opaque.\n"
     ]
    },
    {
     "name": "stdout",
     "output_type": "stream",
     "text": [
      "CE_Non-Asian vs. CE_Asian: Custom statistical test, P_val:1.216e-02\n"
     ]
    },
    {
     "data": {
      "image/png": "[encoded data removed]",
      "text/plain": [
       "<Figure size 640x480 with 1 Axes>"
      ]
     },
     "metadata": {},
     "output_type": "display_data"
    }
   ],
   "source": [
    "from statannotations.Annotator import Annotator\n",
    "\n",
    "custom_params = {\"axes.spines.right\": False, \"axes.spines.top\": False}\n",
    "sns.set_theme(style=\"ticks\", rc=custom_params)\n",
    "\n",
    "plotting_parameters = {\n",
    "    'data':XNLP_full_data_quant_processed_green.replace({\"Asian_race\" : {1 : \"Asian\", 0 : \"Non-Asian\"}}),\n",
    "    'x':'Explanation_style',\n",
    "    'y':'label_time', \n",
    "    'hue':'Asian_race',\n",
    "    'hue_order': [\"Non-Asian\", \"Asian\"],\n",
    "}\n",
    "\n",
    "ax = sns.boxplot(**plotting_parameters)\n",
    "\n",
    "\n",
    "pairs = [[('CE', 'Non-Asian'),('CE', 'Asian')]]\n",
    "\n",
    "pvalues = [label_01_CE_p_value]\n",
    "   # Transform each p-value to \"p=\" in scientific notation\n",
    "formatted_pvalues = [f'p={pvalue:.2e}' for pvalue in pvalues]\n",
    "\n",
    "annotator = Annotator(ax, pairs, **plotting_parameters)\n",
    "annotator.configure(text_format=\"simple\")\n",
    "annotator.set_pvalues_and_annotate(pvalues)\n",
    "\n",
    "labels = ['No Explanation', 'Saliency','Counterfactual']\n",
    "ax.set_xticklabels(labels)\n",
    "box = ax.get_position()\n",
    "ax.set_position([box.x0, box.y0, box.width * 0.8, box.height])\n",
    "ax.legend(loc='center left', bbox_to_anchor=(1, 0.5))\n",
    "ax.legend_.set_title('Race')\n",
    "plt.xlabel('Explanation Style')\n",
    "plt.ylabel('Label time [seconds]')\n",
    "# plt.title('Completion time under three experiment conditions') # You can change the title here\n",
    "plt.savefig('plot/duration_experiments_asian_full_study.eps', format='eps', dpi=1000)\n",
    "plt.show()\n"
   ]
  },
  {
   "attachments": {},
   "cell_type": "markdown",
   "metadata": {},
   "source": [
    "## t-test for perceived workload"
   ]
  },
  {
   "cell_type": "code",
   "execution_count": 66,
   "metadata": {},
   "outputs": [
    {
     "name": "stdout",
     "output_type": "stream",
     "text": [
      "perceived_workload 0 1 NE NE\n",
      "t stats: -2.0720 p-value 0.0411\n",
      "df: 91.0000\n",
      "mean group1 3.1042\n",
      "mean group1 3.4370\n",
      "std group1 0.6343\n",
      "std group2 0.8849\n",
      "Check if s1/s2 falls into 0.5 to 2.0: 0.7167993242621014\n",
      "Cohens d: -0.4347 95% CI: [-0.8516, -0.0218]\n"
     ]
    }
   ],
   "source": [
    "# non asian NE vs asian NE\n",
    "_,workload_01_NE_p_value,_,_ = t_test(df = XNLP_full_data_quant_processed_green, metric='perceived_workload', asian_flag1=0,asian_flag2=1, condition1='NE', condition2='NE')\n"
   ]
  },
  {
   "cell_type": "code",
   "execution_count": 67,
   "metadata": {},
   "outputs": [
    {
     "name": "stdout",
     "output_type": "stream",
     "text": [
      "perceived_workload 0 1 SM SM\n",
      "t stats: -1.4646 p-value 0.1463\n",
      "df: 95.0000\n",
      "mean group1 3.2257\n",
      "mean group1 3.4796\n",
      "std group1 0.7558\n",
      "std group2 0.9238\n",
      "Check if s1/s2 falls into 0.5 to 2.0: 0.8181348414402054\n",
      "Cohens d: -0.3005 95% CI: [-0.7362, 0.1001]\n"
     ]
    },
    {
     "data": {
      "text/plain": [
       "(-1.4645653812633204,\n",
       " 0.14634103969019296,\n",
       " -0.3005319998442764,\n",
       " array([-0.73618181,  0.10011518]))"
      ]
     },
     "execution_count": 67,
     "metadata": {},
     "output_type": "execute_result"
    }
   ],
   "source": [
    "# non asian SM vs asian SM\n",
    "t_test(df = XNLP_full_data_quant_processed_green, metric='perceived_workload', asian_flag1=0,asian_flag2=1, condition1='SM', condition2='SM')"
   ]
  },
  {
   "cell_type": "code",
   "execution_count": 68,
   "metadata": {},
   "outputs": [
    {
     "name": "stdout",
     "output_type": "stream",
     "text": [
      "perceived_workload 0 1 CE CE\n",
      "t stats: -1.3441 p-value 0.1823\n",
      "df: 91.0000\n",
      "mean group1 3.3369\n",
      "mean group1 3.5870\n",
      "std group1 0.9086\n",
      "std group2 0.8651\n",
      "Check if s1/s2 falls into 0.5 to 2.0: 1.0502807985481308\n",
      "Cohens d: -0.2818 95% CI: [-0.7145, 0.129]\n"
     ]
    },
    {
     "data": {
      "text/plain": [
       "(-1.3440699698020508,\n",
       " 0.18226713338114275,\n",
       " -0.2818082943256562,\n",
       " array([-0.71447809,  0.12895813]))"
      ]
     },
     "execution_count": 68,
     "metadata": {},
     "output_type": "execute_result"
    }
   ],
   "source": [
    "# non asian CE vs asian CE\n",
    "t_test(df = XNLP_full_data_quant_processed_green, metric='perceived_workload', asian_flag1=0,asian_flag2=1, condition1='CE', condition2='CE')"
   ]
  },
  {
   "cell_type": "code",
   "execution_count": 69,
   "metadata": {},
   "outputs": [
    {
     "name": "stderr",
     "output_type": "stream",
     "text": [
      "The PostScript backend does not support transparency; partially transparent artists will be rendered opaque.\n"
     ]
    },
    {
     "name": "stdout",
     "output_type": "stream",
     "text": [
      "NE_Non-Asian vs. NE_Asian: Custom statistical test, P_val:4.110e-02\n"
     ]
    },
    {
     "data": {
      "image/png": "[encoded data removed]",
      "text/plain": [
       "<Figure size 640x480 with 1 Axes>"
      ]
     },
     "metadata": {},
     "output_type": "display_data"
    }
   ],
   "source": [
    "from statannotations.Annotator import Annotator\n",
    "\n",
    "custom_params = {\"axes.spines.right\": False, \"axes.spines.top\": False}\n",
    "sns.set_theme(style=\"ticks\", rc=custom_params)\n",
    "\n",
    "plotting_parameters = {\n",
    "    'data':XNLP_full_data_quant_processed_green.replace({\"Asian_race\" : {1 : \"Asian\", 0 : \"Non-Asian\"}}),\n",
    "    'x':'Explanation_style',\n",
    "    'y':'perceived_workload', \n",
    "    'hue':'Asian_race',\n",
    "    'hue_order': [\"Non-Asian\", \"Asian\"],\n",
    "}\n",
    "\n",
    "ax = sns.boxplot(**plotting_parameters)\n",
    "\n",
    "\n",
    "pairs = [[('NE', 'Non-Asian'),('NE', 'Asian')]]\n",
    "\n",
    "pvalues = [workload_01_NE_p_value]\n",
    "    \n",
    "# Transform each p-value to \"p=\" in scientific notation\n",
    "formatted_pvalues = [f'p={pvalue:.2e}' for pvalue in pvalues]\n",
    "\n",
    "annotator = Annotator(ax, pairs, **plotting_parameters)\n",
    "annotator.configure(text_format=\"simple\")\n",
    "annotator.set_pvalues_and_annotate(pvalues)\n",
    "\n",
    "labels = ['No Explanation', 'Saliency','Counterfactual']\n",
    "ax.set_xticklabels(labels)\n",
    "box = ax.get_position()\n",
    "ax.set_position([box.x0, box.y0, box.width * 0.8, box.height])\n",
    "ax.legend(loc='center left', bbox_to_anchor=(1, 0.5))\n",
    "ax.legend_.set_title('Race')\n",
    "plt.xlabel('Explanation Style')\n",
    "plt.ylabel('Perceived workload')\n",
    "# plt.title('Perceived workload under three experiment conditions') # You can change the title here\n",
    "plt.savefig('plot/workload_experiments_asian_full_study.eps', format='eps', dpi=1000)\n",
    "plt.show()"
   ]
  },
  {
   "attachments": {},
   "cell_type": "markdown",
   "metadata": {},
   "source": [
    "# Ratio Estimation"
   ]
  },
  {
   "cell_type": "code",
   "execution_count": 70,
   "metadata": {},
   "outputs": [],
   "source": [
    "def prop_error(df, metric, asian_flag1,asian_flag2, condition1, condition2):\n",
    "    condition1_metric = df[(df.Explanation_style==condition1) & (df.Asian_race==asian_flag1)][metric].dropna()\n",
    "    condition2_metric = df[(df.Explanation_style==condition2) & (df.Asian_race==asian_flag2)][metric].dropna()\n",
    "    avg_condition1_metric = np.mean(condition1_metric)\n",
    "    avg_condition2_metric = np.mean(condition2_metric)\n",
    "    std_condition1_metric = np.std(condition1_metric)\n",
    "    std_condition2_metric = np.std(condition2_metric)\n",
    "    prop_mean = avg_condition1_metric/avg_condition2_metric\n",
    "    #prop_std = prop_mean*np.sqrt((std_condition1_metric/avg_condition1_metric)**2 + (std_condition2_metric/avg_condition2_metric)**2)\n",
    "    prop_std = prop_mean*np.sqrt((std_condition1_metric/avg_condition1_metric)**2 + (std_condition2_metric/avg_condition2_metric)**2)\n",
    "    prop_ci = (prop_mean - 1.96*prop_std/np.sqrt(len(condition1_metric)), prop_mean + 1.96*prop_std/np.sqrt(len(condition2_metric)))\n",
    "    print('The propagated errors of {} for {}: mean {}, standard deviation {},\\n95% confidence interval {}'.format(metric, condition1, prop_mean, prop_std, prop_ci))\n",
    "    return prop_mean, prop_std"
   ]
  },
  {
   "attachments": {},
   "cell_type": "markdown",
   "metadata": {},
   "source": [
    "## Accuracy"
   ]
  },
  {
   "cell_type": "code",
   "execution_count": 71,
   "metadata": {},
   "outputs": [
    {
     "name": "stdout",
     "output_type": "stream",
     "text": [
      "The propagated errors of accuracy for NE: mean 1.006741572799394, standard deviation 0.33314994730020236,\n",
      "95% confidence interval (0.9094019714278673, 1.1009902365589919)\n"
     ]
    }
   ],
   "source": [
    "# asian NE vs non asian NE\n",
    "prop_mean , prop_std = prop_error(df = XNLP_full_data_quant_processed_green, metric='accuracy', asian_flag1=1,asian_flag2=0, condition1='NE', condition2='NE')"
   ]
  },
  {
   "cell_type": "code",
   "execution_count": 72,
   "metadata": {},
   "outputs": [
    {
     "name": "stdout",
     "output_type": "stream",
     "text": [
      "The propagated errors of accuracy for CE: mean 1.0385578816379752, standard deviation 0.38432227206802394,\n",
      "95% confidence interval (0.9274940355662713, 1.1484338449353768)\n"
     ]
    }
   ],
   "source": [
    "# asian CE vs non asian CE\n",
    "prop_mean , prop_std = prop_error(df = XNLP_full_data_quant_processed_green, metric='accuracy', asian_flag1=1,asian_flag2=0, condition1='CE', condition2='CE')"
   ]
  },
  {
   "cell_type": "code",
   "execution_count": 73,
   "metadata": {},
   "outputs": [
    {
     "name": "stdout",
     "output_type": "stream",
     "text": [
      "The propagated errors of accuracy for SM: mean 1.0303854875909095, standard deviation 0.3167138939261349,\n",
      "95% confidence interval (0.9417055972915918, 1.1199843650289403)\n"
     ]
    }
   ],
   "source": [
    "# asian SM vs non asian SM\n",
    "prop_mean , prop_std = prop_error(df = XNLP_full_data_quant_processed_green, metric='accuracy', asian_flag1=1,asian_flag2=0, condition1='SM', condition2='SM')"
   ]
  },
  {
   "attachments": {},
   "cell_type": "markdown",
   "metadata": {},
   "source": [
    "## Stereotype Activation"
   ]
  },
  {
   "cell_type": "code",
   "execution_count": 74,
   "metadata": {},
   "outputs": [
    {
     "name": "stdout",
     "output_type": "stream",
     "text": [
      "The propagated errors of stereotype_activation for NE: mean 0.853333333248, standard deviation 2.463361149043944,\n",
      "95% confidence interval (0.1335895835484847, 1.5502222222787756)\n"
     ]
    }
   ],
   "source": [
    "# asian NE vs non asian NE\n",
    "prop_mean , prop_std = prop_error(df = XNLP_full_data_quant_processed_green, metric='stereotype_activation', asian_flag1=1,asian_flag2=0, condition1='NE', condition2='NE')"
   ]
  },
  {
   "cell_type": "code",
   "execution_count": 75,
   "metadata": {},
   "outputs": [
    {
     "name": "stdout",
     "output_type": "stream",
     "text": [
      "The propagated errors of stereotype_activation for CE: mean 1.061036789506239, standard deviation 2.638364721568949,\n",
      "95% confidence interval (0.298585704533774, 1.8153330829590384)\n"
     ]
    }
   ],
   "source": [
    "# asian CE vs non asian CE\n",
    "prop_mean , prop_std = prop_error(df = XNLP_full_data_quant_processed_green, metric='stereotype_activation', asian_flag1=1,asian_flag2=0, condition1='CE', condition2='CE')"
   ]
  },
  {
   "cell_type": "code",
   "execution_count": 76,
   "metadata": {},
   "outputs": [
    {
     "name": "stdout",
     "output_type": "stream",
     "text": [
      "The propagated errors of stereotype_activation for SM: mean 0.4702040816467591, standard deviation 1.4418416282367548,\n",
      "95% confidence interval (0.0664884257404677, 0.8781034312204955)\n"
     ]
    }
   ],
   "source": [
    "# asian SM vs non asian SM\n",
    "prop_mean , prop_std = prop_error(df = XNLP_full_data_quant_processed_green, metric='stereotype_activation', asian_flag1=1,asian_flag2=0, condition1='SM', condition2='SM')"
   ]
  },
  {
   "attachments": {},
   "cell_type": "markdown",
   "metadata": {},
   "source": [
    "## Mental discomfort"
   ]
  },
  {
   "cell_type": "code",
   "execution_count": 77,
   "metadata": {},
   "outputs": [
    {
     "name": "stdout",
     "output_type": "stream",
     "text": [
      "The propagated errors of mental_discomfort for NE: mean 1.0666666666666667, standard deviation 2.610747100338185,\n",
      "95% confidence interval (0.3038597561802251, 1.8052512818381468)\n"
     ]
    }
   ],
   "source": [
    "# asian NE vs non asian NE\n",
    "prop_mean , prop_std = prop_error(df = XNLP_full_data_quant_processed_green, metric='mental_discomfort', asian_flag1=1,asian_flag2=0, condition1='NE', condition2='NE')"
   ]
  },
  {
   "cell_type": "code",
   "execution_count": 78,
   "metadata": {},
   "outputs": [
    {
     "name": "stdout",
     "output_type": "stream",
     "text": [
      "The propagated errors of mental_discomfort for CE: mean 2.354984093319194, standard deviation 8.421058394052062,\n",
      "95% confidence interval (-0.07858585880756497, 4.762525810980483)\n"
     ]
    }
   ],
   "source": [
    "# asian CE vs non asian CE\n",
    "prop_mean , prop_std = prop_error(df = XNLP_full_data_quant_processed_green, metric='mental_discomfort', asian_flag1=1,asian_flag2=0, condition1='CE', condition2='CE')"
   ]
  },
  {
   "cell_type": "code",
   "execution_count": 79,
   "metadata": {},
   "outputs": [
    {
     "name": "stdout",
     "output_type": "stream",
     "text": [
      "The propagated errors of mental_discomfort for SM: mean 1.0926216640502355, standard deviation 4.537751152313693,\n",
      "95% confidence interval (-0.17794865859759867, 2.3763588702091196)\n"
     ]
    }
   ],
   "source": [
    "# asian SM vs non asian SM\n",
    "prop_mean , prop_std = prop_error(df = XNLP_full_data_quant_processed_green, metric='mental_discomfort', asian_flag1=1,asian_flag2=0, condition1='SM', condition2='SM')"
   ]
  },
  {
   "attachments": {},
   "cell_type": "markdown",
   "metadata": {},
   "source": [
    "## Duration"
   ]
  },
  {
   "cell_type": "code",
   "execution_count": 80,
   "metadata": {},
   "outputs": [
    {
     "name": "stdout",
     "output_type": "stream",
     "text": [
      "The propagated errors of label_time for NE: mean 0.879657640505745, standard deviation 0.6352820011859822,\n",
      "95% confidence interval (0.6940412318733078, 1.05937995535981)\n"
     ]
    }
   ],
   "source": [
    "# asian NE vs non asian NE\n",
    "prop_mean , prop_std = prop_error(df = XNLP_full_data_quant_processed_green, metric='label_time', asian_flag1=1,asian_flag2=0, condition1='NE', condition2='NE')"
   ]
  },
  {
   "cell_type": "code",
   "execution_count": 81,
   "metadata": {},
   "outputs": [
    {
     "name": "stdout",
     "output_type": "stream",
     "text": [
      "The propagated errors of label_time for CE: mean 0.7355638078102197, standard deviation 0.5820284517860598,\n",
      "95% confidence interval (0.5673655974106997, 0.9019630551459801)\n"
     ]
    }
   ],
   "source": [
    "# asian CE vs non asian CE\n",
    "prop_mean , prop_std = prop_error(df = XNLP_full_data_quant_processed_green, metric='label_time', asian_flag1=1,asian_flag2=0, condition1='CE', condition2='CE')"
   ]
  },
  {
   "cell_type": "code",
   "execution_count": 82,
   "metadata": {},
   "outputs": [
    {
     "name": "stdout",
     "output_type": "stream",
     "text": [
      "The propagated errors of label_time for SM: mean 0.8752832464088447, standard deviation 0.9978889756776907,\n",
      "95% confidence interval (0.5958743332190912, 1.1575876660859934)\n"
     ]
    }
   ],
   "source": [
    "# asian SM vs non asian SM\n",
    "prop_mean , prop_std = prop_error(df = XNLP_full_data_quant_processed_green, metric='label_time', asian_flag1=1,asian_flag2=0, condition1='SM', condition2='SM')"
   ]
  },
  {
   "attachments": {},
   "cell_type": "markdown",
   "metadata": {},
   "source": [
    "## Workload"
   ]
  },
  {
   "cell_type": "code",
   "execution_count": 83,
   "metadata": {},
   "outputs": [
    {
     "name": "stdout",
     "output_type": "stream",
     "text": [
      "The propagated errors of perceived_workload for NE: mean 1.107233407928956, standard deviation 0.36394592735511233,\n",
      "95% confidence interval (1.000895850992126, 1.2101943047021377)\n"
     ]
    }
   ],
   "source": [
    "# asian NE vs non asian NE\n",
    "prop_mean , prop_std = prop_error(df = XNLP_full_data_quant_processed_green, metric='perceived_workload', asian_flag1=1,asian_flag2=0, condition1='NE', condition2='NE')"
   ]
  },
  {
   "cell_type": "code",
   "execution_count": 84,
   "metadata": {},
   "outputs": [
    {
     "name": "stdout",
     "output_type": "stream",
     "text": [
      "The propagated errors of perceived_workload for CE: mean 1.0749433997494093, standard deviation 0.3910241418458018,\n",
      "95% confidence interval (0.9619428055694408, 1.1867353966759957)\n"
     ]
    }
   ],
   "source": [
    "# asian CE vs non asian CE\n",
    "prop_mean , prop_std = prop_error(df = XNLP_full_data_quant_processed_green, metric='perceived_workload', asian_flag1=1,asian_flag2=0, condition1='CE', condition2='CE')"
   ]
  },
  {
   "cell_type": "code",
   "execution_count": 85,
   "metadata": {},
   "outputs": [
    {
     "name": "stdout",
     "output_type": "stream",
     "text": [
      "The propagated errors of perceived_workload for SM: mean 1.0787109246355622, standard deviation 0.3819486771115674,\n",
      "95% confidence interval (0.9717652950443233, 1.1867648286935848)\n"
     ]
    }
   ],
   "source": [
    "# asian NE vs non asian NE\n",
    "prop_mean , prop_std = prop_error(df = XNLP_full_data_quant_processed_green, metric='perceived_workload', asian_flag1=1,asian_flag2=0, condition1='SM', condition2='SM')"
   ]
  },
  {
   "cell_type": "markdown",
   "metadata": {},
   "source": [
    "## Rationales"
   ]
  },
  {
   "cell_type": "code",
   "execution_count": 86,
   "metadata": {},
   "outputs": [],
   "source": [
    "# insert new columns to keep track of presence of rationales\n",
    "\n",
    "data = XNLP_full_data_quant_processed_green.assign(isRat1=0, isRat2=0, isRat3=0, isRat4=0, isRat5=0, isRat6=0, isRat7=0,\n",
    "                         isRat8=0, isRat9=0, isRat10=0, isRat11=0, isRat12=0)\n",
    "\n",
    "data.loc[data['Rationale1'].isnull() == False, 'isRat1'] = 1\n",
    "data.loc[data['Rationale2'].isnull() == False, 'isRat2'] = 1\n",
    "data.loc[data['Rationale3'].isnull() == False, 'isRat3'] = 1\n",
    "data.loc[data['Rationale4'].isnull() == False, 'isRat4'] = 1\n",
    "data.loc[data['Rationale5'].isnull() == False, 'isRat5'] = 1\n",
    "data.loc[data['Rationale6'].isnull() == False, 'isRat6'] = 1\n",
    "data.loc[data['Rationale7'].isnull() == False, 'isRat7'] = 1\n",
    "data.loc[data['Rationale8'].isnull() == False, 'isRat8'] = 1\n",
    "data.loc[data['Rationale9'].isnull() == False, 'isRat9'] = 1\n",
    "data.loc[data['Rationale10'].isnull() == False, 'isRat10'] = 1\n",
    "data.loc[data['Rationale11'].isnull() == False, 'isRat11'] = 1\n",
    "data.loc[data['Rationale12'].isnull() == False, 'isRat12'] = 1\n",
    "\n",
    "# add a column for sum of rationales present\n",
    "\n",
    "data['rationaleSum'] = data[['isRat1', 'isRat2', 'isRat3', 'isRat4', 'isRat5', 'isRat6', 'isRat7',\n",
    "                         'isRat8', 'isRat9', 'isRat10', 'isRat11', 'isRat12']].sum(axis=1)"
   ]
  },
  {
   "cell_type": "markdown",
   "metadata": {},
   "source": [
    "### t-tests for Explanation Type"
   ]
  },
  {
   "cell_type": "code",
   "execution_count": 87,
   "metadata": {},
   "outputs": [],
   "source": [
    "rationales_NE = data[data.Explanation_style=='NE']['rationaleSum']\n",
    "rationales_SM = data[data.Explanation_style=='SM']['rationaleSum']\n",
    "rationales_CE = data[data.Explanation_style=='CE']['rationaleSum']"
   ]
  },
  {
   "cell_type": "code",
   "execution_count": 88,
   "metadata": {},
   "outputs": [
    {
     "data": {
      "text/plain": [
       "Ttest_indResult(statistic=-0.9024074696936998, pvalue=0.3680202417373498)"
      ]
     },
     "execution_count": 88,
     "metadata": {},
     "output_type": "execute_result"
    }
   ],
   "source": [
    "stats.ttest_ind(rationales_NE, rationales_CE)"
   ]
  },
  {
   "cell_type": "code",
   "execution_count": 89,
   "metadata": {},
   "outputs": [
    {
     "data": {
      "text/plain": [
       "Ttest_indResult(statistic=-0.8624933705720809, pvalue=0.38951494859850655)"
      ]
     },
     "execution_count": 89,
     "metadata": {},
     "output_type": "execute_result"
    }
   ],
   "source": [
    "stats.ttest_ind(rationales_NE, rationales_SM)"
   ]
  },
  {
   "cell_type": "code",
   "execution_count": 90,
   "metadata": {},
   "outputs": [
    {
     "data": {
      "text/plain": [
       "Ttest_indResult(statistic=-0.04714584016813662, pvalue=0.9624470372208237)"
      ]
     },
     "execution_count": 90,
     "metadata": {},
     "output_type": "execute_result"
    }
   ],
   "source": [
    "stats.ttest_ind(rationales_SM, rationales_CE)"
   ]
  },
  {
   "cell_type": "markdown",
   "metadata": {},
   "source": [
    "### t-tests for Race"
   ]
  },
  {
   "cell_type": "code",
   "execution_count": 91,
   "metadata": {},
   "outputs": [
    {
     "name": "stdout",
     "output_type": "stream",
     "text": [
      "rationaleSum 0 1 NE NE\n",
      "t stats: -0.0074 p-value 0.9941\n",
      "df: 91.0000\n",
      "mean group1 3.4375\n",
      "mean group1 3.4444\n",
      "std group1 4.6454\n",
      "std group2 4.2976\n",
      "Check if s1/s2 falls into 0.5 to 2.0: 1.0809277536710846\n",
      "Cohens d: -0.0015 95% CI: [-0.4281, 0.4218]\n"
     ]
    },
    {
     "data": {
      "text/plain": [
       "(-0.007388909226135404,\n",
       " 0.9941207313593289,\n",
       " -0.0015499003701349395,\n",
       " array([-0.42812458,  0.42183622]))"
      ]
     },
     "execution_count": 91,
     "metadata": {},
     "output_type": "execute_result"
    }
   ],
   "source": [
    "t_test(df = data, metric='rationaleSum', asian_flag1=0,asian_flag2=1, condition1='NE', condition2='NE')"
   ]
  },
  {
   "cell_type": "code",
   "execution_count": 92,
   "metadata": {},
   "outputs": [
    {
     "name": "stdout",
     "output_type": "stream",
     "text": [
      "rationaleSum 0 1 CE CE\n",
      "t stats: -0.9296 p-value 0.3550\n",
      "df: 91.0000\n",
      "mean group1 3.5957\n",
      "mean group1 4.5435\n",
      "std group1 4.6295\n",
      "std group2 5.0892\n",
      "Check if s1/s2 falls into 0.5 to 2.0: 0.9096668251451938\n"
     ]
    },
    {
     "name": "stdout",
     "output_type": "stream",
     "text": [
      "Cohens d: -0.1949 95% CI: [-0.6367, 0.2184]\n"
     ]
    },
    {
     "data": {
      "text/plain": [
       "(-0.9296236587842072,\n",
       " 0.35502545367442906,\n",
       " -0.19491552164678022,\n",
       " array([-0.63666931,  0.21835362]))"
      ]
     },
     "execution_count": 92,
     "metadata": {},
     "output_type": "execute_result"
    }
   ],
   "source": [
    "t_test(df = data, metric='rationaleSum', asian_flag1=0,asian_flag2=1, condition1='CE', condition2='CE')"
   ]
  },
  {
   "cell_type": "code",
   "execution_count": 93,
   "metadata": {},
   "outputs": [
    {
     "name": "stdout",
     "output_type": "stream",
     "text": [
      "rationaleSum 0 1 SM SM\n",
      "t stats: -0.4321 p-value 0.6666\n",
      "df: 95.0000\n",
      "mean group1 3.8125\n",
      "mean group1 4.2449\n",
      "std group1 4.6532\n",
      "std group2 5.0851\n",
      "Check if s1/s2 falls into 0.5 to 2.0: 0.9150644772449333\n",
      "Cohens d: -0.0887 95% CI: [-0.4995, 0.3155]\n"
     ]
    },
    {
     "data": {
      "text/plain": [
       "(-0.4321289763961053,\n",
       " 0.6666269408324857,\n",
       " -0.08867485630733968,\n",
       " array([-0.49949693,  0.31552692]))"
      ]
     },
     "execution_count": 93,
     "metadata": {},
     "output_type": "execute_result"
    }
   ],
   "source": [
    "t_test(df = data, metric='rationaleSum', asian_flag1=0,asian_flag2=1, condition1='SM', condition2='SM')"
   ]
  },
  {
   "cell_type": "markdown",
   "metadata": {},
   "source": [
    "### Rationale Plots"
   ]
  },
  {
   "cell_type": "code",
   "execution_count": 94,
   "metadata": {},
   "outputs": [
    {
     "data": {
      "image/png": "[encoded data removed]",
      "text/plain": [
       "<Figure size 640x480 with 1 Axes>"
      ]
     },
     "metadata": {},
     "output_type": "display_data"
    }
   ],
   "source": [
    "custom_params = {\"axes.spines.right\": False, \"axes.spines.top\": False}\n",
    "sns.set_theme(style=\"ticks\", rc=custom_params)\n",
    "\n",
    "plotting_parameters = {\n",
    "    'data':data,\n",
    "    'x':'Explanation_style',\n",
    "    'y':'rationaleSum'\n",
    "}\n",
    "\n",
    "ax = sns.boxplot(**plotting_parameters)\n",
    "\n",
    "labels = ['No Explanation', 'Saliency','Counterfactual']\n",
    "ax.set_xticklabels(labels)\n",
    "plt.xlabel('Explanation Style')\n",
    "plt.ylabel('Total Number of Rationales (Labeling)')\n",
    "plt.savefig('plot/numRationales_experiments_full_study.eps', format='eps', dpi=1000)\n",
    "plt.show()"
   ]
  },
  {
   "cell_type": "code",
   "execution_count": 95,
   "metadata": {},
   "outputs": [
    {
     "name": "stderr",
     "output_type": "stream",
     "text": [
      "The PostScript backend does not support transparency; partially transparent artists will be rendered opaque.\n"
     ]
    },
    {
     "data": {
      "image/png": "[encoded data removed]",
      "text/plain": [
       "<Figure size 640x480 with 1 Axes>"
      ]
     },
     "metadata": {},
     "output_type": "display_data"
    }
   ],
   "source": [
    "custom_params = {\"axes.spines.right\": False, \"axes.spines.top\": False}\n",
    "sns.set_theme(style=\"ticks\", rc=custom_params)\n",
    "ax = sns.boxplot(\n",
    "    data=data.replace({\"Asian_race\" : {1 : \"Asian\", 0 : \"Non-Asian\"}}), x=\"Explanation_style\", y=\"rationaleSum\", hue=\"Asian_race\", hue_order=[\"Non-Asian\", \"Asian\"])\n",
    "labels = ['No Explanation', 'Saliency','Counterfactual']\n",
    "box = ax.get_position()\n",
    "ax.set_position([box.x0, box.y0, box.width * 0.8, box.height])\n",
    "ax.legend(loc='center left', bbox_to_anchor=(1, 0.5))\n",
    "ax.legend_.set_title('Race')\n",
    "ax.set_xticklabels(labels)\n",
    "plt.xlabel('Explanation Style')\n",
    "plt.ylabel('Total Number of Rationales (Labeling)')\n",
    "plt.savefig('plot/numRationales_experiments_asian_full_study.eps', format='eps', dpi=1000)\n",
    "plt.show()"
   ]
  },
  {
   "cell_type": "code",
   "execution_count": 96,
   "metadata": {},
   "outputs": [],
   "source": [
    "# Calculate the number of rationales left per question --> dies off as experiment continues\n",
    "\n",
    "isRats = ['isRat1', 'isRat2', 'isRat3', 'isRat4', 'isRat5', 'isRat6', 'isRat7', 'isRat8', 'isRat9', 'isRat10', 'isRat11', 'isRat12']\n",
    "num_per_question_all = []\n",
    "\n",
    "for rat in isRats:\n",
    "  num_per_question_all.append(data[rat].sum())\n",
    "\n",
    "percent_rationales = []\n",
    "for num in num_per_question_all:\n",
    "  percent_rationales.append((num/283)*100)\n",
    "\n",
    "questions = [\"LT1\", \"LT2\", \"LT3\", \"LT4\", \"LT5\", \"LT6\", \"LT7\", \"LT8\", \"LT9\", \"LT10\", \"LT11\", \"LT12\"]"
   ]
  },
  {
   "cell_type": "code",
   "execution_count": 97,
   "metadata": {},
   "outputs": [],
   "source": [
    "rationale_plot = pd.DataFrame({'questions': questions, 'percent_rationales': percent_rationales})"
   ]
  },
  {
   "cell_type": "code",
   "execution_count": 98,
   "metadata": {},
   "outputs": [
    {
     "data": {
      "text/html": [
       "<div>\n",
       "<style scoped>\n",
       "    .dataframe tbody tr th:only-of-type {\n",
       "        vertical-align: middle;\n",
       "    }\n",
       "\n",
       "    .dataframe tbody tr th {\n",
       "        vertical-align: top;\n",
       "    }\n",
       "\n",
       "    .dataframe thead th {\n",
       "        text-align: right;\n",
       "    }\n",
       "</style>\n",
       "<table border=\"1\" class=\"dataframe\">\n",
       "  <thead>\n",
       "    <tr style=\"text-align: right;\">\n",
       "      <th></th>\n",
       "      <th>questions</th>\n",
       "      <th>percent_rationales</th>\n",
       "    </tr>\n",
       "  </thead>\n",
       "  <tbody>\n",
       "    <tr>\n",
       "      <th>0</th>\n",
       "      <td>LT1</td>\n",
       "      <td>43.816254</td>\n",
       "    </tr>\n",
       "    <tr>\n",
       "      <th>1</th>\n",
       "      <td>LT2</td>\n",
       "      <td>35.335689</td>\n",
       "    </tr>\n",
       "    <tr>\n",
       "      <th>2</th>\n",
       "      <td>LT3</td>\n",
       "      <td>44.169611</td>\n",
       "    </tr>\n",
       "    <tr>\n",
       "      <th>3</th>\n",
       "      <td>LT4</td>\n",
       "      <td>35.689046</td>\n",
       "    </tr>\n",
       "    <tr>\n",
       "      <th>4</th>\n",
       "      <td>LT5</td>\n",
       "      <td>29.328622</td>\n",
       "    </tr>\n",
       "    <tr>\n",
       "      <th>5</th>\n",
       "      <td>LT6</td>\n",
       "      <td>28.975265</td>\n",
       "    </tr>\n",
       "    <tr>\n",
       "      <th>6</th>\n",
       "      <td>LT7</td>\n",
       "      <td>32.155477</td>\n",
       "    </tr>\n",
       "    <tr>\n",
       "      <th>7</th>\n",
       "      <td>LT8</td>\n",
       "      <td>28.268551</td>\n",
       "    </tr>\n",
       "    <tr>\n",
       "      <th>8</th>\n",
       "      <td>LT9</td>\n",
       "      <td>25.795053</td>\n",
       "    </tr>\n",
       "    <tr>\n",
       "      <th>9</th>\n",
       "      <td>LT10</td>\n",
       "      <td>27.915194</td>\n",
       "    </tr>\n",
       "    <tr>\n",
       "      <th>10</th>\n",
       "      <td>LT11</td>\n",
       "      <td>26.501767</td>\n",
       "    </tr>\n",
       "    <tr>\n",
       "      <th>11</th>\n",
       "      <td>LT12</td>\n",
       "      <td>26.855124</td>\n",
       "    </tr>\n",
       "  </tbody>\n",
       "</table>\n",
       "</div>"
      ],
      "text/plain": [
       "   questions  percent_rationales\n",
       "0        LT1           43.816254\n",
       "1        LT2           35.335689\n",
       "2        LT3           44.169611\n",
       "3        LT4           35.689046\n",
       "4        LT5           29.328622\n",
       "5        LT6           28.975265\n",
       "6        LT7           32.155477\n",
       "7        LT8           28.268551\n",
       "8        LT9           25.795053\n",
       "9       LT10           27.915194\n",
       "10      LT11           26.501767\n",
       "11      LT12           26.855124"
      ]
     },
     "execution_count": 98,
     "metadata": {},
     "output_type": "execute_result"
    }
   ],
   "source": [
    "rationale_plot"
   ]
  },
  {
   "cell_type": "code",
   "execution_count": 99,
   "metadata": {},
   "outputs": [
    {
     "data": {
      "image/png": "[encoded data removed]",
      "text/plain": [
       "<Figure size 500x500 with 1 Axes>"
      ]
     },
     "metadata": {},
     "output_type": "display_data"
    }
   ],
   "source": [
    "custom_params = {\"axes.spines.right\": False, \"axes.spines.top\": False}\n",
    "sns.set_theme(style=\"ticks\", rc=custom_params)\n",
    "ax = sns.catplot(\n",
    "    data=rationale_plot, x='questions', y='percent_rationales'\n",
    ")\n",
    "plt.xlabel('Labeling Task #')\n",
    "plt.ylabel('Percentage of Individuals Leaving a Rationale')\n",
    "plt.savefig('plot/rationale_per_task_experiments_full_study.eps', format='eps', dpi=1000)\n",
    "plt.show()"
   ]
  },
  {
   "cell_type": "markdown",
   "metadata": {},
   "source": [
    "### General Stats - Mean Number of Rationales left per Condition"
   ]
  },
  {
   "cell_type": "code",
   "execution_count": 100,
   "metadata": {},
   "outputs": [
    {
     "data": {
      "text/html": [
       "<div>\n",
       "<style scoped>\n",
       "    .dataframe tbody tr th:only-of-type {\n",
       "        vertical-align: middle;\n",
       "    }\n",
       "\n",
       "    .dataframe tbody tr th {\n",
       "        vertical-align: top;\n",
       "    }\n",
       "\n",
       "    .dataframe thead tr th {\n",
       "        text-align: left;\n",
       "    }\n",
       "</style>\n",
       "<table border=\"1\" class=\"dataframe\">\n",
       "  <thead>\n",
       "    <tr>\n",
       "      <th></th>\n",
       "      <th>Explanation_style</th>\n",
       "      <th colspan=\"3\" halign=\"left\">rationaleSum</th>\n",
       "    </tr>\n",
       "    <tr>\n",
       "      <th></th>\n",
       "      <th></th>\n",
       "      <th>mean</th>\n",
       "      <th>std</th>\n",
       "      <th>count</th>\n",
       "    </tr>\n",
       "  </thead>\n",
       "  <tbody>\n",
       "    <tr>\n",
       "      <th>0</th>\n",
       "      <td>CE</td>\n",
       "      <td>4.064516</td>\n",
       "      <td>4.911846</td>\n",
       "      <td>93</td>\n",
       "    </tr>\n",
       "    <tr>\n",
       "      <th>1</th>\n",
       "      <td>NE</td>\n",
       "      <td>3.440860</td>\n",
       "      <td>4.504738</td>\n",
       "      <td>93</td>\n",
       "    </tr>\n",
       "    <tr>\n",
       "      <th>2</th>\n",
       "      <td>SM</td>\n",
       "      <td>4.030928</td>\n",
       "      <td>4.906317</td>\n",
       "      <td>97</td>\n",
       "    </tr>\n",
       "  </tbody>\n",
       "</table>\n",
       "</div>"
      ],
      "text/plain": [
       "  Explanation_style rationaleSum                \n",
       "                            mean       std count\n",
       "0                CE     4.064516  4.911846    93\n",
       "1                NE     3.440860  4.504738    93\n",
       "2                SM     4.030928  4.906317    97"
      ]
     },
     "execution_count": 100,
     "metadata": {},
     "output_type": "execute_result"
    }
   ],
   "source": [
    "# Mean number of rationales left per condition\n",
    "group_conditions = data.groupby(['Explanation_style'],as_index=True).agg({\n",
    "                                                                    'rationaleSum': ['mean', 'std', 'count']}).reset_index(drop=False)\n",
    "\n",
    "group_conditions"
   ]
  },
  {
   "cell_type": "code",
   "execution_count": 101,
   "metadata": {},
   "outputs": [
    {
     "data": {
      "text/html": [
       "<div>\n",
       "<style scoped>\n",
       "    .dataframe tbody tr th:only-of-type {\n",
       "        vertical-align: middle;\n",
       "    }\n",
       "\n",
       "    .dataframe tbody tr th {\n",
       "        vertical-align: top;\n",
       "    }\n",
       "\n",
       "    .dataframe thead tr th {\n",
       "        text-align: left;\n",
       "    }\n",
       "</style>\n",
       "<table border=\"1\" class=\"dataframe\">\n",
       "  <thead>\n",
       "    <tr>\n",
       "      <th></th>\n",
       "      <th>Explanation_style</th>\n",
       "      <th>Asian_race</th>\n",
       "      <th colspan=\"3\" halign=\"left\">rationaleSum</th>\n",
       "    </tr>\n",
       "    <tr>\n",
       "      <th></th>\n",
       "      <th></th>\n",
       "      <th></th>\n",
       "      <th>mean</th>\n",
       "      <th>std</th>\n",
       "      <th>count</th>\n",
       "    </tr>\n",
       "  </thead>\n",
       "  <tbody>\n",
       "    <tr>\n",
       "      <th>0</th>\n",
       "      <td>CE</td>\n",
       "      <td>0</td>\n",
       "      <td>3.595745</td>\n",
       "      <td>4.679556</td>\n",
       "      <td>47</td>\n",
       "    </tr>\n",
       "    <tr>\n",
       "      <th>1</th>\n",
       "      <td>CE</td>\n",
       "      <td>1</td>\n",
       "      <td>4.543478</td>\n",
       "      <td>5.145468</td>\n",
       "      <td>46</td>\n",
       "    </tr>\n",
       "    <tr>\n",
       "      <th>2</th>\n",
       "      <td>NE</td>\n",
       "      <td>0</td>\n",
       "      <td>3.437500</td>\n",
       "      <td>4.694525</td>\n",
       "      <td>48</td>\n",
       "    </tr>\n",
       "    <tr>\n",
       "      <th>3</th>\n",
       "      <td>NE</td>\n",
       "      <td>1</td>\n",
       "      <td>3.444444</td>\n",
       "      <td>4.346135</td>\n",
       "      <td>45</td>\n",
       "    </tr>\n",
       "    <tr>\n",
       "      <th>4</th>\n",
       "      <td>SM</td>\n",
       "      <td>0</td>\n",
       "      <td>3.812500</td>\n",
       "      <td>4.702450</td>\n",
       "      <td>48</td>\n",
       "    </tr>\n",
       "    <tr>\n",
       "      <th>5</th>\n",
       "      <td>SM</td>\n",
       "      <td>1</td>\n",
       "      <td>4.244898</td>\n",
       "      <td>5.137812</td>\n",
       "      <td>49</td>\n",
       "    </tr>\n",
       "  </tbody>\n",
       "</table>\n",
       "</div>"
      ],
      "text/plain": [
       "  Explanation_style Asian_race rationaleSum                \n",
       "                                       mean       std count\n",
       "0                CE          0     3.595745  4.679556    47\n",
       "1                CE          1     4.543478  5.145468    46\n",
       "2                NE          0     3.437500  4.694525    48\n",
       "3                NE          1     3.444444  4.346135    45\n",
       "4                SM          0     3.812500  4.702450    48\n",
       "5                SM          1     4.244898  5.137812    49"
      ]
     },
     "execution_count": 101,
     "metadata": {},
     "output_type": "execute_result"
    }
   ],
   "source": [
    "# Mean number of rationales left by condition and race\n",
    "group_cond_race = data.groupby(['Explanation_style', 'Asian_race'],as_index=True).agg({\n",
    "                                                                    'rationaleSum': ['mean', 'std', 'count']}).reset_index(drop=False)\n",
    "\n",
    "group_cond_race"
   ]
  },
  {
   "cell_type": "markdown",
   "metadata": {},
   "source": [
    "### Chi-squared"
   ]
  },
  {
   "cell_type": "code",
   "execution_count": 102,
   "metadata": {},
   "outputs": [
    {
     "data": {
      "text/plain": [
       "Explanation_style  rationaleSum\n",
       "CE                 0               40\n",
       "                   1                7\n",
       "                   2                5\n",
       "                   3                5\n",
       "                   4                3\n",
       "                   5                5\n",
       "                   6                2\n",
       "                   7                1\n",
       "                   8                1\n",
       "                   9                1\n",
       "                   10               1\n",
       "                   11               1\n",
       "                   12              21\n",
       "NE                 0               43\n",
       "                   1                6\n",
       "                   2                8\n",
       "                   3                3\n",
       "                   4                6\n",
       "                   5                3\n",
       "                   6                2\n",
       "                   7                3\n",
       "                   8                2\n",
       "                   9                1\n",
       "                   10               0\n",
       "                   11               0\n",
       "                   12              16\n",
       "SM                 0               44\n",
       "                   1                7\n",
       "                   2                4\n",
       "                   3                3\n",
       "                   4                5\n",
       "                   5                3\n",
       "                   6                1\n",
       "                   7                3\n",
       "                   8                3\n",
       "                   9                2\n",
       "                   10               0\n",
       "                   11               1\n",
       "                   12              21\n",
       "dtype: int64"
      ]
     },
     "execution_count": 102,
     "metadata": {},
     "output_type": "execute_result"
    }
   ],
   "source": [
    "# Number of people who left each number of rationales by explanation style\n",
    "group_rationale_count = data.groupby(['Explanation_style', 'rationaleSum'])[\"rationaleSum\"].count().unstack(fill_value=0).stack()\n",
    "group_rationale_count"
   ]
  },
  {
   "cell_type": "code",
   "execution_count": 103,
   "metadata": {},
   "outputs": [],
   "source": [
    "rationale_count_CE = group_rationale_count[0:13].to_list()\n",
    "rationale_count_NE = group_rationale_count[13:26].to_list()\n",
    "rationale_count_SM = group_rationale_count[26:].to_list()"
   ]
  },
  {
   "cell_type": "code",
   "execution_count": 104,
   "metadata": {},
   "outputs": [
    {
     "data": {
      "text/plain": [
       "Chi2ContingencyResult(statistic=11.126562950594385, pvalue=0.9880803259916703, dof=24, expected_freq=array([[41.73498233,  6.57243816,  5.58657244,  3.61484099,  4.60070671,\n",
       "         3.61484099,  1.64310954,  2.30035336,  1.97173145,  1.31448763,\n",
       "         0.32862191,  0.65724382, 19.06007067],\n",
       "       [41.73498233,  6.57243816,  5.58657244,  3.61484099,  4.60070671,\n",
       "         3.61484099,  1.64310954,  2.30035336,  1.97173145,  1.31448763,\n",
       "         0.32862191,  0.65724382, 19.06007067],\n",
       "       [43.53003534,  6.85512367,  5.82685512,  3.77031802,  4.79858657,\n",
       "         3.77031802,  1.71378092,  2.39929329,  2.0565371 ,  1.37102473,\n",
       "         0.34275618,  0.68551237, 19.87985866]]))"
      ]
     },
     "execution_count": 104,
     "metadata": {},
     "output_type": "execute_result"
    }
   ],
   "source": [
    "# Chi-squared on number of people who left each number of rationale (ex. 0 rationales vs 1 rationale vs 12)\n",
    "chi_data = [rationale_count_CE, rationale_count_NE, rationale_count_SM]\n",
    "stats.chi2_contingency(chi_data)"
   ]
  },
  {
   "cell_type": "code",
   "execution_count": 105,
   "metadata": {},
   "outputs": [
    {
     "data": {
      "text/plain": [
       "Explanation_style  Asian_race  rationaleSum\n",
       "CE                 0           0               22\n",
       "                               1                3\n",
       "                               2                3\n",
       "                               3                3\n",
       "                               4                0\n",
       "                                               ..\n",
       "SM                 1           8                2\n",
       "                               9                0\n",
       "                               10               0\n",
       "                               11               0\n",
       "                               12              13\n",
       "Length: 78, dtype: int64"
      ]
     },
     "execution_count": 105,
     "metadata": {},
     "output_type": "execute_result"
    }
   ],
   "source": [
    "# Number of people who left each number of rationales by race and explanation type\n",
    "group_rationale_count_race = data.groupby(['Explanation_style', 'Asian_race', 'rationaleSum'])[\"rationaleSum\"].count().unstack(fill_value=0).stack()\n",
    "group_rationale_count_race"
   ]
  },
  {
   "cell_type": "code",
   "execution_count": 106,
   "metadata": {},
   "outputs": [],
   "source": [
    "def remove_zeros(lst1, lst2):\n",
    "  zero_idxs = []\n",
    "  for idx in range(13):\n",
    "    if lst1[idx] == 0 and lst2[idx] == 0:\n",
    "      zero_idxs.append(idx)\n",
    "\n",
    "  idx_offset = 0\n",
    "  for z_idx in zero_idxs:\n",
    "    del (lst1[z_idx - idx_offset])\n",
    "    del (lst2[z_idx - idx_offset])\n",
    "    idx_offset += 1"
   ]
  },
  {
   "cell_type": "code",
   "execution_count": 107,
   "metadata": {},
   "outputs": [],
   "source": [
    "rationale_count_CE_NonAsian = group_rationale_count_race[0:13].to_list()\n",
    "rationale_count_CE_Asian = group_rationale_count_race[13:26].to_list()\n",
    "rationale_count_NE_NonAsian = group_rationale_count_race[26:39].to_list()\n",
    "rationale_count_NE_Asian = group_rationale_count_race[39:52].to_list()\n",
    "rationale_count_SM_NonAsian = group_rationale_count_race[52:65].to_list()\n",
    "rationale_count_SM_Asian = group_rationale_count_race[65:].to_list()"
   ]
  },
  {
   "cell_type": "code",
   "execution_count": 108,
   "metadata": {},
   "outputs": [],
   "source": [
    "# must remove frequencies of zeros at same index in both arrays for chi-squared\n",
    "remove_zeros(rationale_count_NE_NonAsian, rationale_count_NE_Asian)\n",
    "remove_zeros(rationale_count_CE_NonAsian, rationale_count_CE_Asian)\n",
    "remove_zeros(rationale_count_SM_NonAsian, rationale_count_SM_Asian)"
   ]
  },
  {
   "cell_type": "code",
   "execution_count": 109,
   "metadata": {},
   "outputs": [
    {
     "data": {
      "text/plain": [
       "Chi2ContingencyResult(statistic=11.562012686665787, pvalue=0.4814640625499741, dof=12, expected_freq=array([[[20.21505376,  3.53763441,  2.52688172,  2.52688172,\n",
       "          1.51612903,  2.52688172,  1.01075269,  0.50537634,\n",
       "          0.50537634,  0.50537634,  0.50537634,  0.50537634,\n",
       "         10.61290323],\n",
       "        [19.78494624,  3.46236559,  2.47311828,  2.47311828,\n",
       "          1.48387097,  2.47311828,  0.98924731,  0.49462366,\n",
       "          0.49462366,  0.49462366,  0.49462366,  0.49462366,\n",
       "         10.38709677]]]))"
      ]
     },
     "execution_count": 109,
     "metadata": {},
     "output_type": "execute_result"
    }
   ],
   "source": [
    "# Chi-squared on Asian vs non-Asian in Counterfactual Explanation\n",
    "chi_data_CE = [[rationale_count_CE_NonAsian, rationale_count_CE_Asian]]\n",
    "stats.chi2_contingency(chi_data_CE)"
   ]
  },
  {
   "cell_type": "code",
   "execution_count": 110,
   "metadata": {},
   "outputs": [
    {
     "data": {
      "text/plain": [
       "Chi2ContingencyResult(statistic=8.743719718992248, pvalue=0.5565860468844865, dof=10, expected_freq=array([[22.19354839,  3.09677419,  4.12903226,  1.5483871 ,  3.09677419,\n",
       "         1.5483871 ,  1.03225806,  1.5483871 ,  1.03225806,  0.51612903,\n",
       "         8.25806452],\n",
       "       [20.80645161,  2.90322581,  3.87096774,  1.4516129 ,  2.90322581,\n",
       "         1.4516129 ,  0.96774194,  1.4516129 ,  0.96774194,  0.48387097,\n",
       "         7.74193548]]))"
      ]
     },
     "execution_count": 110,
     "metadata": {},
     "output_type": "execute_result"
    }
   ],
   "source": [
    "# Chi-squared on Asian vs non-Asian in No Explanation\n",
    "chi_data_NE = [rationale_count_NE_NonAsian, rationale_count_NE_Asian]\n",
    "stats.chi2_contingency(chi_data_NE)"
   ]
  },
  {
   "cell_type": "code",
   "execution_count": 111,
   "metadata": {},
   "outputs": [
    {
     "data": {
      "text/plain": [
       "Chi2ContingencyResult(statistic=10.524142573696146, pvalue=0.48394512295041225, dof=11, expected_freq=array([[21.77319588,  3.46391753,  1.97938144,  1.48453608,  2.4742268 ,\n",
       "         1.48453608,  0.49484536,  1.48453608,  1.48453608,  0.98969072,\n",
       "         0.49484536, 10.39175258],\n",
       "       [22.22680412,  3.53608247,  2.02061856,  1.51546392,  2.5257732 ,\n",
       "         1.51546392,  0.50515464,  1.51546392,  1.51546392,  1.01030928,\n",
       "         0.50515464, 10.60824742]]))"
      ]
     },
     "execution_count": 111,
     "metadata": {},
     "output_type": "execute_result"
    }
   ],
   "source": [
    "# Chi-squared on Asian vs non-Asian in Saliency Map\n",
    "chi_data_SM = [rationale_count_SM_NonAsian, rationale_count_SM_Asian]\n",
    "stats.chi2_contingency(chi_data_SM)"
   ]
  }
 ],
 "metadata": {
  "kernelspec": {
   "display_name": "Python 3 (ipykernel)",
   "language": "python",
   "name": "python3"
  },
  "language_info": {
   "codemirror_mode": {
    "name": "ipython",
    "version": 3
   },
   "file_extension": ".py",
   "mimetype": "text/x-python",
   "name": "python",
   "nbconvert_exporter": "python",
   "pygments_lexer": "ipython3",
   "version": "3.11.3"
  }
 },
 "nbformat": 4,
 "nbformat_minor": 4
}
